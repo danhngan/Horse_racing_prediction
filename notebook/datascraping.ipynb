{
 "cells": [
  {
   "cell_type": "code",
   "execution_count": 148,
   "metadata": {},
   "outputs": [],
   "source": [
    "import requests\n",
    "from bs4 import BeautifulSoup\n",
    "import time\n",
    "\n",
    "import pandas as pd\n",
    "import numpy as np"
   ]
  },
  {
   "cell_type": "markdown",
   "metadata": {},
   "source": [
    "# Missing data"
   ]
  },
  {
   "cell_type": "code",
   "execution_count": null,
   "metadata": {},
   "outputs": [],
   "source": [
    "df_origin = pd.read_csv('../data/historical_data/integrated_data.csv')\n",
    "df_origin.head()"
   ]
  },
  {
   "cell_type": "code",
   "execution_count": 34,
   "metadata": {},
   "outputs": [],
   "source": [
    "missing_df = df_origin[df_origin['racedate'].isna()]"
   ]
  },
  {
   "cell_type": "markdown",
   "metadata": {},
   "source": [
    "# Get race id"
   ]
  },
  {
   "cell_type": "code",
   "execution_count": 35,
   "metadata": {},
   "outputs": [],
   "source": [
    "def encode_raceid(return_date_only: bool = False): # -> str | pd.Timestamp: # python version >= 3.10\n",
    "    \"\"\"\n",
    "    return race id following format `yyyy-mm-dd racenum:racetrackid`\n",
    "    \"\"\"\n",
    "    def sub(row: pd.Series):\n",
    "\n",
    "        # retrieve date\n",
    "        year = str(row['id$Year'])\n",
    "        month = str(row['id$MonthDay']//100)\n",
    "        if len(month) < 2: month = '0' + month\n",
    "        day = str(row['id$MonthDay']%100)\n",
    "        if len(day) < 2: day = '0' + day\n",
    "\n",
    "        if return_date_only:\n",
    "            return pd.to_datetime(f'{year}-{month}-{day}')\n",
    "\n",
    "        # retrieve race id\n",
    "        racetrack_code = str(row['id$JyoCD'])\n",
    "        if len(racetrack_code) < 2: racetrack_code = '0' + racetrack_code\n",
    "        racenum = str(row['id$RaceNum'])\n",
    "        if len(racenum) < 2: racenum = '0' + racenum\n",
    "        \n",
    "        return f'{year}-{month}-{day} {racenum}:{racetrack_code}'\n",
    "\n",
    "    return sub"
   ]
  },
  {
   "cell_type": "code",
   "execution_count": 82,
   "metadata": {},
   "outputs": [],
   "source": [
    "SE_df = pd.read_pickle('../data/historical_data/SE.pickle')[['id$Year', 'id$MonthDay', 'id$JyoCD', 'id$Kaiji', 'id$Nichiji',\n",
    "       'id$RaceNum']]\n",
    "SE_df['raceid'] = SE_df.apply(encode_raceid(), axis=1)"
   ]
  },
  {
   "cell_type": "code",
   "execution_count": 83,
   "metadata": {},
   "outputs": [],
   "source": [
    "SE_df['id$JyoCD'] = SE_df['id$JyoCD'].apply(str)"
   ]
  },
  {
   "cell_type": "code",
   "execution_count": 84,
   "metadata": {},
   "outputs": [
    {
     "data": {
      "text/html": [
       "<div>\n",
       "<style scoped>\n",
       "    .dataframe tbody tr th:only-of-type {\n",
       "        vertical-align: middle;\n",
       "    }\n",
       "\n",
       "    .dataframe tbody tr th {\n",
       "        vertical-align: top;\n",
       "    }\n",
       "\n",
       "    .dataframe thead th {\n",
       "        text-align: right;\n",
       "    }\n",
       "</style>\n",
       "<table border=\"1\" class=\"dataframe\">\n",
       "  <thead>\n",
       "    <tr style=\"text-align: right;\">\n",
       "      <th></th>\n",
       "      <th>id$Year</th>\n",
       "      <th>id$MonthDay</th>\n",
       "      <th>id$JyoCD</th>\n",
       "      <th>id$Kaiji</th>\n",
       "      <th>id$Nichiji</th>\n",
       "      <th>id$RaceNum</th>\n",
       "    </tr>\n",
       "    <tr>\n",
       "      <th>raceid</th>\n",
       "      <th></th>\n",
       "      <th></th>\n",
       "      <th></th>\n",
       "      <th></th>\n",
       "      <th></th>\n",
       "      <th></th>\n",
       "    </tr>\n",
       "  </thead>\n",
       "  <tbody>\n",
       "    <tr>\n",
       "      <th>2008-01-05 01:06</th>\n",
       "      <td>2008</td>\n",
       "      <td>105</td>\n",
       "      <td>6</td>\n",
       "      <td>1</td>\n",
       "      <td>1</td>\n",
       "      <td>1</td>\n",
       "    </tr>\n",
       "    <tr>\n",
       "      <th>2008-01-05 01:08</th>\n",
       "      <td>2008</td>\n",
       "      <td>105</td>\n",
       "      <td>8</td>\n",
       "      <td>1</td>\n",
       "      <td>1</td>\n",
       "      <td>1</td>\n",
       "    </tr>\n",
       "    <tr>\n",
       "      <th>2008-01-05 02:06</th>\n",
       "      <td>2008</td>\n",
       "      <td>105</td>\n",
       "      <td>6</td>\n",
       "      <td>1</td>\n",
       "      <td>1</td>\n",
       "      <td>2</td>\n",
       "    </tr>\n",
       "    <tr>\n",
       "      <th>2008-01-05 02:08</th>\n",
       "      <td>2008</td>\n",
       "      <td>105</td>\n",
       "      <td>8</td>\n",
       "      <td>1</td>\n",
       "      <td>1</td>\n",
       "      <td>2</td>\n",
       "    </tr>\n",
       "    <tr>\n",
       "      <th>2008-01-05 03:06</th>\n",
       "      <td>2008</td>\n",
       "      <td>105</td>\n",
       "      <td>6</td>\n",
       "      <td>1</td>\n",
       "      <td>1</td>\n",
       "      <td>3</td>\n",
       "    </tr>\n",
       "  </tbody>\n",
       "</table>\n",
       "</div>"
      ],
      "text/plain": [
       "                  id$Year  id$MonthDay id$JyoCD  id$Kaiji  id$Nichiji  \\\n",
       "raceid                                                                  \n",
       "2008-01-05 01:06     2008          105        6         1           1   \n",
       "2008-01-05 01:08     2008          105        8         1           1   \n",
       "2008-01-05 02:06     2008          105        6         1           1   \n",
       "2008-01-05 02:08     2008          105        8         1           1   \n",
       "2008-01-05 03:06     2008          105        6         1           1   \n",
       "\n",
       "                  id$RaceNum  \n",
       "raceid                        \n",
       "2008-01-05 01:06           1  \n",
       "2008-01-05 01:08           1  \n",
       "2008-01-05 02:06           2  \n",
       "2008-01-05 02:08           2  \n",
       "2008-01-05 03:06           3  "
      ]
     },
     "execution_count": 84,
     "metadata": {},
     "output_type": "execute_result"
    }
   ],
   "source": [
    "SE_df = SE_df.groupby('raceid').agg({\n",
    "    'id$Year':'min', \n",
    "    'id$MonthDay':'min', \n",
    "    'id$JyoCD':'min', \n",
    "    'id$Kaiji':'min', \n",
    "    'id$Nichiji':'min',\n",
    "    'id$RaceNum':'min', \n",
    "})\n",
    "SE_df.head()"
   ]
  },
  {
   "cell_type": "code",
   "execution_count": 94,
   "metadata": {},
   "outputs": [],
   "source": [
    "missing_raceid = missing_df['raceid'].unique()"
   ]
  },
  {
   "cell_type": "markdown",
   "metadata": {},
   "source": [
    "# Crawl"
   ]
  },
  {
   "cell_type": "code",
   "execution_count": 5,
   "metadata": {},
   "outputs": [],
   "source": [
    "baseurl = 'https://jra.jp/JRAEN/AP/kaisai/running'\n",
    "params = {\n",
    "'raceYmd': '20180526', # YYYYmmdd\n",
    "'raceJoCd': '05', # Track code table 2001\n",
    "'raceYear': '', # empty string\n",
    "'raceKai': '02', #\n",
    "'raceHi': '11',\n",
    "'raceNo': '01', # race no\n",
    "}"
   ]
  },
  {
   "cell_type": "code",
   "execution_count": 128,
   "metadata": {},
   "outputs": [
    {
     "data": {
      "text/plain": [
       "{'raceid': [], 'Kyori': [], 'Track_type': [], 'Weather': []}"
      ]
     },
     "execution_count": 128,
     "metadata": {},
     "output_type": "execute_result"
    }
   ],
   "source": [
    "result = {'raceid':[], 'Kyori':[], 'Track_type':[], 'Weather':[]}\n",
    "result"
   ]
  },
  {
   "cell_type": "code",
   "execution_count": 161,
   "metadata": {},
   "outputs": [],
   "source": [
    "def process(raceinfo, raceid, result):\n",
    "    kyori = float(raceinfo[2][:-1])\n",
    "    track = raceinfo[3].strip(' ')\n",
    "    we = raceinfo[4].strip(' ')\n",
    "    result['raceid'].append(raceid)\n",
    "    result['Kyori'].append(kyori)\n",
    "    result['Track_type'].append(track)\n",
    "    result['Weather'].append(we)"
   ]
  },
  {
   "cell_type": "code",
   "execution_count": null,
   "metadata": {},
   "outputs": [],
   "source": [
    "empty_data = []\n",
    "i = 0\n",
    "for race in missing_raceid:\n",
    "    print(i)\n",
    "    i += 1\n",
    "    raceYmd = str(SE_df.loc[race, 'id$Year'])\n",
    "    if len(str(SE_df.loc[race, 'id$MonthDay'])) < 4:\n",
    "        raceYmd += '0' + str(SE_df.loc[race, 'id$MonthDay'])\n",
    "    else:\n",
    "        raceYmd += str(SE_df.loc[race, 'id$MonthDay'])\n",
    "\n",
    "    params = {\n",
    "            'raceYmd': raceYmd, # YYYYmmdd\n",
    "            'raceJoCd': '{:0>2}'.format(str(SE_df.loc[race, 'id$JyoCD'])), # Track code table 2001\n",
    "            'raceYear': '', # empty string\n",
    "            'raceKai': '{:0>2}'.format(str(SE_df.loc[race, 'id$Kaiji'])), #\n",
    "            'raceHi': '{:0>2}'.format(str(SE_df.loc[race, 'id$Nichiji'])),\n",
    "            'raceNo': '{:0>2}'.format(str(SE_df.loc[race, 'id$RaceNum'])), # race no\n",
    "            }\n",
    "    time.sleep(0.5)\n",
    "    page = requests.post(baseurl, params=params)\n",
    "    soup = BeautifulSoup(page.text, 'html.parser')\n",
    "\n",
    "    tables = soup.find_all('table')\n",
    "    if len(tables) < 3:\n",
    "        empty_data.append(race)\n",
    "        continue\n",
    "    raceinfo = tables[2].find_all('td')[0]\n",
    "    raceinfo = raceinfo.text.strip('\\r\\n\\t ').split(',')\n",
    "    if len(raceinfo) < 5:\n",
    "        empty_data.append(race)\n",
    "        continue\n",
    "\n",
    "    process(raceinfo, race, result)"
   ]
  },
  {
   "cell_type": "code",
   "execution_count": null,
   "metadata": {},
   "outputs": [],
   "source": [
    "empty_data2 = []\n",
    "i = 0\n",
    "for race in empty_data:\n",
    "    print(i)\n",
    "    i += 1\n",
    "    raceYmd = str(SE_df.loc[race, 'id$Year'])\n",
    "    if len(str(SE_df.loc[race, 'id$MonthDay'])) < 4:\n",
    "        raceYmd += '0' + str(SE_df.loc[race, 'id$MonthDay'])\n",
    "    else:\n",
    "        raceYmd += str(SE_df.loc[race, 'id$MonthDay'])\n",
    "\n",
    "    params = {\n",
    "            'raceYmd': raceYmd, # YYYYmmdd\n",
    "            'raceJoCd': '{:0>2}'.format(str(SE_df.loc[race, 'id$JyoCD'])), # Track code table 2001\n",
    "            'raceKai': '{:0>2}'.format(str(SE_df.loc[race, 'id$Kaiji'])), #\n",
    "            'raceHi': '{:0>2}'.format(str(SE_df.loc[race, 'id$Nichiji'])),\n",
    "            'raceNo': '{:0>2}'.format(str(SE_df.loc[race, 'id$RaceNum'])), # race no\n",
    "            'abortRaceFlg': '',\n",
    "            }\n",
    "    time.sleep(0.5)\n",
    "    page = requests.post(baseurl, params=params)\n",
    "    soup = BeautifulSoup(page.text, 'html.parser')\n",
    "\n",
    "    tables = soup.find_all('table')\n",
    "    if len(tables) < 3:\n",
    "        empty_data2.append(race)\n",
    "        continue\n",
    "    raceinfo = tables[2].find_all('td')[0]\n",
    "    raceinfo = raceinfo.text.strip('\\r\\n\\t ').split(',')\n",
    "    if len(raceinfo) < 5:\n",
    "        empty_data2.append(race)\n",
    "        continue\n",
    "\n",
    "    process(raceinfo, race, result)"
   ]
  },
  {
   "cell_type": "code",
   "execution_count": 163,
   "metadata": {},
   "outputs": [
    {
     "data": {
      "text/plain": [
       "['2018-07-01 05:02']"
      ]
     },
     "execution_count": 163,
     "metadata": {},
     "output_type": "execute_result"
    }
   ],
   "source": [
    "empty_data2"
   ]
  },
  {
   "cell_type": "code",
   "execution_count": 165,
   "metadata": {},
   "outputs": [],
   "source": [
    "result['raceid'].append('2018-07-01 05:02')\n",
    "result['Kyori'].append(1200.)\n",
    "result['Track_type'].append('Turf Yielding')\n",
    "result['Weather'].append('Rainy')"
   ]
  },
  {
   "cell_type": "code",
   "execution_count": 166,
   "metadata": {},
   "outputs": [
    {
     "data": {
      "text/html": [
       "<div>\n",
       "<style scoped>\n",
       "    .dataframe tbody tr th:only-of-type {\n",
       "        vertical-align: middle;\n",
       "    }\n",
       "\n",
       "    .dataframe tbody tr th {\n",
       "        vertical-align: top;\n",
       "    }\n",
       "\n",
       "    .dataframe thead th {\n",
       "        text-align: right;\n",
       "    }\n",
       "</style>\n",
       "<table border=\"1\" class=\"dataframe\">\n",
       "  <thead>\n",
       "    <tr style=\"text-align: right;\">\n",
       "      <th></th>\n",
       "      <th>raceid</th>\n",
       "      <th>Kyori</th>\n",
       "      <th>Track_type</th>\n",
       "      <th>Weather</th>\n",
       "    </tr>\n",
       "  </thead>\n",
       "  <tbody>\n",
       "    <tr>\n",
       "      <th>0</th>\n",
       "      <td>2018-05-26 01:05</td>\n",
       "      <td>1600.0</td>\n",
       "      <td>Dirt Standard</td>\n",
       "      <td>Cloudy</td>\n",
       "    </tr>\n",
       "    <tr>\n",
       "      <th>1</th>\n",
       "      <td>2018-05-26 01:08</td>\n",
       "      <td>1800.0</td>\n",
       "      <td>Dirt Standard</td>\n",
       "      <td>Cloudy</td>\n",
       "    </tr>\n",
       "    <tr>\n",
       "      <th>2</th>\n",
       "      <td>2018-05-26 02:05</td>\n",
       "      <td>1400.0</td>\n",
       "      <td>Turf Firm</td>\n",
       "      <td>Cloudy</td>\n",
       "    </tr>\n",
       "    <tr>\n",
       "      <th>3</th>\n",
       "      <td>2018-05-26 02:08</td>\n",
       "      <td>1400.0</td>\n",
       "      <td>Dirt Standard</td>\n",
       "      <td>Cloudy</td>\n",
       "    </tr>\n",
       "    <tr>\n",
       "      <th>4</th>\n",
       "      <td>2018-05-26 03:05</td>\n",
       "      <td>1800.0</td>\n",
       "      <td>Turf Firm</td>\n",
       "      <td>Cloudy</td>\n",
       "    </tr>\n",
       "  </tbody>\n",
       "</table>\n",
       "</div>"
      ],
      "text/plain": [
       "             raceid   Kyori     Track_type Weather\n",
       "0  2018-05-26 01:05  1600.0  Dirt Standard  Cloudy\n",
       "1  2018-05-26 01:08  1800.0  Dirt Standard  Cloudy\n",
       "2  2018-05-26 02:05  1400.0      Turf Firm  Cloudy\n",
       "3  2018-05-26 02:08  1400.0  Dirt Standard  Cloudy\n",
       "4  2018-05-26 03:05  1800.0      Turf Firm  Cloudy"
      ]
     },
     "execution_count": 166,
     "metadata": {},
     "output_type": "execute_result"
    }
   ],
   "source": [
    "extended_data = pd.DataFrame(result)\n",
    "extended_data.to_csv('../data/historical_data/extended_data.csv', index=False)\n",
    "extended_data.head()"
   ]
  },
  {
   "cell_type": "code",
   "execution_count": 167,
   "metadata": {},
   "outputs": [
    {
     "data": {
      "text/html": [
       "<div>\n",
       "<style scoped>\n",
       "    .dataframe tbody tr th:only-of-type {\n",
       "        vertical-align: middle;\n",
       "    }\n",
       "\n",
       "    .dataframe tbody tr th {\n",
       "        vertical-align: top;\n",
       "    }\n",
       "\n",
       "    .dataframe thead th {\n",
       "        text-align: right;\n",
       "    }\n",
       "</style>\n",
       "<table border=\"1\" class=\"dataframe\">\n",
       "  <thead>\n",
       "    <tr style=\"text-align: right;\">\n",
       "      <th></th>\n",
       "      <th>raceid</th>\n",
       "      <th>Kyori</th>\n",
       "      <th>Track_type</th>\n",
       "      <th>Weather</th>\n",
       "    </tr>\n",
       "  </thead>\n",
       "  <tbody>\n",
       "    <tr>\n",
       "      <th>355</th>\n",
       "      <td>2018-07-01 03:03</td>\n",
       "      <td>1700.0</td>\n",
       "      <td>Dirt Standard</td>\n",
       "      <td>Fine</td>\n",
       "    </tr>\n",
       "    <tr>\n",
       "      <th>356</th>\n",
       "      <td>2018-07-01 04:03</td>\n",
       "      <td>2750.0</td>\n",
       "      <td>Jump Firm</td>\n",
       "      <td>Fine</td>\n",
       "    </tr>\n",
       "    <tr>\n",
       "      <th>357</th>\n",
       "      <td>2018-07-01 06:02</td>\n",
       "      <td>2000.0</td>\n",
       "      <td>Turf Yielding</td>\n",
       "      <td>Drizzle</td>\n",
       "    </tr>\n",
       "    <tr>\n",
       "      <th>358</th>\n",
       "      <td>2018-07-01 12:03</td>\n",
       "      <td>1150.0</td>\n",
       "      <td>Dirt Standard</td>\n",
       "      <td>Fine</td>\n",
       "    </tr>\n",
       "    <tr>\n",
       "      <th>359</th>\n",
       "      <td>2018-07-01 05:02</td>\n",
       "      <td>1200.0</td>\n",
       "      <td>Turf Yielding</td>\n",
       "      <td>Rainy</td>\n",
       "    </tr>\n",
       "  </tbody>\n",
       "</table>\n",
       "</div>"
      ],
      "text/plain": [
       "               raceid   Kyori     Track_type  Weather\n",
       "355  2018-07-01 03:03  1700.0  Dirt Standard     Fine\n",
       "356  2018-07-01 04:03  2750.0      Jump Firm     Fine\n",
       "357  2018-07-01 06:02  2000.0  Turf Yielding  Drizzle\n",
       "358  2018-07-01 12:03  1150.0  Dirt Standard     Fine\n",
       "359  2018-07-01 05:02  1200.0  Turf Yielding    Rainy"
      ]
     },
     "execution_count": 167,
     "metadata": {},
     "output_type": "execute_result"
    }
   ],
   "source": [
    "extended_data.tail()"
   ]
  },
  {
   "cell_type": "markdown",
   "metadata": {},
   "source": [
    "# Check"
   ]
  },
  {
   "cell_type": "code",
   "execution_count": 170,
   "metadata": {},
   "outputs": [
    {
     "data": {
      "text/html": [
       "<div>\n",
       "<style scoped>\n",
       "    .dataframe tbody tr th:only-of-type {\n",
       "        vertical-align: middle;\n",
       "    }\n",
       "\n",
       "    .dataframe tbody tr th {\n",
       "        vertical-align: top;\n",
       "    }\n",
       "\n",
       "    .dataframe thead th {\n",
       "        text-align: right;\n",
       "    }\n",
       "</style>\n",
       "<table border=\"1\" class=\"dataframe\">\n",
       "  <thead>\n",
       "    <tr style=\"text-align: right;\">\n",
       "      <th></th>\n",
       "      <th>raceid</th>\n",
       "      <th>Kyori</th>\n",
       "      <th>Track_type</th>\n",
       "      <th>Weather</th>\n",
       "    </tr>\n",
       "  </thead>\n",
       "  <tbody>\n",
       "    <tr>\n",
       "      <th>251</th>\n",
       "      <td>2018-06-24 11:09</td>\n",
       "      <td>2200.0</td>\n",
       "      <td>Turf Good</td>\n",
       "      <td>Fine</td>\n",
       "    </tr>\n",
       "    <tr>\n",
       "      <th>274</th>\n",
       "      <td>2018-06-30 07:07</td>\n",
       "      <td>2200.0</td>\n",
       "      <td>Turf Firm</td>\n",
       "      <td>Cloudy</td>\n",
       "    </tr>\n",
       "    <tr>\n",
       "      <th>294</th>\n",
       "      <td>2018-07-01 03:07</td>\n",
       "      <td>1800.0</td>\n",
       "      <td>Dirt Standard</td>\n",
       "      <td>Fine</td>\n",
       "    </tr>\n",
       "    <tr>\n",
       "      <th>130</th>\n",
       "      <td>2018-06-16 02:09</td>\n",
       "      <td>1800.0</td>\n",
       "      <td>Dirt Standard</td>\n",
       "      <td>Fine</td>\n",
       "    </tr>\n",
       "    <tr>\n",
       "      <th>117</th>\n",
       "      <td>2018-06-10 08:09</td>\n",
       "      <td>1200.0</td>\n",
       "      <td>Turf Firm</td>\n",
       "      <td>Cloudy</td>\n",
       "    </tr>\n",
       "  </tbody>\n",
       "</table>\n",
       "</div>"
      ],
      "text/plain": [
       "               raceid   Kyori     Track_type Weather\n",
       "251  2018-06-24 11:09  2200.0      Turf Good    Fine\n",
       "274  2018-06-30 07:07  2200.0      Turf Firm  Cloudy\n",
       "294  2018-07-01 03:07  1800.0  Dirt Standard    Fine\n",
       "130  2018-06-16 02:09  1800.0  Dirt Standard    Fine\n",
       "117  2018-06-10 08:09  1200.0      Turf Firm  Cloudy"
      ]
     },
     "execution_count": 170,
     "metadata": {},
     "output_type": "execute_result"
    }
   ],
   "source": [
    "extended_data.sample(5)"
   ]
  },
  {
   "cell_type": "code",
   "execution_count": 198,
   "metadata": {},
   "outputs": [
    {
     "data": {
      "text/plain": [
       "id$Year        2018\n",
       "id$MonthDay     610\n",
       "id$JyoCD          9\n",
       "id$Kaiji          3\n",
       "id$Nichiji        4\n",
       "id$RaceNum        8\n",
       "Name: 2018-06-10 08:09, dtype: object"
      ]
     },
     "execution_count": 198,
     "metadata": {},
     "output_type": "execute_result"
    }
   ],
   "source": [
    "SE_df.loc['2018-06-10 08:09']"
   ]
  },
  {
   "cell_type": "code",
   "execution_count": 199,
   "metadata": {},
   "outputs": [
    {
     "data": {
      "text/plain": [
       "['June 10',\n",
       " ' 2018',\n",
       " ' 1200m',\n",
       " ' Turf Firm',\n",
       " ' Cloudy',\n",
       " '\\r\\n        Post time 13:50']"
      ]
     },
     "execution_count": 199,
     "metadata": {},
     "output_type": "execute_result"
    }
   ],
   "source": [
    "params = {\n",
    "            'raceYmd': '20180610', # YYYYmmdd\n",
    "            'raceJoCd': '09', # Track code table 2001\n",
    "            'raceKai': '03', #\n",
    "            'raceHi': '04',\n",
    "            'raceNo': '08', # race no,\n",
    "            'raceYear': '',\n",
    "            # 'abortRaceFlg': '',\n",
    "            }\n",
    "page = requests.post(baseurl, params=params)\n",
    "soup = BeautifulSoup(page.text, 'html.parser')\n",
    "\n",
    "tables = soup.find_all('table')\n",
    "raceinfo = tables[2].find_all('td')[0]\n",
    "raceinfo = raceinfo.text.strip('\\r\\n\\t ').split(',')\n",
    "raceinfo"
   ]
  }
 ],
 "metadata": {
  "kernelspec": {
   "display_name": "Python 3.9.7 ('base')",
   "language": "python",
   "name": "python3"
  },
  "language_info": {
   "codemirror_mode": {
    "name": "ipython",
    "version": 3
   },
   "file_extension": ".py",
   "mimetype": "text/x-python",
   "name": "python",
   "nbconvert_exporter": "python",
   "pygments_lexer": "ipython3",
   "version": "3.9.7"
  },
  "orig_nbformat": 4,
  "vscode": {
   "interpreter": {
    "hash": "ad1106730b73d75b7ab457ef5dd0c360d05649f67726ab3d2b5bff5cba1e07d5"
   }
  }
 },
 "nbformat": 4,
 "nbformat_minor": 2
}
