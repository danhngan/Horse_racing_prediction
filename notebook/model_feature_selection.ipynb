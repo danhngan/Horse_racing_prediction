{
 "cells": [
  {
   "cell_type": "code",
   "execution_count": 1,
   "metadata": {},
   "outputs": [],
   "source": [
    "import pandas as pd\n",
    "import numpy as np\n",
    "import tensorflow as tf\n",
    "\n",
    "import matplotlib.pyplot as plt\n",
    "import seaborn as sns\n",
    "\n",
    "from helper import *\n",
    "import json\n",
    "import pickle"
   ]
  },
  {
   "cell_type": "code",
   "execution_count": 2,
   "metadata": {},
   "outputs": [],
   "source": [
    "pd.set_option('max_columns', 100)"
   ]
  },
  {
   "cell_type": "markdown",
   "metadata": {},
   "source": [
    "# Prepare data"
   ]
  },
  {
   "cell_type": "code",
   "execution_count": 3,
   "metadata": {},
   "outputs": [
    {
     "name": "stdout",
     "output_type": "stream",
     "text": [
      "(525663, 48)\n"
     ]
    },
    {
     "data": {
      "text/html": [
       "<div>\n",
       "<style scoped>\n",
       "    .dataframe tbody tr th:only-of-type {\n",
       "        vertical-align: middle;\n",
       "    }\n",
       "\n",
       "    .dataframe tbody tr th {\n",
       "        vertical-align: top;\n",
       "    }\n",
       "\n",
       "    .dataframe thead th {\n",
       "        text-align: right;\n",
       "    }\n",
       "</style>\n",
       "<table border=\"1\" class=\"dataframe\">\n",
       "  <thead>\n",
       "    <tr style=\"text-align: right;\">\n",
       "      <th></th>\n",
       "      <th>raceid</th>\n",
       "      <th>Time</th>\n",
       "      <th>KakuteiJyuni</th>\n",
       "      <th>DochakuKubun</th>\n",
       "      <th>DochakuTosu</th>\n",
       "      <th>Umaban</th>\n",
       "      <th>KettoNum</th>\n",
       "      <th>UmaKigoCD</th>\n",
       "      <th>KeiroCD</th>\n",
       "      <th>Barei</th>\n",
       "      <th>BanusiCode</th>\n",
       "      <th>ChokyosiCode</th>\n",
       "      <th>Futan</th>\n",
       "      <th>Blinker</th>\n",
       "      <th>KisyuCode</th>\n",
       "      <th>BaTaijyu</th>\n",
       "      <th>Zogen</th>\n",
       "      <th>IJyoCD</th>\n",
       "      <th>Honsyokin</th>\n",
       "      <th>GradeCD</th>\n",
       "      <th>Kyori</th>\n",
       "      <th>Special race</th>\n",
       "      <th>Speed</th>\n",
       "      <th>Top 1</th>\n",
       "      <th>Top 3</th>\n",
       "      <th>Top 3 spec race</th>\n",
       "      <th>KakuteiJyuni_fixed</th>\n",
       "      <th>Speed_fixed</th>\n",
       "      <th>SexCD_1</th>\n",
       "      <th>SexCD_2</th>\n",
       "      <th>SexCD_3</th>\n",
       "      <th>HinsyuCD_1</th>\n",
       "      <th>HinsyuCD_2</th>\n",
       "      <th>TozaiCD_1</th>\n",
       "      <th>TozaiCD_2</th>\n",
       "      <th>TozaiCD_3</th>\n",
       "      <th>TozaiCD_4</th>\n",
       "      <th>MinaraiCD_0</th>\n",
       "      <th>MinaraiCD_1</th>\n",
       "      <th>MinaraiCD_2</th>\n",
       "      <th>MinaraiCD_3</th>\n",
       "      <th>JyokenInfo$JyuryoCD_1.0</th>\n",
       "      <th>JyokenInfo$JyuryoCD_2.0</th>\n",
       "      <th>JyokenInfo$JyuryoCD_3.0</th>\n",
       "      <th>JyokenInfo$JyuryoCD_4.0</th>\n",
       "      <th>TrackCD_Dirt</th>\n",
       "      <th>TrackCD_Jump</th>\n",
       "      <th>TrackCD_Turf</th>\n",
       "    </tr>\n",
       "  </thead>\n",
       "  <tbody>\n",
       "    <tr>\n",
       "      <th>0</th>\n",
       "      <td>2008-01-05 01:06</td>\n",
       "      <td>752</td>\n",
       "      <td>8</td>\n",
       "      <td>0</td>\n",
       "      <td>0</td>\n",
       "      <td>1</td>\n",
       "      <td>2005107051</td>\n",
       "      <td>0</td>\n",
       "      <td>3</td>\n",
       "      <td>3</td>\n",
       "      <td>898009</td>\n",
       "      <td>437</td>\n",
       "      <td>540</td>\n",
       "      <td>0</td>\n",
       "      <td>1031</td>\n",
       "      <td>428.0</td>\n",
       "      <td>12.0</td>\n",
       "      <td>0</td>\n",
       "      <td>0</td>\n",
       "      <td></td>\n",
       "      <td>1200.0</td>\n",
       "      <td>False</td>\n",
       "      <td>1.595745</td>\n",
       "      <td>False</td>\n",
       "      <td>False</td>\n",
       "      <td>False</td>\n",
       "      <td>47.2</td>\n",
       "      <td>0.980593</td>\n",
       "      <td>0.0</td>\n",
       "      <td>1.0</td>\n",
       "      <td>0.0</td>\n",
       "      <td>1.0</td>\n",
       "      <td>0.0</td>\n",
       "      <td>1.0</td>\n",
       "      <td>0.0</td>\n",
       "      <td>0.0</td>\n",
       "      <td>0.0</td>\n",
       "      <td>1.0</td>\n",
       "      <td>0.0</td>\n",
       "      <td>0.0</td>\n",
       "      <td>0.0</td>\n",
       "      <td>0.0</td>\n",
       "      <td>0.0</td>\n",
       "      <td>1.0</td>\n",
       "      <td>0.0</td>\n",
       "      <td>1.0</td>\n",
       "      <td>0.0</td>\n",
       "      <td>0.0</td>\n",
       "    </tr>\n",
       "    <tr>\n",
       "      <th>1</th>\n",
       "      <td>2008-01-05 01:06</td>\n",
       "      <td>739</td>\n",
       "      <td>1</td>\n",
       "      <td>0</td>\n",
       "      <td>0</td>\n",
       "      <td>2</td>\n",
       "      <td>2005102028</td>\n",
       "      <td>0</td>\n",
       "      <td>3</td>\n",
       "      <td>3</td>\n",
       "      <td>498800</td>\n",
       "      <td>138</td>\n",
       "      <td>540</td>\n",
       "      <td>0</td>\n",
       "      <td>733</td>\n",
       "      <td>450.0</td>\n",
       "      <td>-10.0</td>\n",
       "      <td>0</td>\n",
       "      <td>50000</td>\n",
       "      <td></td>\n",
       "      <td>1200.0</td>\n",
       "      <td>False</td>\n",
       "      <td>1.623816</td>\n",
       "      <td>True</td>\n",
       "      <td>True</td>\n",
       "      <td>False</td>\n",
       "      <td>1.0</td>\n",
       "      <td>0.997843</td>\n",
       "      <td>0.0</td>\n",
       "      <td>1.0</td>\n",
       "      <td>0.0</td>\n",
       "      <td>1.0</td>\n",
       "      <td>0.0</td>\n",
       "      <td>1.0</td>\n",
       "      <td>0.0</td>\n",
       "      <td>0.0</td>\n",
       "      <td>0.0</td>\n",
       "      <td>1.0</td>\n",
       "      <td>0.0</td>\n",
       "      <td>0.0</td>\n",
       "      <td>0.0</td>\n",
       "      <td>0.0</td>\n",
       "      <td>0.0</td>\n",
       "      <td>1.0</td>\n",
       "      <td>0.0</td>\n",
       "      <td>1.0</td>\n",
       "      <td>0.0</td>\n",
       "      <td>0.0</td>\n",
       "    </tr>\n",
       "    <tr>\n",
       "      <th>2</th>\n",
       "      <td>2008-01-05 01:06</td>\n",
       "      <td>742</td>\n",
       "      <td>3</td>\n",
       "      <td>0</td>\n",
       "      <td>0</td>\n",
       "      <td>3</td>\n",
       "      <td>2005104156</td>\n",
       "      <td>0</td>\n",
       "      <td>3</td>\n",
       "      <td>3</td>\n",
       "      <td>486800</td>\n",
       "      <td>1054</td>\n",
       "      <td>540</td>\n",
       "      <td>0</td>\n",
       "      <td>684</td>\n",
       "      <td>458.0</td>\n",
       "      <td>4.0</td>\n",
       "      <td>0</td>\n",
       "      <td>13000</td>\n",
       "      <td></td>\n",
       "      <td>1200.0</td>\n",
       "      <td>False</td>\n",
       "      <td>1.617251</td>\n",
       "      <td>False</td>\n",
       "      <td>True</td>\n",
       "      <td>False</td>\n",
       "      <td>14.2</td>\n",
       "      <td>0.993809</td>\n",
       "      <td>0.0</td>\n",
       "      <td>1.0</td>\n",
       "      <td>0.0</td>\n",
       "      <td>1.0</td>\n",
       "      <td>0.0</td>\n",
       "      <td>1.0</td>\n",
       "      <td>0.0</td>\n",
       "      <td>0.0</td>\n",
       "      <td>0.0</td>\n",
       "      <td>1.0</td>\n",
       "      <td>0.0</td>\n",
       "      <td>0.0</td>\n",
       "      <td>0.0</td>\n",
       "      <td>0.0</td>\n",
       "      <td>0.0</td>\n",
       "      <td>1.0</td>\n",
       "      <td>0.0</td>\n",
       "      <td>1.0</td>\n",
       "      <td>0.0</td>\n",
       "      <td>0.0</td>\n",
       "    </tr>\n",
       "    <tr>\n",
       "      <th>3</th>\n",
       "      <td>2008-01-05 01:06</td>\n",
       "      <td>749</td>\n",
       "      <td>6</td>\n",
       "      <td>0</td>\n",
       "      <td>0</td>\n",
       "      <td>4</td>\n",
       "      <td>2005105319</td>\n",
       "      <td>0</td>\n",
       "      <td>3</td>\n",
       "      <td>3</td>\n",
       "      <td>515800</td>\n",
       "      <td>1081</td>\n",
       "      <td>540</td>\n",
       "      <td>0</td>\n",
       "      <td>672</td>\n",
       "      <td>402.0</td>\n",
       "      <td>-10.0</td>\n",
       "      <td>0</td>\n",
       "      <td>0</td>\n",
       "      <td></td>\n",
       "      <td>1200.0</td>\n",
       "      <td>False</td>\n",
       "      <td>1.602136</td>\n",
       "      <td>False</td>\n",
       "      <td>False</td>\n",
       "      <td>False</td>\n",
       "      <td>34.0</td>\n",
       "      <td>0.984521</td>\n",
       "      <td>0.0</td>\n",
       "      <td>1.0</td>\n",
       "      <td>0.0</td>\n",
       "      <td>1.0</td>\n",
       "      <td>0.0</td>\n",
       "      <td>1.0</td>\n",
       "      <td>0.0</td>\n",
       "      <td>0.0</td>\n",
       "      <td>0.0</td>\n",
       "      <td>1.0</td>\n",
       "      <td>0.0</td>\n",
       "      <td>0.0</td>\n",
       "      <td>0.0</td>\n",
       "      <td>0.0</td>\n",
       "      <td>0.0</td>\n",
       "      <td>1.0</td>\n",
       "      <td>0.0</td>\n",
       "      <td>1.0</td>\n",
       "      <td>0.0</td>\n",
       "      <td>0.0</td>\n",
       "    </tr>\n",
       "    <tr>\n",
       "      <th>4</th>\n",
       "      <td>2008-01-05 01:06</td>\n",
       "      <td>739</td>\n",
       "      <td>2</td>\n",
       "      <td>0</td>\n",
       "      <td>0</td>\n",
       "      <td>5</td>\n",
       "      <td>2005101044</td>\n",
       "      <td>0</td>\n",
       "      <td>3</td>\n",
       "      <td>3</td>\n",
       "      <td>163002</td>\n",
       "      <td>1088</td>\n",
       "      <td>540</td>\n",
       "      <td>0</td>\n",
       "      <td>663</td>\n",
       "      <td>482.0</td>\n",
       "      <td>2.0</td>\n",
       "      <td>0</td>\n",
       "      <td>20000</td>\n",
       "      <td></td>\n",
       "      <td>1200.0</td>\n",
       "      <td>False</td>\n",
       "      <td>1.623816</td>\n",
       "      <td>False</td>\n",
       "      <td>True</td>\n",
       "      <td>False</td>\n",
       "      <td>7.6</td>\n",
       "      <td>0.997843</td>\n",
       "      <td>0.0</td>\n",
       "      <td>1.0</td>\n",
       "      <td>0.0</td>\n",
       "      <td>1.0</td>\n",
       "      <td>0.0</td>\n",
       "      <td>1.0</td>\n",
       "      <td>0.0</td>\n",
       "      <td>0.0</td>\n",
       "      <td>0.0</td>\n",
       "      <td>1.0</td>\n",
       "      <td>0.0</td>\n",
       "      <td>0.0</td>\n",
       "      <td>0.0</td>\n",
       "      <td>0.0</td>\n",
       "      <td>0.0</td>\n",
       "      <td>1.0</td>\n",
       "      <td>0.0</td>\n",
       "      <td>1.0</td>\n",
       "      <td>0.0</td>\n",
       "      <td>0.0</td>\n",
       "    </tr>\n",
       "  </tbody>\n",
       "</table>\n",
       "</div>"
      ],
      "text/plain": [
       "             raceid  Time  KakuteiJyuni  DochakuKubun  DochakuTosu  Umaban  \\\n",
       "0  2008-01-05 01:06   752             8             0            0       1   \n",
       "1  2008-01-05 01:06   739             1             0            0       2   \n",
       "2  2008-01-05 01:06   742             3             0            0       3   \n",
       "3  2008-01-05 01:06   749             6             0            0       4   \n",
       "4  2008-01-05 01:06   739             2             0            0       5   \n",
       "\n",
       "     KettoNum  UmaKigoCD  KeiroCD  Barei  BanusiCode  ChokyosiCode  Futan  \\\n",
       "0  2005107051          0        3      3      898009           437    540   \n",
       "1  2005102028          0        3      3      498800           138    540   \n",
       "2  2005104156          0        3      3      486800          1054    540   \n",
       "3  2005105319          0        3      3      515800          1081    540   \n",
       "4  2005101044          0        3      3      163002          1088    540   \n",
       "\n",
       "   Blinker  KisyuCode  BaTaijyu  Zogen  IJyoCD  Honsyokin GradeCD   Kyori  \\\n",
       "0        0       1031     428.0   12.0       0          0          1200.0   \n",
       "1        0        733     450.0  -10.0       0      50000          1200.0   \n",
       "2        0        684     458.0    4.0       0      13000          1200.0   \n",
       "3        0        672     402.0  -10.0       0          0          1200.0   \n",
       "4        0        663     482.0    2.0       0      20000          1200.0   \n",
       "\n",
       "   Special race     Speed  Top 1  Top 3  Top 3 spec race  KakuteiJyuni_fixed  \\\n",
       "0         False  1.595745  False  False            False                47.2   \n",
       "1         False  1.623816   True   True            False                 1.0   \n",
       "2         False  1.617251  False   True            False                14.2   \n",
       "3         False  1.602136  False  False            False                34.0   \n",
       "4         False  1.623816  False   True            False                 7.6   \n",
       "\n",
       "   Speed_fixed  SexCD_1  SexCD_2  SexCD_3  HinsyuCD_1  HinsyuCD_2  TozaiCD_1  \\\n",
       "0     0.980593      0.0      1.0      0.0         1.0         0.0        1.0   \n",
       "1     0.997843      0.0      1.0      0.0         1.0         0.0        1.0   \n",
       "2     0.993809      0.0      1.0      0.0         1.0         0.0        1.0   \n",
       "3     0.984521      0.0      1.0      0.0         1.0         0.0        1.0   \n",
       "4     0.997843      0.0      1.0      0.0         1.0         0.0        1.0   \n",
       "\n",
       "   TozaiCD_2  TozaiCD_3  TozaiCD_4  MinaraiCD_0  MinaraiCD_1  MinaraiCD_2  \\\n",
       "0        0.0        0.0        0.0          1.0          0.0          0.0   \n",
       "1        0.0        0.0        0.0          1.0          0.0          0.0   \n",
       "2        0.0        0.0        0.0          1.0          0.0          0.0   \n",
       "3        0.0        0.0        0.0          1.0          0.0          0.0   \n",
       "4        0.0        0.0        0.0          1.0          0.0          0.0   \n",
       "\n",
       "   MinaraiCD_3  JyokenInfo$JyuryoCD_1.0  JyokenInfo$JyuryoCD_2.0  \\\n",
       "0          0.0                      0.0                      0.0   \n",
       "1          0.0                      0.0                      0.0   \n",
       "2          0.0                      0.0                      0.0   \n",
       "3          0.0                      0.0                      0.0   \n",
       "4          0.0                      0.0                      0.0   \n",
       "\n",
       "   JyokenInfo$JyuryoCD_3.0  JyokenInfo$JyuryoCD_4.0  TrackCD_Dirt  \\\n",
       "0                      1.0                      0.0           1.0   \n",
       "1                      1.0                      0.0           1.0   \n",
       "2                      1.0                      0.0           1.0   \n",
       "3                      1.0                      0.0           1.0   \n",
       "4                      1.0                      0.0           1.0   \n",
       "\n",
       "   TrackCD_Jump  TrackCD_Turf  \n",
       "0           0.0           0.0  \n",
       "1           0.0           0.0  \n",
       "2           0.0           0.0  \n",
       "3           0.0           0.0  \n",
       "4           0.0           0.0  "
      ]
     },
     "execution_count": 3,
     "metadata": {},
     "output_type": "execute_result"
    }
   ],
   "source": [
    "df = pd.read_csv('../data/historical_data/cleaned_data.csv')\n",
    "print(df.shape)\n",
    "df.head()"
   ]
  },
  {
   "cell_type": "code",
   "execution_count": 4,
   "metadata": {},
   "outputs": [
    {
     "name": "stdout",
     "output_type": "stream",
     "text": [
      "Number of races in 2018: 25402\n"
     ]
    }
   ],
   "source": [
    "nrace_test = int(df['raceid'].apply(lambda x: True if x.split('-')[0] == '2018' else False).sum())\n",
    "print('Number of races in 2018:', nrace_test)"
   ]
  },
  {
   "cell_type": "code",
   "execution_count": 5,
   "metadata": {},
   "outputs": [],
   "source": [
    "drop_cols = [\n",
    "'IJyoCD', \n",
    "'KeiroCD', \n",
    "'ChokyosiCode', \n",
    "'Honsyokin',\n",
    "'KettoNum',\n",
    "'Time', \n",
    "'raceid', \n",
    "'racedate', \n",
    "'KakuteiJyuni', \n",
    "'KakuteiJyuni_fixed', \n",
    "'Top 1', \n",
    "'Top 3',\n",
    "'Top 3 spec race',\n",
    "'Speed', \n",
    "'GradeCD',\n",
    "'Speed_fixed', \n",
    "'DochakuKubun', \n",
    "'DochakuTosu',\n",
    "'KisyuCode',\n",
    "'BanusiCode']"
   ]
  },
  {
   "cell_type": "code",
   "execution_count": 6,
   "metadata": {},
   "outputs": [
    {
     "name": "stdout",
     "output_type": "stream",
     "text": [
      "(500261, 29) (500261,)\n",
      "(25402, 29) (25402,)\n"
     ]
    },
    {
     "data": {
      "text/html": [
       "<div>\n",
       "<style scoped>\n",
       "    .dataframe tbody tr th:only-of-type {\n",
       "        vertical-align: middle;\n",
       "    }\n",
       "\n",
       "    .dataframe tbody tr th {\n",
       "        vertical-align: top;\n",
       "    }\n",
       "\n",
       "    .dataframe thead th {\n",
       "        text-align: right;\n",
       "    }\n",
       "</style>\n",
       "<table border=\"1\" class=\"dataframe\">\n",
       "  <thead>\n",
       "    <tr style=\"text-align: right;\">\n",
       "      <th></th>\n",
       "      <th>Umaban</th>\n",
       "      <th>UmaKigoCD</th>\n",
       "      <th>Barei</th>\n",
       "      <th>Futan</th>\n",
       "      <th>Blinker</th>\n",
       "      <th>BaTaijyu</th>\n",
       "      <th>Zogen</th>\n",
       "      <th>Kyori</th>\n",
       "      <th>Special race</th>\n",
       "      <th>SexCD_1</th>\n",
       "      <th>SexCD_2</th>\n",
       "      <th>SexCD_3</th>\n",
       "      <th>HinsyuCD_1</th>\n",
       "      <th>HinsyuCD_2</th>\n",
       "      <th>TozaiCD_1</th>\n",
       "      <th>TozaiCD_2</th>\n",
       "      <th>TozaiCD_3</th>\n",
       "      <th>TozaiCD_4</th>\n",
       "      <th>MinaraiCD_0</th>\n",
       "      <th>MinaraiCD_1</th>\n",
       "      <th>MinaraiCD_2</th>\n",
       "      <th>MinaraiCD_3</th>\n",
       "      <th>JyokenInfo$JyuryoCD_1.0</th>\n",
       "      <th>JyokenInfo$JyuryoCD_2.0</th>\n",
       "      <th>JyokenInfo$JyuryoCD_3.0</th>\n",
       "      <th>JyokenInfo$JyuryoCD_4.0</th>\n",
       "      <th>TrackCD_Dirt</th>\n",
       "      <th>TrackCD_Jump</th>\n",
       "      <th>TrackCD_Turf</th>\n",
       "    </tr>\n",
       "  </thead>\n",
       "  <tbody>\n",
       "    <tr>\n",
       "      <th>0</th>\n",
       "      <td>1</td>\n",
       "      <td>0</td>\n",
       "      <td>3</td>\n",
       "      <td>540</td>\n",
       "      <td>0</td>\n",
       "      <td>428.0</td>\n",
       "      <td>12.0</td>\n",
       "      <td>1200.0</td>\n",
       "      <td>False</td>\n",
       "      <td>0.0</td>\n",
       "      <td>1.0</td>\n",
       "      <td>0.0</td>\n",
       "      <td>1.0</td>\n",
       "      <td>0.0</td>\n",
       "      <td>1.0</td>\n",
       "      <td>0.0</td>\n",
       "      <td>0.0</td>\n",
       "      <td>0.0</td>\n",
       "      <td>1.0</td>\n",
       "      <td>0.0</td>\n",
       "      <td>0.0</td>\n",
       "      <td>0.0</td>\n",
       "      <td>0.0</td>\n",
       "      <td>0.0</td>\n",
       "      <td>1.0</td>\n",
       "      <td>0.0</td>\n",
       "      <td>1.0</td>\n",
       "      <td>0.0</td>\n",
       "      <td>0.0</td>\n",
       "    </tr>\n",
       "    <tr>\n",
       "      <th>1</th>\n",
       "      <td>2</td>\n",
       "      <td>0</td>\n",
       "      <td>3</td>\n",
       "      <td>540</td>\n",
       "      <td>0</td>\n",
       "      <td>450.0</td>\n",
       "      <td>-10.0</td>\n",
       "      <td>1200.0</td>\n",
       "      <td>False</td>\n",
       "      <td>0.0</td>\n",
       "      <td>1.0</td>\n",
       "      <td>0.0</td>\n",
       "      <td>1.0</td>\n",
       "      <td>0.0</td>\n",
       "      <td>1.0</td>\n",
       "      <td>0.0</td>\n",
       "      <td>0.0</td>\n",
       "      <td>0.0</td>\n",
       "      <td>1.0</td>\n",
       "      <td>0.0</td>\n",
       "      <td>0.0</td>\n",
       "      <td>0.0</td>\n",
       "      <td>0.0</td>\n",
       "      <td>0.0</td>\n",
       "      <td>1.0</td>\n",
       "      <td>0.0</td>\n",
       "      <td>1.0</td>\n",
       "      <td>0.0</td>\n",
       "      <td>0.0</td>\n",
       "    </tr>\n",
       "    <tr>\n",
       "      <th>2</th>\n",
       "      <td>3</td>\n",
       "      <td>0</td>\n",
       "      <td>3</td>\n",
       "      <td>540</td>\n",
       "      <td>0</td>\n",
       "      <td>458.0</td>\n",
       "      <td>4.0</td>\n",
       "      <td>1200.0</td>\n",
       "      <td>False</td>\n",
       "      <td>0.0</td>\n",
       "      <td>1.0</td>\n",
       "      <td>0.0</td>\n",
       "      <td>1.0</td>\n",
       "      <td>0.0</td>\n",
       "      <td>1.0</td>\n",
       "      <td>0.0</td>\n",
       "      <td>0.0</td>\n",
       "      <td>0.0</td>\n",
       "      <td>1.0</td>\n",
       "      <td>0.0</td>\n",
       "      <td>0.0</td>\n",
       "      <td>0.0</td>\n",
       "      <td>0.0</td>\n",
       "      <td>0.0</td>\n",
       "      <td>1.0</td>\n",
       "      <td>0.0</td>\n",
       "      <td>1.0</td>\n",
       "      <td>0.0</td>\n",
       "      <td>0.0</td>\n",
       "    </tr>\n",
       "    <tr>\n",
       "      <th>3</th>\n",
       "      <td>4</td>\n",
       "      <td>0</td>\n",
       "      <td>3</td>\n",
       "      <td>540</td>\n",
       "      <td>0</td>\n",
       "      <td>402.0</td>\n",
       "      <td>-10.0</td>\n",
       "      <td>1200.0</td>\n",
       "      <td>False</td>\n",
       "      <td>0.0</td>\n",
       "      <td>1.0</td>\n",
       "      <td>0.0</td>\n",
       "      <td>1.0</td>\n",
       "      <td>0.0</td>\n",
       "      <td>1.0</td>\n",
       "      <td>0.0</td>\n",
       "      <td>0.0</td>\n",
       "      <td>0.0</td>\n",
       "      <td>1.0</td>\n",
       "      <td>0.0</td>\n",
       "      <td>0.0</td>\n",
       "      <td>0.0</td>\n",
       "      <td>0.0</td>\n",
       "      <td>0.0</td>\n",
       "      <td>1.0</td>\n",
       "      <td>0.0</td>\n",
       "      <td>1.0</td>\n",
       "      <td>0.0</td>\n",
       "      <td>0.0</td>\n",
       "    </tr>\n",
       "    <tr>\n",
       "      <th>4</th>\n",
       "      <td>5</td>\n",
       "      <td>0</td>\n",
       "      <td>3</td>\n",
       "      <td>540</td>\n",
       "      <td>0</td>\n",
       "      <td>482.0</td>\n",
       "      <td>2.0</td>\n",
       "      <td>1200.0</td>\n",
       "      <td>False</td>\n",
       "      <td>0.0</td>\n",
       "      <td>1.0</td>\n",
       "      <td>0.0</td>\n",
       "      <td>1.0</td>\n",
       "      <td>0.0</td>\n",
       "      <td>1.0</td>\n",
       "      <td>0.0</td>\n",
       "      <td>0.0</td>\n",
       "      <td>0.0</td>\n",
       "      <td>1.0</td>\n",
       "      <td>0.0</td>\n",
       "      <td>0.0</td>\n",
       "      <td>0.0</td>\n",
       "      <td>0.0</td>\n",
       "      <td>0.0</td>\n",
       "      <td>1.0</td>\n",
       "      <td>0.0</td>\n",
       "      <td>1.0</td>\n",
       "      <td>0.0</td>\n",
       "      <td>0.0</td>\n",
       "    </tr>\n",
       "  </tbody>\n",
       "</table>\n",
       "</div>"
      ],
      "text/plain": [
       "   Umaban  UmaKigoCD  Barei  Futan  Blinker  BaTaijyu  Zogen   Kyori  \\\n",
       "0       1          0      3    540        0     428.0   12.0  1200.0   \n",
       "1       2          0      3    540        0     450.0  -10.0  1200.0   \n",
       "2       3          0      3    540        0     458.0    4.0  1200.0   \n",
       "3       4          0      3    540        0     402.0  -10.0  1200.0   \n",
       "4       5          0      3    540        0     482.0    2.0  1200.0   \n",
       "\n",
       "   Special race  SexCD_1  SexCD_2  SexCD_3  HinsyuCD_1  HinsyuCD_2  TozaiCD_1  \\\n",
       "0         False      0.0      1.0      0.0         1.0         0.0        1.0   \n",
       "1         False      0.0      1.0      0.0         1.0         0.0        1.0   \n",
       "2         False      0.0      1.0      0.0         1.0         0.0        1.0   \n",
       "3         False      0.0      1.0      0.0         1.0         0.0        1.0   \n",
       "4         False      0.0      1.0      0.0         1.0         0.0        1.0   \n",
       "\n",
       "   TozaiCD_2  TozaiCD_3  TozaiCD_4  MinaraiCD_0  MinaraiCD_1  MinaraiCD_2  \\\n",
       "0        0.0        0.0        0.0          1.0          0.0          0.0   \n",
       "1        0.0        0.0        0.0          1.0          0.0          0.0   \n",
       "2        0.0        0.0        0.0          1.0          0.0          0.0   \n",
       "3        0.0        0.0        0.0          1.0          0.0          0.0   \n",
       "4        0.0        0.0        0.0          1.0          0.0          0.0   \n",
       "\n",
       "   MinaraiCD_3  JyokenInfo$JyuryoCD_1.0  JyokenInfo$JyuryoCD_2.0  \\\n",
       "0          0.0                      0.0                      0.0   \n",
       "1          0.0                      0.0                      0.0   \n",
       "2          0.0                      0.0                      0.0   \n",
       "3          0.0                      0.0                      0.0   \n",
       "4          0.0                      0.0                      0.0   \n",
       "\n",
       "   JyokenInfo$JyuryoCD_3.0  JyokenInfo$JyuryoCD_4.0  TrackCD_Dirt  \\\n",
       "0                      1.0                      0.0           1.0   \n",
       "1                      1.0                      0.0           1.0   \n",
       "2                      1.0                      0.0           1.0   \n",
       "3                      1.0                      0.0           1.0   \n",
       "4                      1.0                      0.0           1.0   \n",
       "\n",
       "   TrackCD_Jump  TrackCD_Turf  \n",
       "0           0.0           0.0  \n",
       "1           0.0           0.0  \n",
       "2           0.0           0.0  \n",
       "3           0.0           0.0  \n",
       "4           0.0           0.0  "
      ]
     },
     "execution_count": 6,
     "metadata": {},
     "output_type": "execute_result"
    }
   ],
   "source": [
    "X = df\n",
    "y = df['Top 3']\n",
    "top3 = df['Top 3']\n",
    "raceid = df['raceid']\n",
    "X_train, X_test, y_train, y_test, top3_train, top3_test, raceid_train, raceid_test = split_data(X, y, raceid, top3,\n",
    "                                                                                                drop_columns=drop_cols,\n",
    "                                                                                                select_cols=None,\n",
    "                                                                                                test_size=nrace_test)\n",
    "y_reg = df['KakuteiJyuni_fixed']\n",
    "y_reg_train = y_reg[y_train.index]\n",
    "y_reg_test = y_reg[y_test.index]\n",
    "\n",
    "print(X_train.shape, y_train.shape)\n",
    "print(X_test.shape, y_test.shape)\n",
    "X_train.head()"
   ]
  },
  {
   "cell_type": "markdown",
   "metadata": {},
   "source": [
    "# Metrics"
   ]
  },
  {
   "cell_type": "code",
   "execution_count": 7,
   "metadata": {},
   "outputs": [],
   "source": [
    "from sklearn.metrics import accuracy_score, confusion_matrix, f1_score"
   ]
  },
  {
   "cell_type": "markdown",
   "metadata": {},
   "source": [
    "# Baseline model"
   ]
  },
  {
   "cell_type": "code",
   "execution_count": 8,
   "metadata": {},
   "outputs": [],
   "source": [
    "from sklearn.linear_model import LogisticRegression, LinearRegression\n",
    "from sklearn.preprocessing import MinMaxScaler, StandardScaler"
   ]
  },
  {
   "cell_type": "code",
   "execution_count": 12,
   "metadata": {},
   "outputs": [
    {
     "data": {
      "text/plain": [
       "MinMaxScaler()"
      ]
     },
     "execution_count": 12,
     "metadata": {},
     "output_type": "execute_result"
    }
   ],
   "source": [
    "scaler = MinMaxScaler()\n",
    "scaler.fit(X_train)"
   ]
  },
  {
   "cell_type": "markdown",
   "metadata": {},
   "source": [
    "## Classification"
   ]
  },
  {
   "cell_type": "code",
   "execution_count": 13,
   "metadata": {},
   "outputs": [
    {
     "data": {
      "text/plain": [
       "LogisticRegression(max_iter=300)"
      ]
     },
     "execution_count": 13,
     "metadata": {},
     "output_type": "execute_result"
    }
   ],
   "source": [
    "model_Log = LogisticRegression(max_iter=300)\n",
    "model_Log.fit(scaler.transform(X_train), y_train)"
   ]
  },
  {
   "cell_type": "code",
   "execution_count": null,
   "metadata": {},
   "outputs": [],
   "source": [
    "top3_pred = predict_top3_prob(model_Log, scaler.transform(X_train), raceid_train)\n",
    "print('Total accuracy:', accuracy_score(top3_train, top3_pred['Top 3']))\n",
    "print('Top 3 prediction accuracy:', top3_accuracy_score(top3_train.values, top3_pred['Top 3'].values))\n",
    "sns.heatmap(confusion_matrix(top3_train, top3_pred['Top 3']), annot=True, fmt='.0f', cmap='Blues')"
   ]
  },
  {
   "cell_type": "code",
   "execution_count": 15,
   "metadata": {},
   "outputs": [
    {
     "name": "stdout",
     "output_type": "stream",
     "text": [
      "Total accuracy: 0.7098653649318951\n",
      "Top 3 prediction accuracy: 0.2994885394961167\n"
     ]
    },
    {
     "data": {
      "text/plain": [
       "<AxesSubplot:>"
      ]
     },
     "execution_count": 15,
     "metadata": {},
     "output_type": "execute_result"
    },
    {
     "data": {
      "image/png": "[encoded data removed]",
      "text/plain": [
       "<Figure size 432x288 with 2 Axes>"
      ]
     },
     "metadata": {
      "needs_background": "light"
     },
     "output_type": "display_data"
    }
   ],
   "source": [
    "top3_pred = predict_top3_prob(model_Log, scaler.transform(X_test), raceid_test)\n",
    "print('Total accuracy:', accuracy_score(top3_test, top3_pred['Top 3']))\n",
    "print('Top 3 prediction accuracy:', top3_accuracy_score(top3_test.values, top3_pred['Top 3'].values))\n",
    "sns.heatmap(confusion_matrix(top3_test, top3_pred['Top 3']), annot=True, fmt='.0f', cmap='Blues')"
   ]
  },
  {
   "cell_type": "code",
   "execution_count": 19,
   "metadata": {},
   "outputs": [
    {
     "data": {
      "image/png": "[encoded data removed]",
      "text/plain": [
       "<Figure size 720x576 with 1 Axes>"
      ]
     },
     "metadata": {
      "needs_background": "light"
     },
     "output_type": "display_data"
    }
   ],
   "source": [
    "plt.figure(figsize=(10,8))\n",
    "plt.bar(height=model_Log.coef_[0], x = X_train.columns)\n",
    "xticks = plt.xticks(rotation=90)"
   ]
  },
  {
   "cell_type": "markdown",
   "metadata": {},
   "source": [
    "## Regression"
   ]
  },
  {
   "cell_type": "code",
   "execution_count": null,
   "metadata": {},
   "outputs": [],
   "source": [
    "model_reg = LinearRegression()\n",
    "model_reg.fit(scaler.transform(X_train), y_reg_train)"
   ]
  },
  {
   "cell_type": "code",
   "execution_count": 18,
   "metadata": {},
   "outputs": [
    {
     "name": "stdout",
     "output_type": "stream",
     "text": [
      "Total accuracy: 0.7104165026375876\n",
      "Top 3 prediction accuracy: 0.30081454820988823\n"
     ]
    },
    {
     "data": {
      "text/plain": [
       "<AxesSubplot:>"
      ]
     },
     "execution_count": 18,
     "metadata": {},
     "output_type": "execute_result"
    },
    {
     "data": {
      "image/png": "[encoded data removed]",
      "text/plain": [
       "<Figure size 432x288 with 2 Axes>"
      ]
     },
     "metadata": {
      "needs_background": "light"
     },
     "output_type": "display_data"
    }
   ],
   "source": [
    "top3_pred = predict_top3_time(model_reg, scaler.transform(X_test), raceid_test)\n",
    "print('Total accuracy:', accuracy_score(top3_test, top3_pred['Top 3']))\n",
    "print('Top 3 prediction accuracy:', top3_accuracy_score(top3_test.values, top3_pred['Top 3'].values))\n",
    "sns.heatmap(confusion_matrix(top3_test, top3_pred['Top 3']), annot=True, fmt='.0f', cmap='Blues')"
   ]
  },
  {
   "cell_type": "code",
   "execution_count": 21,
   "metadata": {},
   "outputs": [
    {
     "data": {
      "image/png": "[encoded data removed]",
      "text/plain": [
       "<Figure size 720x576 with 1 Axes>"
      ]
     },
     "metadata": {
      "needs_background": "light"
     },
     "output_type": "display_data"
    }
   ],
   "source": [
    "plt.figure(figsize=(10,8))\n",
    "plt.bar(height=model_reg.coef_, x = X_train.columns)\n",
    "xticks = plt.xticks(rotation=90)"
   ]
  },
  {
   "cell_type": "markdown",
   "metadata": {},
   "source": [
    "# Better model"
   ]
  },
  {
   "cell_type": "markdown",
   "metadata": {},
   "source": [
    "## Calculate some fields"
   ]
  },
  {
   "cell_type": "code",
   "execution_count": 9,
   "metadata": {},
   "outputs": [],
   "source": [
    "df['Top 5'] = (df['KakuteiJyuni'] < 6) & (df['KakuteiJyuni'] != 0)\n",
    "drop_cols.append('Top 5')"
   ]
  },
  {
   "cell_type": "code",
   "execution_count": 10,
   "metadata": {},
   "outputs": [],
   "source": [
    "horse_exp = {}\n",
    "jockey_exp = {}\n",
    "owner_exp = {}\n",
    "coach_exp = {}"
   ]
  },
  {
   "cell_type": "code",
   "execution_count": 11,
   "metadata": {},
   "outputs": [
    {
     "data": {
      "text/plain": [
       "(0.3456415992755815, 0.20745230309152443)"
      ]
     },
     "execution_count": 11,
     "metadata": {},
     "output_type": "execute_result"
    }
   ],
   "source": [
    "top5_mean = df['Top 5'].sum()/df.shape[0]\n",
    "top3_mean = df['Top 3'].sum()/df.shape[0]\n",
    "top5_mean, top3_mean"
   ]
  },
  {
   "cell_type": "code",
   "execution_count": 12,
   "metadata": {},
   "outputs": [],
   "source": [
    "horse_exp['n_races'] = generate_exp('KettoNum', init_val=1.)\n",
    "df['horse_n_races'] = df.apply(horse_exp['n_races'].generate_exp, axis=1)\n",
    "\n",
    "horse_exp['n_spec_races'] = generate_exp('KettoNum', init_val=0., val='Special race')\n",
    "df['horse_n_spec_races'] = df.apply(horse_exp['n_spec_races'].generate_exp, axis=1)\n",
    "\n",
    "horse_exp['top1'] = generate_exp('KettoNum', val='Top 1')\n",
    "df['horse_top1'] = df.apply(horse_exp['top1'].generate_exp, axis=1)\n",
    "\n",
    "horse_exp['top3'] = generate_exp('KettoNum', val='Top 3')\n",
    "df['horse_top3'] = df.apply(horse_exp['top3'].generate_exp, axis=1)\n",
    "\n",
    "horse_exp['top3_spec'] = generate_exp('KettoNum', val='Top 3 spec race')\n",
    "df['horse_top3_spec'] = df.apply(horse_exp['top3_spec'].generate_exp, axis=1)\n",
    "\n",
    "horse_exp['top5'] = generate_exp('KettoNum', val='Top 5')\n",
    "df['horse_top5'] = df.apply(horse_exp['top5'].generate_exp, axis=1)\n",
    "\n",
    "# horse_exp['beta=0.2'] = generate_exp('KettoNum', val='KakuteiJyuni_fixed', beta=0.2, init_val=50.)\n",
    "# df['horse_beta=0.2'] = df.apply(horse_exp['beta=0.2'].moving_average, axis=1)\n",
    "horse_exp['beta=0.3'] = generate_exp('KettoNum', val='KakuteiJyuni_fixed', beta=0.3, init_val=50.)\n",
    "df['horse_beta=0.3'] = df.apply(horse_exp['beta=0.3'].moving_average, axis=1)\n",
    "# add\n",
    "horse_exp['beta=0.5'] = generate_exp('KettoNum', val='KakuteiJyuni_fixed', beta=0.5, init_val=50.)\n",
    "df['horse_beta=0.5'] = df.apply(horse_exp['beta=0.5'].moving_average, axis=1)\n",
    "horse_exp['beta=1.'] = generate_exp('KettoNum', val='KakuteiJyuni_fixed', beta=1., init_val=50.)\n",
    "df['horse_beta=1.'] = df.apply(horse_exp['beta=1.'].moving_average, axis=1)\n",
    "\n",
    "horse_exp['beta=0.3_top1'] = generate_exp('KettoNum', val='Top 1', beta=0.3, init_val=0.0)\n",
    "df['horse_beta=0.3_top1'] = df.apply(horse_exp['beta=0.3_top1'].moving_average, axis=1)\n",
    "\n",
    "horse_exp['beta=0.3_top3'] = generate_exp('KettoNum', val='Top 3', beta=0.3, init_val=top3_mean)\n",
    "df['horse_beta=0.3_top3'] = df.apply(horse_exp['beta=0.3_top3'].moving_average, axis=1)\n",
    "\n",
    "horse_exp['beta=0.2_top5'] = generate_exp('KettoNum', val='Top 5', beta=0.2, init_val=top5_mean)\n",
    "df['horse_beta=0.2_top5'] = df.apply(horse_exp['beta=0.2_top5'].moving_average, axis=1)\n",
    "horse_exp['beta=0.3_top5'] = generate_exp('KettoNum', val='Top 5', beta=0.3, init_val=top5_mean)\n",
    "df['horse_beta=0.3_top5'] = df.apply(horse_exp['beta=0.3_top5'].moving_average, axis=1)\n",
    "\n",
    "horse_exp['beta=0.3_speed'] = generate_exp('KettoNum', val='Speed_fixed', beta=0.3, init_val=1.)\n",
    "df['horse_beta=0.3_speed'] = df.apply(horse_exp['beta=0.3_speed'].moving_average, axis=1)\n",
    "# add\n",
    "horse_exp['beta=0.5_speed'] = generate_exp('KettoNum', val='Speed_fixed', beta=0.5, init_val=1.)\n",
    "df['horse_beta=0.5_speed'] = df.apply(horse_exp['beta=0.5_speed'].moving_average, axis=1)\n",
    "\n",
    "##################\n",
    "\n",
    "jockey_exp['n_races'] = generate_exp('KisyuCode', init_val=1.)\n",
    "df['jockey_n_races'] = df.apply(jockey_exp['n_races'].generate_exp, axis=1)\n",
    "\n",
    "jockey_exp['n_spec_races'] = generate_exp('KisyuCode', init_val=0., val='Special race')\n",
    "df['jockey_n_spec_races'] = df.apply(jockey_exp['n_spec_races'].generate_exp, axis=1)\n",
    "\n",
    "jockey_exp['top1'] = generate_exp('KisyuCode', val='Top 1')\n",
    "df['jockey_top1'] = df.apply(jockey_exp['top1'].generate_exp, axis=1)\n",
    "\n",
    "jockey_exp['top3'] = generate_exp('KisyuCode', val='Top 3')\n",
    "df['jockey_top3'] = df.apply(jockey_exp['top3'].generate_exp, axis=1)\n",
    "\n",
    "jockey_exp['top3_spec'] = generate_exp('KisyuCode', val='Top 3 spec race')\n",
    "df['jockey_top3_spec'] = df.apply(jockey_exp['top3_spec'].generate_exp, axis=1)\n",
    "\n",
    "jockey_exp['top5'] = generate_exp('KisyuCode', val='Top 5')\n",
    "df['jockey_top5'] = df.apply(jockey_exp['top5'].generate_exp, axis=1)\n",
    "\n",
    "jockey_exp['beta=0.07'] = generate_exp('KisyuCode', val='KakuteiJyuni_fixed', beta=0.07, init_val=50.)\n",
    "df['jockey_beta=0.07'] = df.apply(jockey_exp['beta=0.07'].moving_average, axis=1)\n",
    "jockey_exp['beta=0.1'] = generate_exp('KisyuCode', val='KakuteiJyuni_fixed', beta=0.1, init_val=50.)\n",
    "df['jockey_beta=0.1'] = df.apply(jockey_exp['beta=0.1'].moving_average, axis=1)\n",
    "jockey_exp['beta=0.2'] = generate_exp('KisyuCode', val='KakuteiJyuni_fixed', beta=0.2, init_val=50.)\n",
    "df['jockey_beta=0.2'] = df.apply(jockey_exp['beta=0.2'].moving_average, axis=1)\n",
    "\n",
    "# edit 0.2 -> 0.07\n",
    "jockey_exp['beta=0.07_top3'] = generate_exp('KisyuCode', val='Top 3', beta=0.07, init_val=top3_mean)\n",
    "df['jockey_beta=0.07_top3'] = df.apply(jockey_exp['beta=0.07_top3'].moving_average, axis=1)\n",
    "jockey_exp['beta=0.1_top3'] = generate_exp('KisyuCode', val='Top 3', beta=0.1, init_val=top3_mean)\n",
    "df['jockey_beta=0.1_top3'] = df.apply(jockey_exp['beta=0.1_top3'].moving_average, axis=1)\n",
    "\n",
    "jockey_exp['beta=0.2_top5'] = generate_exp('KisyuCode', val='Top 5', beta=0.2, init_val=0.3)\n",
    "df['jockey_beta=0.2_top5'] = df.apply(jockey_exp['beta=0.2_top5'].moving_average, axis=1)\n",
    "jockey_exp['beta=0.1_top5'] = generate_exp('KisyuCode', val='Top 5', beta=0.1, init_val=0.3)\n",
    "df['jockey_beta=0.1_top5'] = df.apply(jockey_exp['beta=0.1_top5'].moving_average, axis=1)\n",
    "\n",
    "# 0.2 -> 0.3\n",
    "jockey_exp['beta=0.3_speed'] = generate_exp('KisyuCode', val='Speed_fixed', beta=0.3, init_val=1.)\n",
    "df['jockey_beta=0.3_speed'] = df.apply(jockey_exp['beta=0.3_speed'].moving_average, axis=1)\n",
    "jockey_exp['beta=0.1_speed'] = generate_exp('KisyuCode', val='Speed_fixed', beta=0.1, init_val=1.)\n",
    "df['jockey_beta=0.1_speed'] = df.apply(jockey_exp['beta=0.1_speed'].moving_average, axis=1)\n",
    "\n",
    "\n",
    "##################\n",
    "owner_exp['n_races'] = generate_exp('BanusiCode', init_val=1.)\n",
    "df['owner_n_races'] = df.apply(owner_exp['n_races'].generate_exp, axis=1)\n",
    "\n",
    "owner_exp['top1'] = generate_exp('BanusiCode', val='Top 1')\n",
    "df['owner_top1'] = df.apply(owner_exp['top1'].generate_exp, axis=1)\n",
    "\n",
    "owner_exp['top3'] = generate_exp('BanusiCode', val='Top 3')\n",
    "df['owner_top3'] = df.apply(owner_exp['top3'].generate_exp, axis=1)\n",
    "\n",
    "owner_exp['top5'] = generate_exp('BanusiCode', val='Top 5')\n",
    "df['owner_top5'] = df.apply(owner_exp['top3'].generate_exp, axis=1)\n",
    "\n",
    "##################\n",
    "coach_exp['n_races'] = generate_exp('ChokyosiCode', init_val=1.)\n",
    "df['coach_n_races'] = df.apply(coach_exp['n_races'].generate_exp, axis=1)\n",
    "\n",
    "coach_exp['top1'] = generate_exp('ChokyosiCode', val='Top 1')\n",
    "df['coach_top1'] = df.apply(coach_exp['top1'].generate_exp, axis=1)\n",
    "\n",
    "coach_exp['top3'] = generate_exp('ChokyosiCode', val='Top 3')\n",
    "df['coach_top3'] = df.apply(coach_exp['top3'].generate_exp, axis=1)\n",
    "\n",
    "coach_exp['top5'] = generate_exp('ChokyosiCode', val='Top 5')\n",
    "df['coach_top5'] = df.apply(coach_exp['top5'].generate_exp, axis=1)"
   ]
  },
  {
   "cell_type": "code",
   "execution_count": 13,
   "metadata": {},
   "outputs": [
    {
     "data": {
      "text/plain": [
       "0"
      ]
     },
     "execution_count": 13,
     "metadata": {},
     "output_type": "execute_result"
    }
   ],
   "source": [
    "\n",
    "df['horse_top3_rate'] = df['horse_top3']/df['horse_n_races']\n",
    "df['horse_top3_spec_rate'] = (df['horse_top3_spec']/df['horse_n_spec_races']).fillna(0.)\n",
    "df['horse_top5_rate'] = df['horse_top5']/df['horse_n_races']\n",
    "\n",
    "df['owner_top3_rate'] = df['owner_top3']/df['owner_n_races']\n",
    "df['owner_top5_rate'] = df['owner_top5']/df['owner_n_races']\n",
    "\n",
    "df['jockey_top3_rate'] = df['jockey_top3']/df['jockey_n_races']\n",
    "df['jockey_top3_spec_rate'] = (df['jockey_top3_spec']/df['jockey_n_spec_races']).fillna(0.)\n",
    "df['jockey_top5_rate'] = df['jockey_top5']/df['jockey_n_races']\n",
    "df.isna().sum().sum()"
   ]
  },
  {
   "cell_type": "markdown",
   "metadata": {},
   "source": [
    "## Split data"
   ]
  },
  {
   "cell_type": "code",
   "execution_count": 14,
   "metadata": {},
   "outputs": [
    {
     "name": "stdout",
     "output_type": "stream",
     "text": [
      "(500261, 75) (500261,)\n",
      "(25402, 75) (25402,)\n"
     ]
    },
    {
     "data": {
      "text/html": [
       "<div>\n",
       "<style scoped>\n",
       "    .dataframe tbody tr th:only-of-type {\n",
       "        vertical-align: middle;\n",
       "    }\n",
       "\n",
       "    .dataframe tbody tr th {\n",
       "        vertical-align: top;\n",
       "    }\n",
       "\n",
       "    .dataframe thead th {\n",
       "        text-align: right;\n",
       "    }\n",
       "</style>\n",
       "<table border=\"1\" class=\"dataframe\">\n",
       "  <thead>\n",
       "    <tr style=\"text-align: right;\">\n",
       "      <th></th>\n",
       "      <th>Umaban</th>\n",
       "      <th>UmaKigoCD</th>\n",
       "      <th>Barei</th>\n",
       "      <th>Futan</th>\n",
       "      <th>Blinker</th>\n",
       "      <th>BaTaijyu</th>\n",
       "      <th>Zogen</th>\n",
       "      <th>Kyori</th>\n",
       "      <th>Special race</th>\n",
       "      <th>SexCD_1</th>\n",
       "      <th>SexCD_2</th>\n",
       "      <th>SexCD_3</th>\n",
       "      <th>HinsyuCD_1</th>\n",
       "      <th>HinsyuCD_2</th>\n",
       "      <th>TozaiCD_1</th>\n",
       "      <th>TozaiCD_2</th>\n",
       "      <th>TozaiCD_3</th>\n",
       "      <th>TozaiCD_4</th>\n",
       "      <th>MinaraiCD_0</th>\n",
       "      <th>MinaraiCD_1</th>\n",
       "      <th>MinaraiCD_2</th>\n",
       "      <th>MinaraiCD_3</th>\n",
       "      <th>JyokenInfo$JyuryoCD_1.0</th>\n",
       "      <th>JyokenInfo$JyuryoCD_2.0</th>\n",
       "      <th>JyokenInfo$JyuryoCD_3.0</th>\n",
       "      <th>JyokenInfo$JyuryoCD_4.0</th>\n",
       "      <th>TrackCD_Dirt</th>\n",
       "      <th>TrackCD_Jump</th>\n",
       "      <th>TrackCD_Turf</th>\n",
       "      <th>horse_n_races</th>\n",
       "      <th>horse_n_spec_races</th>\n",
       "      <th>horse_top1</th>\n",
       "      <th>horse_top3</th>\n",
       "      <th>horse_top3_spec</th>\n",
       "      <th>horse_top5</th>\n",
       "      <th>horse_beta=0.3</th>\n",
       "      <th>horse_beta=0.5</th>\n",
       "      <th>horse_beta=1.</th>\n",
       "      <th>horse_beta=0.3_top1</th>\n",
       "      <th>horse_beta=0.3_top3</th>\n",
       "      <th>horse_beta=0.2_top5</th>\n",
       "      <th>horse_beta=0.3_top5</th>\n",
       "      <th>horse_beta=0.3_speed</th>\n",
       "      <th>horse_beta=0.5_speed</th>\n",
       "      <th>jockey_n_races</th>\n",
       "      <th>jockey_n_spec_races</th>\n",
       "      <th>jockey_top1</th>\n",
       "      <th>jockey_top3</th>\n",
       "      <th>jockey_top3_spec</th>\n",
       "      <th>jockey_top5</th>\n",
       "      <th>jockey_beta=0.07</th>\n",
       "      <th>jockey_beta=0.1</th>\n",
       "      <th>jockey_beta=0.2</th>\n",
       "      <th>jockey_beta=0.07_top3</th>\n",
       "      <th>jockey_beta=0.1_top3</th>\n",
       "      <th>jockey_beta=0.2_top5</th>\n",
       "      <th>jockey_beta=0.1_top5</th>\n",
       "      <th>jockey_beta=0.3_speed</th>\n",
       "      <th>jockey_beta=0.1_speed</th>\n",
       "      <th>owner_n_races</th>\n",
       "      <th>owner_top1</th>\n",
       "      <th>owner_top3</th>\n",
       "      <th>owner_top5</th>\n",
       "      <th>coach_n_races</th>\n",
       "      <th>coach_top1</th>\n",
       "      <th>coach_top3</th>\n",
       "      <th>coach_top5</th>\n",
       "      <th>horse_top3_rate</th>\n",
       "      <th>horse_top3_spec_rate</th>\n",
       "      <th>horse_top5_rate</th>\n",
       "      <th>owner_top3_rate</th>\n",
       "      <th>owner_top5_rate</th>\n",
       "      <th>jockey_top3_rate</th>\n",
       "      <th>jockey_top3_spec_rate</th>\n",
       "      <th>jockey_top5_rate</th>\n",
       "    </tr>\n",
       "  </thead>\n",
       "  <tbody>\n",
       "    <tr>\n",
       "      <th>0</th>\n",
       "      <td>1</td>\n",
       "      <td>0</td>\n",
       "      <td>3</td>\n",
       "      <td>540</td>\n",
       "      <td>0</td>\n",
       "      <td>428.0</td>\n",
       "      <td>12.0</td>\n",
       "      <td>1200.0</td>\n",
       "      <td>False</td>\n",
       "      <td>0.0</td>\n",
       "      <td>1.0</td>\n",
       "      <td>0.0</td>\n",
       "      <td>1.0</td>\n",
       "      <td>0.0</td>\n",
       "      <td>1.0</td>\n",
       "      <td>0.0</td>\n",
       "      <td>0.0</td>\n",
       "      <td>0.0</td>\n",
       "      <td>1.0</td>\n",
       "      <td>0.0</td>\n",
       "      <td>0.0</td>\n",
       "      <td>0.0</td>\n",
       "      <td>0.0</td>\n",
       "      <td>0.0</td>\n",
       "      <td>1.0</td>\n",
       "      <td>0.0</td>\n",
       "      <td>1.0</td>\n",
       "      <td>0.0</td>\n",
       "      <td>0.0</td>\n",
       "      <td>1.0</td>\n",
       "      <td>0.0</td>\n",
       "      <td>0.0</td>\n",
       "      <td>0.0</td>\n",
       "      <td>0.0</td>\n",
       "      <td>0.0</td>\n",
       "      <td>50.0</td>\n",
       "      <td>50.0</td>\n",
       "      <td>50.0</td>\n",
       "      <td>0.0</td>\n",
       "      <td>0.207452</td>\n",
       "      <td>0.345642</td>\n",
       "      <td>0.345642</td>\n",
       "      <td>1.0</td>\n",
       "      <td>1.0</td>\n",
       "      <td>1.0</td>\n",
       "      <td>0.0</td>\n",
       "      <td>0.0</td>\n",
       "      <td>0.0</td>\n",
       "      <td>0.0</td>\n",
       "      <td>0.0</td>\n",
       "      <td>50.0</td>\n",
       "      <td>50.0</td>\n",
       "      <td>50.0</td>\n",
       "      <td>0.207452</td>\n",
       "      <td>0.207452</td>\n",
       "      <td>0.3</td>\n",
       "      <td>0.3</td>\n",
       "      <td>1.0</td>\n",
       "      <td>1.0</td>\n",
       "      <td>1.0</td>\n",
       "      <td>0.0</td>\n",
       "      <td>0.0</td>\n",
       "      <td>4.0</td>\n",
       "      <td>1.0</td>\n",
       "      <td>0.0</td>\n",
       "      <td>0.0</td>\n",
       "      <td>0.0</td>\n",
       "      <td>0.0</td>\n",
       "      <td>0.0</td>\n",
       "      <td>0.0</td>\n",
       "      <td>0.0</td>\n",
       "      <td>4.0</td>\n",
       "      <td>0.0</td>\n",
       "      <td>0.0</td>\n",
       "      <td>0.0</td>\n",
       "    </tr>\n",
       "    <tr>\n",
       "      <th>1</th>\n",
       "      <td>2</td>\n",
       "      <td>0</td>\n",
       "      <td>3</td>\n",
       "      <td>540</td>\n",
       "      <td>0</td>\n",
       "      <td>450.0</td>\n",
       "      <td>-10.0</td>\n",
       "      <td>1200.0</td>\n",
       "      <td>False</td>\n",
       "      <td>0.0</td>\n",
       "      <td>1.0</td>\n",
       "      <td>0.0</td>\n",
       "      <td>1.0</td>\n",
       "      <td>0.0</td>\n",
       "      <td>1.0</td>\n",
       "      <td>0.0</td>\n",
       "      <td>0.0</td>\n",
       "      <td>0.0</td>\n",
       "      <td>1.0</td>\n",
       "      <td>0.0</td>\n",
       "      <td>0.0</td>\n",
       "      <td>0.0</td>\n",
       "      <td>0.0</td>\n",
       "      <td>0.0</td>\n",
       "      <td>1.0</td>\n",
       "      <td>0.0</td>\n",
       "      <td>1.0</td>\n",
       "      <td>0.0</td>\n",
       "      <td>0.0</td>\n",
       "      <td>1.0</td>\n",
       "      <td>0.0</td>\n",
       "      <td>0.0</td>\n",
       "      <td>0.0</td>\n",
       "      <td>0.0</td>\n",
       "      <td>0.0</td>\n",
       "      <td>50.0</td>\n",
       "      <td>50.0</td>\n",
       "      <td>50.0</td>\n",
       "      <td>0.0</td>\n",
       "      <td>0.207452</td>\n",
       "      <td>0.345642</td>\n",
       "      <td>0.345642</td>\n",
       "      <td>1.0</td>\n",
       "      <td>1.0</td>\n",
       "      <td>1.0</td>\n",
       "      <td>0.0</td>\n",
       "      <td>0.0</td>\n",
       "      <td>0.0</td>\n",
       "      <td>0.0</td>\n",
       "      <td>0.0</td>\n",
       "      <td>50.0</td>\n",
       "      <td>50.0</td>\n",
       "      <td>50.0</td>\n",
       "      <td>0.207452</td>\n",
       "      <td>0.207452</td>\n",
       "      <td>0.3</td>\n",
       "      <td>0.3</td>\n",
       "      <td>1.0</td>\n",
       "      <td>1.0</td>\n",
       "      <td>1.0</td>\n",
       "      <td>0.0</td>\n",
       "      <td>0.0</td>\n",
       "      <td>173.0</td>\n",
       "      <td>1.0</td>\n",
       "      <td>0.0</td>\n",
       "      <td>0.0</td>\n",
       "      <td>0.0</td>\n",
       "      <td>0.0</td>\n",
       "      <td>0.0</td>\n",
       "      <td>0.0</td>\n",
       "      <td>0.0</td>\n",
       "      <td>173.0</td>\n",
       "      <td>0.0</td>\n",
       "      <td>0.0</td>\n",
       "      <td>0.0</td>\n",
       "    </tr>\n",
       "    <tr>\n",
       "      <th>2</th>\n",
       "      <td>3</td>\n",
       "      <td>0</td>\n",
       "      <td>3</td>\n",
       "      <td>540</td>\n",
       "      <td>0</td>\n",
       "      <td>458.0</td>\n",
       "      <td>4.0</td>\n",
       "      <td>1200.0</td>\n",
       "      <td>False</td>\n",
       "      <td>0.0</td>\n",
       "      <td>1.0</td>\n",
       "      <td>0.0</td>\n",
       "      <td>1.0</td>\n",
       "      <td>0.0</td>\n",
       "      <td>1.0</td>\n",
       "      <td>0.0</td>\n",
       "      <td>0.0</td>\n",
       "      <td>0.0</td>\n",
       "      <td>1.0</td>\n",
       "      <td>0.0</td>\n",
       "      <td>0.0</td>\n",
       "      <td>0.0</td>\n",
       "      <td>0.0</td>\n",
       "      <td>0.0</td>\n",
       "      <td>1.0</td>\n",
       "      <td>0.0</td>\n",
       "      <td>1.0</td>\n",
       "      <td>0.0</td>\n",
       "      <td>0.0</td>\n",
       "      <td>1.0</td>\n",
       "      <td>0.0</td>\n",
       "      <td>0.0</td>\n",
       "      <td>0.0</td>\n",
       "      <td>0.0</td>\n",
       "      <td>0.0</td>\n",
       "      <td>50.0</td>\n",
       "      <td>50.0</td>\n",
       "      <td>50.0</td>\n",
       "      <td>0.0</td>\n",
       "      <td>0.207452</td>\n",
       "      <td>0.345642</td>\n",
       "      <td>0.345642</td>\n",
       "      <td>1.0</td>\n",
       "      <td>1.0</td>\n",
       "      <td>1.0</td>\n",
       "      <td>0.0</td>\n",
       "      <td>0.0</td>\n",
       "      <td>0.0</td>\n",
       "      <td>0.0</td>\n",
       "      <td>0.0</td>\n",
       "      <td>50.0</td>\n",
       "      <td>50.0</td>\n",
       "      <td>50.0</td>\n",
       "      <td>0.207452</td>\n",
       "      <td>0.207452</td>\n",
       "      <td>0.3</td>\n",
       "      <td>0.3</td>\n",
       "      <td>1.0</td>\n",
       "      <td>1.0</td>\n",
       "      <td>1.0</td>\n",
       "      <td>0.0</td>\n",
       "      <td>0.0</td>\n",
       "      <td>2651.0</td>\n",
       "      <td>1.0</td>\n",
       "      <td>0.0</td>\n",
       "      <td>0.0</td>\n",
       "      <td>0.0</td>\n",
       "      <td>0.0</td>\n",
       "      <td>0.0</td>\n",
       "      <td>0.0</td>\n",
       "      <td>0.0</td>\n",
       "      <td>2651.0</td>\n",
       "      <td>0.0</td>\n",
       "      <td>0.0</td>\n",
       "      <td>0.0</td>\n",
       "    </tr>\n",
       "    <tr>\n",
       "      <th>3</th>\n",
       "      <td>4</td>\n",
       "      <td>0</td>\n",
       "      <td>3</td>\n",
       "      <td>540</td>\n",
       "      <td>0</td>\n",
       "      <td>402.0</td>\n",
       "      <td>-10.0</td>\n",
       "      <td>1200.0</td>\n",
       "      <td>False</td>\n",
       "      <td>0.0</td>\n",
       "      <td>1.0</td>\n",
       "      <td>0.0</td>\n",
       "      <td>1.0</td>\n",
       "      <td>0.0</td>\n",
       "      <td>1.0</td>\n",
       "      <td>0.0</td>\n",
       "      <td>0.0</td>\n",
       "      <td>0.0</td>\n",
       "      <td>1.0</td>\n",
       "      <td>0.0</td>\n",
       "      <td>0.0</td>\n",
       "      <td>0.0</td>\n",
       "      <td>0.0</td>\n",
       "      <td>0.0</td>\n",
       "      <td>1.0</td>\n",
       "      <td>0.0</td>\n",
       "      <td>1.0</td>\n",
       "      <td>0.0</td>\n",
       "      <td>0.0</td>\n",
       "      <td>1.0</td>\n",
       "      <td>0.0</td>\n",
       "      <td>0.0</td>\n",
       "      <td>0.0</td>\n",
       "      <td>0.0</td>\n",
       "      <td>0.0</td>\n",
       "      <td>50.0</td>\n",
       "      <td>50.0</td>\n",
       "      <td>50.0</td>\n",
       "      <td>0.0</td>\n",
       "      <td>0.207452</td>\n",
       "      <td>0.345642</td>\n",
       "      <td>0.345642</td>\n",
       "      <td>1.0</td>\n",
       "      <td>1.0</td>\n",
       "      <td>1.0</td>\n",
       "      <td>0.0</td>\n",
       "      <td>0.0</td>\n",
       "      <td>0.0</td>\n",
       "      <td>0.0</td>\n",
       "      <td>0.0</td>\n",
       "      <td>50.0</td>\n",
       "      <td>50.0</td>\n",
       "      <td>50.0</td>\n",
       "      <td>0.207452</td>\n",
       "      <td>0.207452</td>\n",
       "      <td>0.3</td>\n",
       "      <td>0.3</td>\n",
       "      <td>1.0</td>\n",
       "      <td>1.0</td>\n",
       "      <td>1.0</td>\n",
       "      <td>0.0</td>\n",
       "      <td>0.0</td>\n",
       "      <td>518.0</td>\n",
       "      <td>1.0</td>\n",
       "      <td>0.0</td>\n",
       "      <td>0.0</td>\n",
       "      <td>0.0</td>\n",
       "      <td>0.0</td>\n",
       "      <td>0.0</td>\n",
       "      <td>0.0</td>\n",
       "      <td>0.0</td>\n",
       "      <td>518.0</td>\n",
       "      <td>0.0</td>\n",
       "      <td>0.0</td>\n",
       "      <td>0.0</td>\n",
       "    </tr>\n",
       "    <tr>\n",
       "      <th>4</th>\n",
       "      <td>5</td>\n",
       "      <td>0</td>\n",
       "      <td>3</td>\n",
       "      <td>540</td>\n",
       "      <td>0</td>\n",
       "      <td>482.0</td>\n",
       "      <td>2.0</td>\n",
       "      <td>1200.0</td>\n",
       "      <td>False</td>\n",
       "      <td>0.0</td>\n",
       "      <td>1.0</td>\n",
       "      <td>0.0</td>\n",
       "      <td>1.0</td>\n",
       "      <td>0.0</td>\n",
       "      <td>1.0</td>\n",
       "      <td>0.0</td>\n",
       "      <td>0.0</td>\n",
       "      <td>0.0</td>\n",
       "      <td>1.0</td>\n",
       "      <td>0.0</td>\n",
       "      <td>0.0</td>\n",
       "      <td>0.0</td>\n",
       "      <td>0.0</td>\n",
       "      <td>0.0</td>\n",
       "      <td>1.0</td>\n",
       "      <td>0.0</td>\n",
       "      <td>1.0</td>\n",
       "      <td>0.0</td>\n",
       "      <td>0.0</td>\n",
       "      <td>1.0</td>\n",
       "      <td>0.0</td>\n",
       "      <td>0.0</td>\n",
       "      <td>0.0</td>\n",
       "      <td>0.0</td>\n",
       "      <td>0.0</td>\n",
       "      <td>50.0</td>\n",
       "      <td>50.0</td>\n",
       "      <td>50.0</td>\n",
       "      <td>0.0</td>\n",
       "      <td>0.207452</td>\n",
       "      <td>0.345642</td>\n",
       "      <td>0.345642</td>\n",
       "      <td>1.0</td>\n",
       "      <td>1.0</td>\n",
       "      <td>1.0</td>\n",
       "      <td>0.0</td>\n",
       "      <td>0.0</td>\n",
       "      <td>0.0</td>\n",
       "      <td>0.0</td>\n",
       "      <td>0.0</td>\n",
       "      <td>50.0</td>\n",
       "      <td>50.0</td>\n",
       "      <td>50.0</td>\n",
       "      <td>0.207452</td>\n",
       "      <td>0.207452</td>\n",
       "      <td>0.3</td>\n",
       "      <td>0.3</td>\n",
       "      <td>1.0</td>\n",
       "      <td>1.0</td>\n",
       "      <td>1.0</td>\n",
       "      <td>0.0</td>\n",
       "      <td>0.0</td>\n",
       "      <td>202.0</td>\n",
       "      <td>1.0</td>\n",
       "      <td>0.0</td>\n",
       "      <td>0.0</td>\n",
       "      <td>0.0</td>\n",
       "      <td>0.0</td>\n",
       "      <td>0.0</td>\n",
       "      <td>0.0</td>\n",
       "      <td>0.0</td>\n",
       "      <td>202.0</td>\n",
       "      <td>0.0</td>\n",
       "      <td>0.0</td>\n",
       "      <td>0.0</td>\n",
       "    </tr>\n",
       "  </tbody>\n",
       "</table>\n",
       "</div>"
      ],
      "text/plain": [
       "   Umaban  UmaKigoCD  Barei  Futan  Blinker  BaTaijyu  Zogen   Kyori  \\\n",
       "0       1          0      3    540        0     428.0   12.0  1200.0   \n",
       "1       2          0      3    540        0     450.0  -10.0  1200.0   \n",
       "2       3          0      3    540        0     458.0    4.0  1200.0   \n",
       "3       4          0      3    540        0     402.0  -10.0  1200.0   \n",
       "4       5          0      3    540        0     482.0    2.0  1200.0   \n",
       "\n",
       "   Special race  SexCD_1  SexCD_2  SexCD_3  HinsyuCD_1  HinsyuCD_2  TozaiCD_1  \\\n",
       "0         False      0.0      1.0      0.0         1.0         0.0        1.0   \n",
       "1         False      0.0      1.0      0.0         1.0         0.0        1.0   \n",
       "2         False      0.0      1.0      0.0         1.0         0.0        1.0   \n",
       "3         False      0.0      1.0      0.0         1.0         0.0        1.0   \n",
       "4         False      0.0      1.0      0.0         1.0         0.0        1.0   \n",
       "\n",
       "   TozaiCD_2  TozaiCD_3  TozaiCD_4  MinaraiCD_0  MinaraiCD_1  MinaraiCD_2  \\\n",
       "0        0.0        0.0        0.0          1.0          0.0          0.0   \n",
       "1        0.0        0.0        0.0          1.0          0.0          0.0   \n",
       "2        0.0        0.0        0.0          1.0          0.0          0.0   \n",
       "3        0.0        0.0        0.0          1.0          0.0          0.0   \n",
       "4        0.0        0.0        0.0          1.0          0.0          0.0   \n",
       "\n",
       "   MinaraiCD_3  JyokenInfo$JyuryoCD_1.0  JyokenInfo$JyuryoCD_2.0  \\\n",
       "0          0.0                      0.0                      0.0   \n",
       "1          0.0                      0.0                      0.0   \n",
       "2          0.0                      0.0                      0.0   \n",
       "3          0.0                      0.0                      0.0   \n",
       "4          0.0                      0.0                      0.0   \n",
       "\n",
       "   JyokenInfo$JyuryoCD_3.0  JyokenInfo$JyuryoCD_4.0  TrackCD_Dirt  \\\n",
       "0                      1.0                      0.0           1.0   \n",
       "1                      1.0                      0.0           1.0   \n",
       "2                      1.0                      0.0           1.0   \n",
       "3                      1.0                      0.0           1.0   \n",
       "4                      1.0                      0.0           1.0   \n",
       "\n",
       "   TrackCD_Jump  TrackCD_Turf  horse_n_races  horse_n_spec_races  horse_top1  \\\n",
       "0           0.0           0.0            1.0                 0.0         0.0   \n",
       "1           0.0           0.0            1.0                 0.0         0.0   \n",
       "2           0.0           0.0            1.0                 0.0         0.0   \n",
       "3           0.0           0.0            1.0                 0.0         0.0   \n",
       "4           0.0           0.0            1.0                 0.0         0.0   \n",
       "\n",
       "   horse_top3  horse_top3_spec  horse_top5  horse_beta=0.3  horse_beta=0.5  \\\n",
       "0         0.0              0.0         0.0            50.0            50.0   \n",
       "1         0.0              0.0         0.0            50.0            50.0   \n",
       "2         0.0              0.0         0.0            50.0            50.0   \n",
       "3         0.0              0.0         0.0            50.0            50.0   \n",
       "4         0.0              0.0         0.0            50.0            50.0   \n",
       "\n",
       "   horse_beta=1.  horse_beta=0.3_top1  horse_beta=0.3_top3  \\\n",
       "0           50.0                  0.0             0.207452   \n",
       "1           50.0                  0.0             0.207452   \n",
       "2           50.0                  0.0             0.207452   \n",
       "3           50.0                  0.0             0.207452   \n",
       "4           50.0                  0.0             0.207452   \n",
       "\n",
       "   horse_beta=0.2_top5  horse_beta=0.3_top5  horse_beta=0.3_speed  \\\n",
       "0             0.345642             0.345642                   1.0   \n",
       "1             0.345642             0.345642                   1.0   \n",
       "2             0.345642             0.345642                   1.0   \n",
       "3             0.345642             0.345642                   1.0   \n",
       "4             0.345642             0.345642                   1.0   \n",
       "\n",
       "   horse_beta=0.5_speed  jockey_n_races  jockey_n_spec_races  jockey_top1  \\\n",
       "0                   1.0             1.0                  0.0          0.0   \n",
       "1                   1.0             1.0                  0.0          0.0   \n",
       "2                   1.0             1.0                  0.0          0.0   \n",
       "3                   1.0             1.0                  0.0          0.0   \n",
       "4                   1.0             1.0                  0.0          0.0   \n",
       "\n",
       "   jockey_top3  jockey_top3_spec  jockey_top5  jockey_beta=0.07  \\\n",
       "0          0.0               0.0          0.0              50.0   \n",
       "1          0.0               0.0          0.0              50.0   \n",
       "2          0.0               0.0          0.0              50.0   \n",
       "3          0.0               0.0          0.0              50.0   \n",
       "4          0.0               0.0          0.0              50.0   \n",
       "\n",
       "   jockey_beta=0.1  jockey_beta=0.2  jockey_beta=0.07_top3  \\\n",
       "0             50.0             50.0               0.207452   \n",
       "1             50.0             50.0               0.207452   \n",
       "2             50.0             50.0               0.207452   \n",
       "3             50.0             50.0               0.207452   \n",
       "4             50.0             50.0               0.207452   \n",
       "\n",
       "   jockey_beta=0.1_top3  jockey_beta=0.2_top5  jockey_beta=0.1_top5  \\\n",
       "0              0.207452                   0.3                   0.3   \n",
       "1              0.207452                   0.3                   0.3   \n",
       "2              0.207452                   0.3                   0.3   \n",
       "3              0.207452                   0.3                   0.3   \n",
       "4              0.207452                   0.3                   0.3   \n",
       "\n",
       "   jockey_beta=0.3_speed  jockey_beta=0.1_speed  owner_n_races  owner_top1  \\\n",
       "0                    1.0                    1.0            1.0         0.0   \n",
       "1                    1.0                    1.0            1.0         0.0   \n",
       "2                    1.0                    1.0            1.0         0.0   \n",
       "3                    1.0                    1.0            1.0         0.0   \n",
       "4                    1.0                    1.0            1.0         0.0   \n",
       "\n",
       "   owner_top3  owner_top5  coach_n_races  coach_top1  coach_top3  coach_top5  \\\n",
       "0         0.0         4.0            1.0         0.0         0.0         0.0   \n",
       "1         0.0       173.0            1.0         0.0         0.0         0.0   \n",
       "2         0.0      2651.0            1.0         0.0         0.0         0.0   \n",
       "3         0.0       518.0            1.0         0.0         0.0         0.0   \n",
       "4         0.0       202.0            1.0         0.0         0.0         0.0   \n",
       "\n",
       "   horse_top3_rate  horse_top3_spec_rate  horse_top5_rate  owner_top3_rate  \\\n",
       "0              0.0                   0.0              0.0              0.0   \n",
       "1              0.0                   0.0              0.0              0.0   \n",
       "2              0.0                   0.0              0.0              0.0   \n",
       "3              0.0                   0.0              0.0              0.0   \n",
       "4              0.0                   0.0              0.0              0.0   \n",
       "\n",
       "   owner_top5_rate  jockey_top3_rate  jockey_top3_spec_rate  jockey_top5_rate  \n",
       "0              4.0               0.0                    0.0               0.0  \n",
       "1            173.0               0.0                    0.0               0.0  \n",
       "2           2651.0               0.0                    0.0               0.0  \n",
       "3            518.0               0.0                    0.0               0.0  \n",
       "4            202.0               0.0                    0.0               0.0  "
      ]
     },
     "execution_count": 14,
     "metadata": {},
     "output_type": "execute_result"
    }
   ],
   "source": [
    "X = df\n",
    "y = df['Top 3']\n",
    "top3 = df['Top 3']\n",
    "raceid = df['raceid']\n",
    "X_train, X_test, y_train, y_test, top3_train, top3_test, raceid_train, raceid_test = split_data(X, y, raceid, top3,\n",
    "                                                                                                drop_columns=drop_cols,\n",
    "                                                                                                select_cols=None,\n",
    "                                                                                                test_size=nrace_test)\n",
    "y_reg = df['KakuteiJyuni_fixed']\n",
    "y_reg_train = y_reg[y_train.index]\n",
    "y_reg_test = y_reg[y_test.index]\n",
    "print(X_train.shape, y_train.shape)\n",
    "print(X_test.shape, y_test.shape)\n",
    "X_train.head()"
   ]
  },
  {
   "cell_type": "markdown",
   "metadata": {},
   "source": [
    "## Model"
   ]
  },
  {
   "cell_type": "code",
   "execution_count": 30,
   "metadata": {},
   "outputs": [
    {
     "data": {
      "text/plain": [
       "MinMaxScaler()"
      ]
     },
     "execution_count": 30,
     "metadata": {},
     "output_type": "execute_result"
    }
   ],
   "source": [
    "scaler = MinMaxScaler()\n",
    "scaler.fit(X_train)"
   ]
  },
  {
   "cell_type": "code",
   "execution_count": 31,
   "metadata": {},
   "outputs": [],
   "source": [
    "X_train_sc = scaler.transform(X_train)\n",
    "X_test_sc = scaler.transform(X_test)"
   ]
  },
  {
   "cell_type": "markdown",
   "metadata": {},
   "source": [
    "### Classification"
   ]
  },
  {
   "cell_type": "code",
   "execution_count": null,
   "metadata": {},
   "outputs": [],
   "source": [
    "model_Log = LogisticRegression(max_iter=300)\n",
    "model_Log.fit(X_train_sc, y_train)"
   ]
  },
  {
   "cell_type": "code",
   "execution_count": 25,
   "metadata": {},
   "outputs": [
    {
     "name": "stdout",
     "output_type": "stream",
     "text": [
      "Total accuracy: 0.7741019187983872\n",
      "Top 3 prediction accuracy: 0.45468560306785116\n"
     ]
    },
    {
     "data": {
      "image/png": "[encoded data removed]",
      "text/plain": [
       "<Figure size 432x288 with 2 Axes>"
      ]
     },
     "metadata": {
      "needs_background": "light"
     },
     "output_type": "display_data"
    }
   ],
   "source": [
    "top3_pred = predict_top3_prob(model_Log, X_train_sc, raceid_train)\n",
    "print('Total accuracy:', accuracy_score(top3_train, top3_pred['Top 3']))\n",
    "print('Top 3 prediction accuracy:', top3_accuracy_score(top3_train.values, top3_pred['Top 3'].values))\n",
    "ax = sns.heatmap(confusion_matrix(top3_train, top3_pred['Top 3']), annot=True, fmt='.0f', cmap='Blues')"
   ]
  },
  {
   "cell_type": "code",
   "execution_count": 40,
   "metadata": {},
   "outputs": [
    {
     "name": "stdout",
     "output_type": "stream",
     "text": [
      "Total accuracy: 0.7836390835367294\n",
      "F1 Score: 0.7834418643878538\n",
      "Top 3 prediction accuracy: 0.476984277325251\n"
     ]
    },
    {
     "data": {
      "image/png": "[encoded data removed]",
      "text/plain": [
       "<Figure size 432x288 with 2 Axes>"
      ]
     },
     "metadata": {
      "needs_background": "light"
     },
     "output_type": "display_data"
    }
   ],
   "source": [
    "top3_pred = predict_top3_prob(model_Log, X_test_sc, raceid_test)\n",
    "print('Total accuracy:', accuracy_score(top3_test, top3_pred['Top 3']))\n",
    "print('F1 Score:', f1_score(top3_test, top3_pred['Top 3'], average='weighted'))\n",
    "print('Top 3 prediction accuracy:', top3_accuracy_score(top3_test.values, top3_pred['Top 3'].values))\n",
    "ax = sns.heatmap(confusion_matrix(top3_test, top3_pred['Top 3']), annot=True, fmt='.0f', cmap='Blues')"
   ]
  },
  {
   "cell_type": "code",
   "execution_count": 46,
   "metadata": {},
   "outputs": [
    {
     "data": {
      "image/png": "[encoded data removed]",
      "text/plain": [
       "<Figure size 1080x720 with 1 Axes>"
      ]
     },
     "metadata": {
      "needs_background": "light"
     },
     "output_type": "display_data"
    }
   ],
   "source": [
    "plt.figure(figsize=(15,10))\n",
    "plt.bar(height=model_Log.coef_[0], x = list(map(str, X_train.columns)))\n",
    "xticks = plt.xticks(rotation=90)"
   ]
  },
  {
   "cell_type": "markdown",
   "metadata": {},
   "source": [
    "### Regression"
   ]
  },
  {
   "cell_type": "code",
   "execution_count": 36,
   "metadata": {},
   "outputs": [
    {
     "data": {
      "text/plain": [
       "LinearRegression()"
      ]
     },
     "execution_count": 36,
     "metadata": {},
     "output_type": "execute_result"
    }
   ],
   "source": [
    "model_reg = LinearRegression()\n",
    "model_reg.fit(X_train_sc, y_reg_train)"
   ]
  },
  {
   "cell_type": "code",
   "execution_count": null,
   "metadata": {},
   "outputs": [],
   "source": [
    "top3_pred = predict_top3_prob(model_reg, X_train_sc, raceid_train)\n",
    "print('Total accuracy:', accuracy_score(top3_train, top3_pred['Top 3']))\n",
    "print('Top 3 prediction accuracy:', top3_accuracy_score(top3_train.values, top3_pred['Top 3'].values))\n",
    "ax = sns.heatmap(confusion_matrix(top3_train, top3_pred['Top 3']), annot=True, fmt='.0f', cmap='Blues')"
   ]
  },
  {
   "cell_type": "code",
   "execution_count": 39,
   "metadata": {},
   "outputs": [
    {
     "name": "stdout",
     "output_type": "stream",
     "text": [
      "Total accuracy: 0.7826155420833005\n",
      "F1 Score: 0.7824173899471848\n",
      "Top 3 prediction accuracy: 0.47452168971396097\n"
     ]
    },
    {
     "data": {
      "image/png": "[encoded data removed]",
      "text/plain": [
       "<Figure size 432x288 with 2 Axes>"
      ]
     },
     "metadata": {
      "needs_background": "light"
     },
     "output_type": "display_data"
    }
   ],
   "source": [
    "top3_pred = predict_top3_time(model_reg, X_test_sc, raceid_test)\n",
    "print('Total accuracy:', accuracy_score(top3_test, top3_pred['Top 3']))\n",
    "print('F1 Score:', f1_score(top3_test, top3_pred['Top 3'], average='weighted'))\n",
    "print('Top 3 prediction accuracy:', top3_accuracy_score(top3_test.values, top3_pred['Top 3'].values))\n",
    "ax = sns.heatmap(confusion_matrix(top3_test, top3_pred['Top 3']), annot=True, fmt='.0f', cmap='Blues')"
   ]
  },
  {
   "cell_type": "code",
   "execution_count": 45,
   "metadata": {},
   "outputs": [
    {
     "data": {
      "image/png": "[encoded data removed]",
      "text/plain": [
       "<Figure size 1080x720 with 1 Axes>"
      ]
     },
     "metadata": {
      "needs_background": "light"
     },
     "output_type": "display_data"
    }
   ],
   "source": [
    "plt.figure(figsize=(15,10))\n",
    "plt.bar(height=model_reg.coef_, x = list(map(str, X_train.columns)))\n",
    "xticks = plt.xticks(rotation=90)"
   ]
  },
  {
   "cell_type": "markdown",
   "metadata": {},
   "source": [
    "## Feature selection"
   ]
  },
  {
   "cell_type": "code",
   "execution_count": 47,
   "metadata": {},
   "outputs": [],
   "source": [
    "from sklearn.feature_selection import SelectFromModel, RFE\n",
    "from sklearn.tree import DecisionTreeClassifier"
   ]
  },
  {
   "cell_type": "code",
   "execution_count": null,
   "metadata": {},
   "outputs": [],
   "source": [
    "X_train, X_val, y_train, y_val, top3_train, top3_val, raceid_train, raceid_val = split_data(X_train, y_train, raceid_train, top3_train,\n",
    "                                                                                            drop_columns=None,\n",
    "                                                                                            select_cols=None,\n",
    "                                                                                            test_size=0.1)\n",
    "print(X_train.shape, y_train.shape)\n",
    "print(X_val.shape, y_val.shape)"
   ]
  },
  {
   "cell_type": "code",
   "execution_count": 51,
   "metadata": {},
   "outputs": [],
   "source": [
    "scaler.fit(X_train)\n",
    "X_train_sc = scaler.transform(X_train)\n",
    "X_val_sc = scaler.transform(X_val)\n",
    "X_test_sc = scaler.transform(X_test)"
   ]
  },
  {
   "cell_type": "markdown",
   "metadata": {},
   "source": [
    "### Selector"
   ]
  },
  {
   "cell_type": "code",
   "execution_count": 48,
   "metadata": {},
   "outputs": [
    {
     "data": {
      "text/plain": [
       "DecisionTreeClassifier(max_depth=50)"
      ]
     },
     "execution_count": 48,
     "metadata": {},
     "output_type": "execute_result"
    }
   ],
   "source": [
    "model_tree = DecisionTreeClassifier(max_depth=50)\n",
    "model_tree.fit(X_train, y_train)"
   ]
  },
  {
   "cell_type": "code",
   "execution_count": 52,
   "metadata": {},
   "outputs": [],
   "source": [
    "selectors = {}"
   ]
  },
  {
   "cell_type": "code",
   "execution_count": 53,
   "metadata": {},
   "outputs": [],
   "source": [
    "selectors['tree'] = SelectFromModel(estimator=model_tree, prefit=True, max_features=40)\n",
    "selectors['log'] = SelectFromModel(estimator=model_Log, prefit=True, max_features=40)"
   ]
  },
  {
   "cell_type": "code",
   "execution_count": null,
   "metadata": {},
   "outputs": [],
   "source": [
    "selectors['RFE'] = RFE(estimator=LogisticRegression(), n_features_to_select=30)\n",
    "selectors['RFE'] = selectors['RFE'].fit(X_train_sc, y_train)"
   ]
  },
  {
   "cell_type": "markdown",
   "metadata": {},
   "source": [
    "### Evaluate"
   ]
  },
  {
   "cell_type": "code",
   "execution_count": 61,
   "metadata": {},
   "outputs": [
    {
     "name": "stdout",
     "output_type": "stream",
     "text": [
      "tree 34\n",
      "log 23\n",
      "RFE 30\n"
     ]
    }
   ],
   "source": [
    "scores = {}\n",
    "for selector in selectors:\n",
    "    print(selector,selectors[selector].get_support().sum())"
   ]
  },
  {
   "cell_type": "code",
   "execution_count": null,
   "metadata": {},
   "outputs": [],
   "source": [
    "from sklearn.ensemble import AdaBoostClassifier"
   ]
  },
  {
   "cell_type": "code",
   "execution_count": null,
   "metadata": {},
   "outputs": [],
   "source": [
    "for selector in selectors:\n",
    "    scores[selector] = {}\n",
    "    X_train_trs = selectors[selector].transform(X_train_sc)\n",
    "    X_val_trs = selectors[selector].transform(X_val_sc)\n",
    "    model_tree_base = AdaBoostClassifier()\n",
    "    model_tree_base.fit(X_train_trs, y_train.values)\n",
    "    top3_pred = predict_top3_prob(model_tree_base, X_val_trs, raceid_val)\n",
    "    scores[selector]['tree'] = top3_accuracy_score(top3_val, top3_pred['Top 3'])\n",
    "\n",
    "    model_linear_base = LogisticRegression(max_iter=200)\n",
    "    model_linear_base.fit(X_train_trs, y_train.values)\n",
    "    top3_pred = predict_top3_prob(model_linear_base, X_val_trs, raceid_val)\n",
    "    scores[selector]['linear']=top3_accuracy_score(top3_val, top3_pred['Top 3'])"
   ]
  },
  {
   "cell_type": "code",
   "execution_count": 68,
   "metadata": {},
   "outputs": [],
   "source": [
    "with open(r'..\\reports\\feature_selector_scores.json', 'w') as f:\n",
    "    f.write(json.dumps(scores))\n",
    "selected_features = X_train.columns[selectors['RFE'].get_support()]"
   ]
  },
  {
   "cell_type": "markdown",
   "metadata": {},
   "source": [
    "# Select some algorithms"
   ]
  },
  {
   "cell_type": "code",
   "execution_count": 76,
   "metadata": {},
   "outputs": [],
   "source": [
    "from sklearn.ensemble import (\n",
    "ExtraTreesClassifier,\n",
    "RandomForestClassifier,\n",
    "AdaBoostClassifier,\n",
    "GradientBoostingClassifier)"
   ]
  },
  {
   "cell_type": "code",
   "execution_count": 77,
   "metadata": {},
   "outputs": [],
   "source": [
    "X_train = X_train[selected_features]\n",
    "X_val = X_val[selected_features]\n",
    "X_test = X_test[selected_features]"
   ]
  },
  {
   "cell_type": "markdown",
   "metadata": {},
   "source": [
    "## Logistic regression"
   ]
  },
  {
   "cell_type": "code",
   "execution_count": 79,
   "metadata": {},
   "outputs": [],
   "source": [
    "scores = {}"
   ]
  },
  {
   "cell_type": "code",
   "execution_count": 78,
   "metadata": {},
   "outputs": [],
   "source": [
    "scaler.fit(X_train)\n",
    "X_train_sc = scaler.transform(X_train)\n",
    "X_val_sc = scaler.transform(X_val)\n",
    "X_test_sc = scaler.transform(X_test)"
   ]
  },
  {
   "cell_type": "code",
   "execution_count": 80,
   "metadata": {},
   "outputs": [
    {
     "data": {
      "text/plain": [
       "LogisticRegression(max_iter=500)"
      ]
     },
     "execution_count": 80,
     "metadata": {},
     "output_type": "execute_result"
    }
   ],
   "source": [
    "model_log = LogisticRegression(max_iter=500)\n",
    "model_log.fit(X_train_sc, y_train)"
   ]
  },
  {
   "cell_type": "code",
   "execution_count": 89,
   "metadata": {},
   "outputs": [
    {
     "name": "stdout",
     "output_type": "stream",
     "text": [
      "Total accuracy: 0.775937386239534\n",
      "Top 3 prediction accuracy: 0.46525040853599925\n"
     ]
    }
   ],
   "source": [
    "top3_pred = predict_top3_prob(model_log, X_val_sc, raceid_val)\n",
    "scores['log'] = top3_accuracy_score(top3_val.values, top3_pred['Top 3'].values)\n",
    "print('Total accuracy:', accuracy_score(top3_val, top3_pred['Top 3']))\n",
    "print('Top 3 prediction accuracy:', scores['log'])"
   ]
  },
  {
   "cell_type": "code",
   "execution_count": 90,
   "metadata": {},
   "outputs": [
    {
     "data": {
      "image/png": "[encoded data removed]",
      "text/plain": [
       "<Figure size 1440x1152 with 1 Axes>"
      ]
     },
     "metadata": {
      "needs_background": "light"
     },
     "output_type": "display_data"
    }
   ],
   "source": [
    "plt.figure(figsize=(20,16))\n",
    "plt.bar(height=model_log.coef_[0], x = list(map(str, X_train.columns)))\n",
    "xticks = plt.xticks(rotation=90)"
   ]
  },
  {
   "cell_type": "markdown",
   "metadata": {},
   "source": [
    "## Random forest"
   ]
  },
  {
   "cell_type": "code",
   "execution_count": 84,
   "metadata": {},
   "outputs": [
    {
     "data": {
      "text/plain": [
       "RandomForestClassifier(n_estimators=50)"
      ]
     },
     "execution_count": 84,
     "metadata": {},
     "output_type": "execute_result"
    }
   ],
   "source": [
    "model_forest = RandomForestClassifier(n_estimators=50)\n",
    "model_forest.fit(X_train, y_train)"
   ]
  },
  {
   "cell_type": "code",
   "execution_count": 86,
   "metadata": {},
   "outputs": [
    {
     "name": "stdout",
     "output_type": "stream",
     "text": [
      "Total accuracy: 0.7652995186668284\n",
      "Top 3 prediction accuracy: 0.43996923964241086\n"
     ]
    }
   ],
   "source": [
    "top3_pred = predict_top3_prob(model_forest, X_val, raceid_val)\n",
    "scores['forest'] = top3_accuracy_score(top3_val.values, top3_pred['Top 3'].values)\n",
    "print('Total accuracy:', accuracy_score(top3_val, top3_pred['Top 3']))\n",
    "print('Top 3 prediction accuracy:', scores['forest'])"
   ]
  },
  {
   "cell_type": "markdown",
   "metadata": {},
   "source": [
    "## AdaBoost"
   ]
  },
  {
   "cell_type": "code",
   "execution_count": 92,
   "metadata": {},
   "outputs": [
    {
     "data": {
      "text/plain": [
       "AdaBoostClassifier()"
      ]
     },
     "execution_count": 92,
     "metadata": {},
     "output_type": "execute_result"
    }
   ],
   "source": [
    "model_ada = AdaBoostClassifier()\n",
    "model_ada.fit(X_train, y_train)"
   ]
  },
  {
   "cell_type": "code",
   "execution_count": 93,
   "metadata": {},
   "outputs": [
    {
     "name": "stdout",
     "output_type": "stream",
     "text": [
      "Total accuracy: 0.7721352586660195\n",
      "Top 3 prediction accuracy: 0.4562145534941844\n"
     ]
    }
   ],
   "source": [
    "top3_pred = predict_top3_prob(model_ada, X_val, raceid_val)\n",
    "scores['ada'] = top3_accuracy_score(top3_val.values, top3_pred['Top 3'].values)\n",
    "print('Total accuracy:', accuracy_score(top3_val, top3_pred['Top 3']))\n",
    "print('Top 3 prediction accuracy:', scores['ada'])"
   ]
  },
  {
   "cell_type": "markdown",
   "metadata": {},
   "source": [
    "## Gradient boost"
   ]
  },
  {
   "cell_type": "code",
   "execution_count": 95,
   "metadata": {},
   "outputs": [
    {
     "data": {
      "text/plain": [
       "GradientBoostingClassifier()"
      ]
     },
     "execution_count": 95,
     "metadata": {},
     "output_type": "execute_result"
    }
   ],
   "source": [
    "model_gb = GradientBoostingClassifier()\n",
    "model_gb.fit(X_train, y_train)"
   ]
  },
  {
   "cell_type": "code",
   "execution_count": 96,
   "metadata": {},
   "outputs": [
    {
     "name": "stdout",
     "output_type": "stream",
     "text": [
      "Total accuracy: 0.778526068842778\n",
      "Top 3 prediction accuracy: 0.4714024800538306\n"
     ]
    }
   ],
   "source": [
    "top3_pred = predict_top3_prob(model_gb, X_val, raceid_val)\n",
    "scores['gb'] = top3_accuracy_score(top3_val.values, top3_pred['Top 3'].values)\n",
    "print('Total accuracy:', accuracy_score(top3_val, top3_pred['Top 3']))\n",
    "print('Top 3 prediction accuracy:', scores['gb'])"
   ]
  },
  {
   "cell_type": "markdown",
   "metadata": {},
   "source": [
    "## DNN model"
   ]
  },
  {
   "cell_type": "code",
   "execution_count": 99,
   "metadata": {},
   "outputs": [],
   "source": [
    "ckpt_folder = '../src/modelcheckpoint/'"
   ]
  },
  {
   "cell_type": "markdown",
   "metadata": {},
   "source": [
    "### Model"
   ]
  },
  {
   "cell_type": "code",
   "execution_count": 100,
   "metadata": {},
   "outputs": [],
   "source": [
    "model_nn = tf.keras.Sequential([\n",
    "    tf.keras.layers.Dense(50, activation='relu'),\n",
    "    tf.keras.layers.Dense(50, activation='relu'),\n",
    "    tf.keras.layers.Dense(20, activation='relu'),\n",
    "    tf.keras.layers.Dense(20, activation='relu'),\n",
    "    tf.keras.layers.Dense(10, activation='relu'),\n",
    "    tf.keras.layers.Dense(10, activation='relu'),\n",
    "    tf.keras.layers.Dense(1, activation='sigmoid'),\n",
    "])"
   ]
  },
  {
   "cell_type": "code",
   "execution_count": 101,
   "metadata": {},
   "outputs": [],
   "source": [
    "model_nn.compile(\n",
    "                loss = tf.keras.losses.BinaryFocalCrossentropy(),\n",
    "                # loss = 'binary_crossentropy',\n",
    "                optimizer=tf.keras.optimizers.Adam(learning_rate=0.001),\n",
    "                metrics=['acc'])"
   ]
  },
  {
   "cell_type": "code",
   "execution_count": 102,
   "metadata": {},
   "outputs": [],
   "source": [
    "callbacks = callbacks=[tf.keras.callbacks.ReduceLROnPlateau(fractions=0.1,monitor='val_loss', patience=3),\n",
    "                       tf.keras.callbacks.EarlyStopping(monitor='val_loss', patience=12, min_delta=0.0001),\n",
    "                       tf.keras.callbacks.ModelCheckpoint(ckpt_folder+'model_dnn.hdf5', save_best_only=True)]"
   ]
  },
  {
   "cell_type": "code",
   "execution_count": 103,
   "metadata": {},
   "outputs": [
    {
     "name": "stdout",
     "output_type": "stream",
     "text": [
      "Epoch 1/200\n",
      "441/441 [==============================] - 3s 5ms/step - loss: 0.1180 - acc: 0.7952 - val_loss: 0.1164 - val_acc: 0.7945 - lr: 0.0010\n",
      "Epoch 2/200\n",
      "441/441 [==============================] - 2s 4ms/step - loss: 0.1159 - acc: 0.7977 - val_loss: 0.1159 - val_acc: 0.7966 - lr: 0.0010\n",
      "Epoch 3/200\n",
      "441/441 [==============================] - 2s 4ms/step - loss: 0.1155 - acc: 0.7985 - val_loss: 0.1158 - val_acc: 0.7968 - lr: 0.0010\n",
      "Epoch 4/200\n",
      "441/441 [==============================] - 2s 4ms/step - loss: 0.1153 - acc: 0.7985 - val_loss: 0.1157 - val_acc: 0.7970 - lr: 0.0010\n",
      "Epoch 5/200\n",
      "441/441 [==============================] - 2s 4ms/step - loss: 0.1151 - acc: 0.7989 - val_loss: 0.1161 - val_acc: 0.7947 - lr: 0.0010\n",
      "Epoch 6/200\n",
      "441/441 [==============================] - 2s 4ms/step - loss: 0.1150 - acc: 0.7994 - val_loss: 0.1153 - val_acc: 0.7973 - lr: 0.0010\n",
      "Epoch 7/200\n",
      "441/441 [==============================] - 2s 4ms/step - loss: 0.1149 - acc: 0.7995 - val_loss: 0.1154 - val_acc: 0.7974 - lr: 0.0010\n",
      "Epoch 8/200\n",
      "441/441 [==============================] - 2s 4ms/step - loss: 0.1148 - acc: 0.8000 - val_loss: 0.1155 - val_acc: 0.7985 - lr: 0.0010\n",
      "Epoch 9/200\n",
      "441/441 [==============================] - 2s 4ms/step - loss: 0.1147 - acc: 0.7998 - val_loss: 0.1152 - val_acc: 0.7986 - lr: 0.0010\n",
      "Epoch 10/200\n",
      "441/441 [==============================] - 2s 4ms/step - loss: 0.1147 - acc: 0.7998 - val_loss: 0.1151 - val_acc: 0.7988 - lr: 0.0010\n",
      "Epoch 11/200\n",
      "441/441 [==============================] - 2s 4ms/step - loss: 0.1147 - acc: 0.7999 - val_loss: 0.1153 - val_acc: 0.7989 - lr: 0.0010\n",
      "Epoch 12/200\n",
      "441/441 [==============================] - 2s 4ms/step - loss: 0.1146 - acc: 0.7999 - val_loss: 0.1157 - val_acc: 0.7989 - lr: 0.0010\n",
      "Epoch 13/200\n",
      "441/441 [==============================] - 2s 4ms/step - loss: 0.1146 - acc: 0.8001 - val_loss: 0.1157 - val_acc: 0.7965 - lr: 0.0010\n",
      "Epoch 14/200\n",
      "441/441 [==============================] - 2s 4ms/step - loss: 0.1143 - acc: 0.8009 - val_loss: 0.1149 - val_acc: 0.7988 - lr: 1.0000e-04\n",
      "Epoch 15/200\n",
      "441/441 [==============================] - 2s 4ms/step - loss: 0.1142 - acc: 0.8008 - val_loss: 0.1151 - val_acc: 0.7980 - lr: 1.0000e-04\n",
      "Epoch 16/200\n",
      "441/441 [==============================] - 2s 4ms/step - loss: 0.1142 - acc: 0.8007 - val_loss: 0.1150 - val_acc: 0.7992 - lr: 1.0000e-04\n",
      "Epoch 17/200\n",
      "441/441 [==============================] - 2s 4ms/step - loss: 0.1142 - acc: 0.8008 - val_loss: 0.1150 - val_acc: 0.7988 - lr: 1.0000e-04\n",
      "Epoch 18/200\n",
      "441/441 [==============================] - 2s 4ms/step - loss: 0.1142 - acc: 0.8008 - val_loss: 0.1150 - val_acc: 0.7988 - lr: 1.0000e-05\n",
      "Epoch 19/200\n",
      "441/441 [==============================] - 2s 4ms/step - loss: 0.1142 - acc: 0.8008 - val_loss: 0.1150 - val_acc: 0.7986 - lr: 1.0000e-05\n",
      "Epoch 20/200\n",
      "441/441 [==============================] - 2s 4ms/step - loss: 0.1142 - acc: 0.8010 - val_loss: 0.1150 - val_acc: 0.7987 - lr: 1.0000e-05\n",
      "Epoch 21/200\n",
      "441/441 [==============================] - 2s 4ms/step - loss: 0.1142 - acc: 0.8010 - val_loss: 0.1150 - val_acc: 0.7987 - lr: 1.0000e-06\n",
      "Epoch 22/200\n",
      "441/441 [==============================] - 2s 4ms/step - loss: 0.1142 - acc: 0.8010 - val_loss: 0.1150 - val_acc: 0.7987 - lr: 1.0000e-06\n",
      "Epoch 23/200\n",
      "441/441 [==============================] - 2s 4ms/step - loss: 0.1142 - acc: 0.8010 - val_loss: 0.1150 - val_acc: 0.7987 - lr: 1.0000e-06\n",
      "Epoch 24/200\n",
      "441/441 [==============================] - 2s 3ms/step - loss: 0.1142 - acc: 0.8009 - val_loss: 0.1150 - val_acc: 0.7987 - lr: 1.0000e-07\n",
      "Epoch 25/200\n",
      "441/441 [==============================] - 1s 3ms/step - loss: 0.1142 - acc: 0.8009 - val_loss: 0.1150 - val_acc: 0.7987 - lr: 1.0000e-07\n",
      "Epoch 26/200\n",
      "441/441 [==============================] - 2s 4ms/step - loss: 0.1142 - acc: 0.8010 - val_loss: 0.1150 - val_acc: 0.7987 - lr: 1.0000e-07\n"
     ]
    }
   ],
   "source": [
    "history = model_nn.fit(X_train_sc, y_train,\n",
    "                       epochs = 200,\n",
    "                       validation_data=(X_val_sc, y_val),\n",
    "                       batch_size=1024,\n",
    "                    #    class_weight={0:0.2, 1:0.8},\n",
    "                       callbacks=callbacks)"
   ]
  },
  {
   "cell_type": "markdown",
   "metadata": {},
   "source": [
    "### Evaluate"
   ]
  },
  {
   "cell_type": "code",
   "execution_count": 104,
   "metadata": {},
   "outputs": [],
   "source": [
    "model_nn = tf.keras.models.load_model(ckpt_folder + 'model_dnn.hdf5')"
   ]
  },
  {
   "cell_type": "code",
   "execution_count": 105,
   "metadata": {},
   "outputs": [
    {
     "name": "stdout",
     "output_type": "stream",
     "text": [
      "Total accuracy: 0.7794563766533188\n",
      "Top 3 prediction accuracy: 0.47361338075555126\n"
     ]
    }
   ],
   "source": [
    "top3_pred = predict_top3_prob(model_nn, X_val_sc, raceid_val)\n",
    "scores['dnn'] = top3_accuracy_score(top3_val.values, top3_pred['Top 3'].values)\n",
    "print('Total accuracy:', accuracy_score(top3_val, top3_pred['Top 3']))\n",
    "print('Top 3 prediction accuracy:', scores['dnn'])"
   ]
  },
  {
   "cell_type": "code",
   "execution_count": 107,
   "metadata": {},
   "outputs": [],
   "source": [
    "with open(r'..\\reports\\algorithm_selection.json', 'w') as f:\n",
    "    f.write(json.dumps(scores))"
   ]
  },
  {
   "cell_type": "markdown",
   "metadata": {},
   "source": [
    "# Horses, jockeys, owners, coaches info"
   ]
  },
  {
   "cell_type": "code",
   "execution_count": 109,
   "metadata": {},
   "outputs": [],
   "source": [
    "def last_race_info(col):\n",
    "    idx = max(col.index)\n",
    "    return col[idx]"
   ]
  },
  {
   "cell_type": "markdown",
   "metadata": {},
   "source": [
    "## Jockeys"
   ]
  },
  {
   "cell_type": "code",
   "execution_count": 116,
   "metadata": {},
   "outputs": [],
   "source": [
    "jockey_df = df.loc[:, ['jockey_n_races']+[col for col in selected_features if 'jockey' in col]]\n",
    "jockey_df = jockey_df.groupby(df['KisyuCode'].astype(str)).agg(dict([(key, last_race_info) for key in jockey_df.columns]))\n",
    "jockey_df.to_csv(data_path + 'jockey_info.csv', index=True)"
   ]
  },
  {
   "cell_type": "code",
   "execution_count": 117,
   "metadata": {},
   "outputs": [
    {
     "data": {
      "text/html": [
       "<div>\n",
       "<style scoped>\n",
       "    .dataframe tbody tr th:only-of-type {\n",
       "        vertical-align: middle;\n",
       "    }\n",
       "\n",
       "    .dataframe tbody tr th {\n",
       "        vertical-align: top;\n",
       "    }\n",
       "\n",
       "    .dataframe thead th {\n",
       "        text-align: right;\n",
       "    }\n",
       "</style>\n",
       "<table border=\"1\" class=\"dataframe\">\n",
       "  <thead>\n",
       "    <tr style=\"text-align: right;\">\n",
       "      <th></th>\n",
       "      <th>jockey_n_races</th>\n",
       "      <th>jockey_beta=0.07</th>\n",
       "      <th>jockey_beta=0.07_top3</th>\n",
       "      <th>jockey_beta=0.1_top3</th>\n",
       "      <th>jockey_top5_rate</th>\n",
       "    </tr>\n",
       "    <tr>\n",
       "      <th>KisyuCode</th>\n",
       "      <th></th>\n",
       "      <th></th>\n",
       "      <th></th>\n",
       "      <th></th>\n",
       "      <th></th>\n",
       "    </tr>\n",
       "  </thead>\n",
       "  <tbody>\n",
       "    <tr>\n",
       "      <th>1001</th>\n",
       "      <td>140.0</td>\n",
       "      <td>67.384403</td>\n",
       "      <td>0.061902</td>\n",
       "      <td>0.058235</td>\n",
       "      <td>0.178571</td>\n",
       "    </tr>\n",
       "    <tr>\n",
       "      <th>1003</th>\n",
       "      <td>246.0</td>\n",
       "      <td>58.272148</td>\n",
       "      <td>0.119594</td>\n",
       "      <td>0.128676</td>\n",
       "      <td>0.292683</td>\n",
       "    </tr>\n",
       "    <tr>\n",
       "      <th>1004</th>\n",
       "      <td>4041.0</td>\n",
       "      <td>62.637735</td>\n",
       "      <td>0.014356</td>\n",
       "      <td>0.005169</td>\n",
       "      <td>0.210344</td>\n",
       "    </tr>\n",
       "    <tr>\n",
       "      <th>1005</th>\n",
       "      <td>596.0</td>\n",
       "      <td>62.873930</td>\n",
       "      <td>0.206196</td>\n",
       "      <td>0.203323</td>\n",
       "      <td>0.511745</td>\n",
       "    </tr>\n",
       "    <tr>\n",
       "      <th>1006</th>\n",
       "      <td>1036.0</td>\n",
       "      <td>67.185129</td>\n",
       "      <td>0.074959</td>\n",
       "      <td>0.090084</td>\n",
       "      <td>0.205598</td>\n",
       "    </tr>\n",
       "  </tbody>\n",
       "</table>\n",
       "</div>"
      ],
      "text/plain": [
       "           jockey_n_races  jockey_beta=0.07  jockey_beta=0.07_top3  \\\n",
       "KisyuCode                                                            \n",
       "1001                140.0         67.384403               0.061902   \n",
       "1003                246.0         58.272148               0.119594   \n",
       "1004               4041.0         62.637735               0.014356   \n",
       "1005                596.0         62.873930               0.206196   \n",
       "1006               1036.0         67.185129               0.074959   \n",
       "\n",
       "           jockey_beta=0.1_top3  jockey_top5_rate  \n",
       "KisyuCode                                          \n",
       "1001                   0.058235          0.178571  \n",
       "1003                   0.128676          0.292683  \n",
       "1004                   0.005169          0.210344  \n",
       "1005                   0.203323          0.511745  \n",
       "1006                   0.090084          0.205598  "
      ]
     },
     "execution_count": 117,
     "metadata": {},
     "output_type": "execute_result"
    }
   ],
   "source": [
    "jockey_df.head()"
   ]
  },
  {
   "cell_type": "markdown",
   "metadata": {},
   "source": [
    "## Owners"
   ]
  },
  {
   "cell_type": "code",
   "execution_count": 118,
   "metadata": {},
   "outputs": [],
   "source": [
    "owner_df = df.loc[:, ['owner_n_races']+[col for col in selected_features if 'owner' in col]]\n",
    "owner_df = owner_df.groupby(df['BanusiCode'].astype(str)).agg(dict([(key, last_race_info) for key in owner_df.columns]))\n",
    "owner_df.to_csv(data_path + 'owner_info.csv', index=True)"
   ]
  },
  {
   "cell_type": "markdown",
   "metadata": {},
   "source": [
    "## Coaches"
   ]
  },
  {
   "cell_type": "code",
   "execution_count": 119,
   "metadata": {},
   "outputs": [],
   "source": [
    "coach_df = df.loc[:,[col for col in selected_features if 'coach' in col]]\n",
    "coach_df = coach_df.groupby(df['ChokyosiCode'].astype(str)).agg(dict([(key, last_race_info) for key in coach_df.columns]))\n",
    "coach_df.to_csv(data_path + 'coach_info.csv', index=True)"
   ]
  },
  {
   "cell_type": "markdown",
   "metadata": {},
   "source": [
    "## Horse"
   ]
  },
  {
   "cell_type": "code",
   "execution_count": 124,
   "metadata": {},
   "outputs": [],
   "source": [
    "horse_cols = ['ChokyosiCode','BanusiCode', 'horse_n_races'] + [col for col in selected_features if col not in list(jockey_df.columns) + list(coach_df.columns) + list(owner_df.columns)]"
   ]
  },
  {
   "cell_type": "code",
   "execution_count": 127,
   "metadata": {},
   "outputs": [],
   "source": [
    "horse_df = df.loc[:,horse_cols]\n",
    "horse_df = horse_df.groupby(df['KettoNum'].astype(str)).agg(dict([(key, last_race_info) for key in horse_df.columns]))\n",
    "horse_df.to_csv(data_path+'horse_info.csv', index=True)"
   ]
  },
  {
   "cell_type": "markdown",
   "metadata": {},
   "source": [
    "# Init values"
   ]
  },
  {
   "cell_type": "code",
   "execution_count": 128,
   "metadata": {},
   "outputs": [],
   "source": [
    "features = {\n",
    "    'selected_features': list(selected_features),\n",
    "    'horse' : list(horse_df.columns),\n",
    "    'jockey' : list(jockey_df.columns)\n",
    "}\n",
    "with open('../src/app_data/selected_features.json', 'w') as f:\n",
    "    f.write(json.dumps(features))"
   ]
  },
  {
   "cell_type": "code",
   "execution_count": 141,
   "metadata": {},
   "outputs": [],
   "source": [
    "init_vals = {}\n",
    "for field in horse_exp:\n",
    "    init_vals['horse_' + field] = horse_exp[field].init_val\n",
    "for field in jockey_exp:\n",
    "    init_vals['jockey_' + field] = jockey_exp[field].init_val\n",
    "for field in owner_exp:\n",
    "    init_vals['owner_' + field] = owner_exp[field].init_val\n",
    "for field in coach_exp:\n",
    "    init_vals['coach_' + field] = coach_exp[field].init_val\n",
    "\n",
    "for col in selected_features:\n",
    "    if col not in init_vals:\n",
    "        init_vals[col] = df[col].mean()\n",
    "\n",
    "for col in ['SexCD_1', 'SexCD_2', 'SexCD_3','HinsyuCD_2', 'TozaiCD_3', 'TrackCD_Dirt', 'TrackCD_Turf']:\n",
    "    init_vals[col] = 0.0\n",
    "init_vals['HinsyuCD_1'] = 1.0\n",
    "\n",
    "\n",
    "with open('../src/app_data/init_val.json', 'w') as f:\n",
    "    f.write(json.dumps(init_vals))"
   ]
  },
  {
   "cell_type": "code",
   "execution_count": 143,
   "metadata": {},
   "outputs": [],
   "source": [
    "df = df[list(selected_features)+['KettoNum','Top 1','Top 3','Top 5','raceid']]"
   ]
  },
  {
   "cell_type": "code",
   "execution_count": 144,
   "metadata": {},
   "outputs": [],
   "source": [
    "df.to_csv(r'..\\data\\selected_data.csv', index=False)"
   ]
  }
 ],
 "metadata": {
  "kernelspec": {
   "display_name": "Python 3.8.8 ('base')",
   "language": "python",
   "name": "python3"
  },
  "language_info": {
   "codemirror_mode": {
    "name": "ipython",
    "version": 3
   },
   "file_extension": ".py",
   "mimetype": "text/x-python",
   "name": "python",
   "nbconvert_exporter": "python",
   "pygments_lexer": "ipython3",
   "version": "3.8.8"
  },
  "orig_nbformat": 4,
  "vscode": {
   "interpreter": {
    "hash": "e03f6116cfce4490e4a2d0de95175f66d612656664c145165e733f456e1250ed"
   }
  }
 },
 "nbformat": 4,
 "nbformat_minor": 2
}
