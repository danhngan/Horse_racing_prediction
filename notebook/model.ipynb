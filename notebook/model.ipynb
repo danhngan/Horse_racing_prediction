{
 "cells": [
  {
   "cell_type": "code",
   "execution_count": null,
   "metadata": {},
   "outputs": [],
   "source": [
    "import pandas as pd\n",
    "import numpy as np\n",
    "import tensorflow as tf\n",
    "\n",
    "import matplotlib.pyplot as plt\n",
    "import seaborn as sns\n",
    "\n",
    "from helper import *"
   ]
  },
  {
   "cell_type": "markdown",
   "metadata": {},
   "source": [
    "# Prepare data"
   ]
  },
  {
   "cell_type": "code",
   "execution_count": 2,
   "metadata": {},
   "outputs": [
    {
     "name": "stdout",
     "output_type": "stream",
     "text": [
      "(525663, 51)\n"
     ]
    },
    {
     "data": {
      "text/html": [
       "<div>\n",
       "<style scoped>\n",
       "    .dataframe tbody tr th:only-of-type {\n",
       "        vertical-align: middle;\n",
       "    }\n",
       "\n",
       "    .dataframe tbody tr th {\n",
       "        vertical-align: top;\n",
       "    }\n",
       "\n",
       "    .dataframe thead th {\n",
       "        text-align: right;\n",
       "    }\n",
       "</style>\n",
       "<table border=\"1\" class=\"dataframe\">\n",
       "  <thead>\n",
       "    <tr style=\"text-align: right;\">\n",
       "      <th></th>\n",
       "      <th>raceid</th>\n",
       "      <th>Time</th>\n",
       "      <th>KakuteiJyuni</th>\n",
       "      <th>DochakuKubun</th>\n",
       "      <th>DochakuTosu</th>\n",
       "      <th>Umaban</th>\n",
       "      <th>KettoNum</th>\n",
       "      <th>KeiroCD</th>\n",
       "      <th>Barei</th>\n",
       "      <th>ChokyosiCode</th>\n",
       "      <th>...</th>\n",
       "      <th>MinaraiCD_1</th>\n",
       "      <th>MinaraiCD_2</th>\n",
       "      <th>MinaraiCD_3</th>\n",
       "      <th>JyokenInfo$JyuryoCD_1.0</th>\n",
       "      <th>JyokenInfo$JyuryoCD_2.0</th>\n",
       "      <th>JyokenInfo$JyuryoCD_3.0</th>\n",
       "      <th>JyokenInfo$JyuryoCD_4.0</th>\n",
       "      <th>TrackCD_Dirt</th>\n",
       "      <th>TrackCD_Jump</th>\n",
       "      <th>TrackCD_Turf</th>\n",
       "    </tr>\n",
       "  </thead>\n",
       "  <tbody>\n",
       "    <tr>\n",
       "      <th>0</th>\n",
       "      <td>2008-01-05 01:06</td>\n",
       "      <td>752</td>\n",
       "      <td>8</td>\n",
       "      <td>0</td>\n",
       "      <td>0</td>\n",
       "      <td>1</td>\n",
       "      <td>2005107051</td>\n",
       "      <td>3</td>\n",
       "      <td>3</td>\n",
       "      <td>437</td>\n",
       "      <td>...</td>\n",
       "      <td>0.0</td>\n",
       "      <td>0.0</td>\n",
       "      <td>0.0</td>\n",
       "      <td>0.0</td>\n",
       "      <td>0.0</td>\n",
       "      <td>1.0</td>\n",
       "      <td>0.0</td>\n",
       "      <td>1.0</td>\n",
       "      <td>0.0</td>\n",
       "      <td>0.0</td>\n",
       "    </tr>\n",
       "    <tr>\n",
       "      <th>1</th>\n",
       "      <td>2008-01-05 01:06</td>\n",
       "      <td>739</td>\n",
       "      <td>1</td>\n",
       "      <td>0</td>\n",
       "      <td>0</td>\n",
       "      <td>2</td>\n",
       "      <td>2005102028</td>\n",
       "      <td>3</td>\n",
       "      <td>3</td>\n",
       "      <td>138</td>\n",
       "      <td>...</td>\n",
       "      <td>0.0</td>\n",
       "      <td>0.0</td>\n",
       "      <td>0.0</td>\n",
       "      <td>0.0</td>\n",
       "      <td>0.0</td>\n",
       "      <td>1.0</td>\n",
       "      <td>0.0</td>\n",
       "      <td>1.0</td>\n",
       "      <td>0.0</td>\n",
       "      <td>0.0</td>\n",
       "    </tr>\n",
       "    <tr>\n",
       "      <th>2</th>\n",
       "      <td>2008-01-05 01:06</td>\n",
       "      <td>742</td>\n",
       "      <td>3</td>\n",
       "      <td>0</td>\n",
       "      <td>0</td>\n",
       "      <td>3</td>\n",
       "      <td>2005104156</td>\n",
       "      <td>3</td>\n",
       "      <td>3</td>\n",
       "      <td>1054</td>\n",
       "      <td>...</td>\n",
       "      <td>0.0</td>\n",
       "      <td>0.0</td>\n",
       "      <td>0.0</td>\n",
       "      <td>0.0</td>\n",
       "      <td>0.0</td>\n",
       "      <td>1.0</td>\n",
       "      <td>0.0</td>\n",
       "      <td>1.0</td>\n",
       "      <td>0.0</td>\n",
       "      <td>0.0</td>\n",
       "    </tr>\n",
       "    <tr>\n",
       "      <th>3</th>\n",
       "      <td>2008-01-05 01:06</td>\n",
       "      <td>749</td>\n",
       "      <td>6</td>\n",
       "      <td>0</td>\n",
       "      <td>0</td>\n",
       "      <td>4</td>\n",
       "      <td>2005105319</td>\n",
       "      <td>3</td>\n",
       "      <td>3</td>\n",
       "      <td>1081</td>\n",
       "      <td>...</td>\n",
       "      <td>0.0</td>\n",
       "      <td>0.0</td>\n",
       "      <td>0.0</td>\n",
       "      <td>0.0</td>\n",
       "      <td>0.0</td>\n",
       "      <td>1.0</td>\n",
       "      <td>0.0</td>\n",
       "      <td>1.0</td>\n",
       "      <td>0.0</td>\n",
       "      <td>0.0</td>\n",
       "    </tr>\n",
       "    <tr>\n",
       "      <th>4</th>\n",
       "      <td>2008-01-05 01:06</td>\n",
       "      <td>739</td>\n",
       "      <td>2</td>\n",
       "      <td>0</td>\n",
       "      <td>0</td>\n",
       "      <td>5</td>\n",
       "      <td>2005101044</td>\n",
       "      <td>3</td>\n",
       "      <td>3</td>\n",
       "      <td>1088</td>\n",
       "      <td>...</td>\n",
       "      <td>0.0</td>\n",
       "      <td>0.0</td>\n",
       "      <td>0.0</td>\n",
       "      <td>0.0</td>\n",
       "      <td>0.0</td>\n",
       "      <td>1.0</td>\n",
       "      <td>0.0</td>\n",
       "      <td>1.0</td>\n",
       "      <td>0.0</td>\n",
       "      <td>0.0</td>\n",
       "    </tr>\n",
       "  </tbody>\n",
       "</table>\n",
       "<p>5 rows × 51 columns</p>\n",
       "</div>"
      ],
      "text/plain": [
       "             raceid  Time  KakuteiJyuni  DochakuKubun  DochakuTosu  Umaban  \\\n",
       "0  2008-01-05 01:06   752             8             0            0       1   \n",
       "1  2008-01-05 01:06   739             1             0            0       2   \n",
       "2  2008-01-05 01:06   742             3             0            0       3   \n",
       "3  2008-01-05 01:06   749             6             0            0       4   \n",
       "4  2008-01-05 01:06   739             2             0            0       5   \n",
       "\n",
       "     KettoNum  KeiroCD  Barei  ChokyosiCode  ...  MinaraiCD_1  MinaraiCD_2  \\\n",
       "0  2005107051        3      3           437  ...          0.0          0.0   \n",
       "1  2005102028        3      3           138  ...          0.0          0.0   \n",
       "2  2005104156        3      3          1054  ...          0.0          0.0   \n",
       "3  2005105319        3      3          1081  ...          0.0          0.0   \n",
       "4  2005101044        3      3          1088  ...          0.0          0.0   \n",
       "\n",
       "   MinaraiCD_3  JyokenInfo$JyuryoCD_1.0  JyokenInfo$JyuryoCD_2.0  \\\n",
       "0          0.0                      0.0                      0.0   \n",
       "1          0.0                      0.0                      0.0   \n",
       "2          0.0                      0.0                      0.0   \n",
       "3          0.0                      0.0                      0.0   \n",
       "4          0.0                      0.0                      0.0   \n",
       "\n",
       "   JyokenInfo$JyuryoCD_3.0  JyokenInfo$JyuryoCD_4.0  TrackCD_Dirt  \\\n",
       "0                      1.0                      0.0           1.0   \n",
       "1                      1.0                      0.0           1.0   \n",
       "2                      1.0                      0.0           1.0   \n",
       "3                      1.0                      0.0           1.0   \n",
       "4                      1.0                      0.0           1.0   \n",
       "\n",
       "   TrackCD_Jump  TrackCD_Turf  \n",
       "0           0.0           0.0  \n",
       "1           0.0           0.0  \n",
       "2           0.0           0.0  \n",
       "3           0.0           0.0  \n",
       "4           0.0           0.0  \n",
       "\n",
       "[5 rows x 51 columns]"
      ]
     },
     "execution_count": 2,
     "metadata": {},
     "output_type": "execute_result"
    }
   ],
   "source": [
    "df = pd.read_csv('../data/historical_data/cleaned_data.csv')\n",
    "print(df.shape)\n",
    "df.head()"
   ]
  },
  {
   "cell_type": "code",
   "execution_count": null,
   "metadata": {},
   "outputs": [],
   "source": [
    "df['raceid'].apply(lambda x: True if x.split('-')[0] == '2018' else False).sum()"
   ]
  },
  {
   "cell_type": "code",
   "execution_count": 3,
   "metadata": {},
   "outputs": [],
   "source": [
    "drop_cols = [\n",
    "'IJyoCD', \n",
    "'KeiroCD', \n",
    "'ChokyosiCode', \n",
    "'Honsyokin',\n",
    "'KettoNum',\n",
    "'Time', \n",
    "'raceid', \n",
    "'racedate', \n",
    "'KakuteiJyuni', \n",
    "'KakuteiJyuni_fixed', \n",
    "'Top 1', \n",
    "'Top 3', \n",
    "'Speed', \n",
    "'Speed_fixed', \n",
    "'DochakuKubun', \n",
    "'DochakuTosu',\n",
    "'KisyuCode']"
   ]
  },
  {
   "cell_type": "code",
   "execution_count": null,
   "metadata": {},
   "outputs": [],
   "source": [
    "X_train, X_test, y_train, y_test, top3_train, top3_test, raceid_train, raceid_test = split_data(df.reset_index(drop=True), target_col='Top 3',\n",
    "                                                                                                drop_columns=drop_cols,\n",
    "                                                                                                select_cols=None,\n",
    "                                                                                                test_size=25402)\n",
    "print(X_train.shape, y_train.shape)\n",
    "print(X_test.shape, y_test.shape)\n",
    "X_train.head()"
   ]
  },
  {
   "cell_type": "markdown",
   "metadata": {},
   "source": [
    "# Metrics"
   ]
  },
  {
   "cell_type": "code",
   "execution_count": 4,
   "metadata": {},
   "outputs": [],
   "source": [
    "from sklearn.metrics import accuracy_score"
   ]
  },
  {
   "cell_type": "code",
   "execution_count": 5,
   "metadata": {},
   "outputs": [],
   "source": [
    "def top3_accuracy_score(y_true, y_pred):\n",
    "    return y_pred[y_true].sum()/y_true.sum()"
   ]
  },
  {
   "cell_type": "markdown",
   "metadata": {},
   "source": [
    "# Baseline model"
   ]
  },
  {
   "cell_type": "code",
   "execution_count": 11,
   "metadata": {},
   "outputs": [],
   "source": [
    "from sklearn.linear_model import LogisticRegression\n",
    "from sklearn.preprocessing import MinMaxScaler"
   ]
  },
  {
   "cell_type": "code",
   "execution_count": null,
   "metadata": {},
   "outputs": [],
   "source": [
    "scaler = MinMaxScaler()\n",
    "scaler.fit(X_train)"
   ]
  },
  {
   "cell_type": "code",
   "execution_count": null,
   "metadata": {},
   "outputs": [],
   "source": [
    "model_Log = LogisticRegression(max_iter=300)\n",
    "model_Log.fit(scaler.transform(X_train), y_train)"
   ]
  },
  {
   "cell_type": "code",
   "execution_count": null,
   "metadata": {},
   "outputs": [],
   "source": [
    "top3_pred = predict_top3_prob(model_Log, scaler.transform(X_test), raceid_test)\n",
    "print('Total accuracy:', accuracy_score(top3_test, top3_pred['Top 3']))\n",
    "print('Top 3 prediction accuracy:', top3_accuracy_score(top3_test.values, top3_pred['Top 3'].values))"
   ]
  },
  {
   "cell_type": "code",
   "execution_count": null,
   "metadata": {},
   "outputs": [],
   "source": [
    "plt.figure(figsize=(10,8))\n",
    "plt.bar(height=model_Log.coef_[0], x = X_train.columns)\n",
    "xticks = plt.xticks(rotation=90)"
   ]
  },
  {
   "cell_type": "markdown",
   "metadata": {},
   "source": [
    "# Better model"
   ]
  },
  {
   "cell_type": "markdown",
   "metadata": {},
   "source": [
    "## Calculate some fields"
   ]
  },
  {
   "cell_type": "code",
   "execution_count": 9,
   "metadata": {},
   "outputs": [],
   "source": [
    "horse_exp = generate_exp('KettoNum')\n",
    "df['Horse_exp'] = df.apply(horse_exp.generate_exp, axis=1)\n",
    "\n",
    "top3_horse = generate_exp('KettoNum', val='Top 3')\n",
    "df['Horse_top3'] = df.apply(top3_horse.generate_exp, axis=1)\n",
    "\n",
    "horse_last_5 = generate_exp('KettoNum', val='KakuteiJyuni_fixed', k=5, init_val=250.)\n",
    "df['Horse_last_5'] = df.apply(horse_last_5.generate_last_k_exp, axis=1)\n",
    "horse_last_3 = generate_exp('KettoNum', val='KakuteiJyuni_fixed', k=3, init_val=150.)\n",
    "df['Horse_last_3'] = df.apply(horse_last_3.generate_last_k_exp, axis=1)\n",
    "horse_last_1 = generate_exp('KettoNum', val='KakuteiJyuni_fixed', k=1, init_val=50.)\n",
    "df['Horse_last_1'] = df.apply(horse_last_1.generate_last_k_exp, axis=1)\n",
    "\n",
    "horse_last_3_top3 = generate_exp('KettoNum', val='Top 3', k=3, init_val=0.6)\n",
    "df['Horse_last_3_top3'] = df.apply(horse_last_3_top3.generate_last_k_exp, axis=1)\n",
    "\n",
    "horse_last_3_top1 = generate_exp('KettoNum', val='Top 1', k=3, init_val=0.)\n",
    "df['Horse_last_3_top1'] = df.apply(horse_last_3_top1.generate_last_k_exp, axis=1)\n",
    "\n",
    "horse_last_3_speed = generate_exp('KettoNum', val='Speed_fixed', k=3, init_val=1.6*3)\n",
    "df['Horse_last_3_speed'] = df.apply(horse_last_3_speed.generate_last_k_exp, axis=1)\n",
    "\n",
    "##################\n",
    "jockey_exp = generate_exp('KisyuCode')\n",
    "df['Jockey_exp'] = df.apply(jockey_exp.generate_exp, axis=1)\n",
    "\n",
    "top3_jockey = generate_exp('KisyuCode', val='Top 3')\n",
    "df['Jockey_top3'] = df.apply(top3_jockey.generate_exp, axis=1)\n",
    "\n",
    "jockey_last_5 = generate_exp('KisyuCode', val='KakuteiJyuni_fixed', k=5, init_val=250.)\n",
    "df['Jockey_last_5'] = df.apply(jockey_last_5.generate_last_k_exp, axis=1)\n",
    "jockey_last_10 = generate_exp('KisyuCode', val='KakuteiJyuni_fixed', k=10, init_val=500.)\n",
    "df['Jockey_last_10'] = df.apply(jockey_last_10.generate_last_k_exp, axis=1)\n",
    "\n",
    "jockey_last_5_top3 = generate_exp('KisyuCode', val='Top 3', k=5, init_val=1.)\n",
    "df['Jockey_last_5_top3'] = df.apply(jockey_last_5_top3.generate_last_k_exp, axis=1)\n",
    "jockey_last_10_top3 = generate_exp('KisyuCode', val='Top 3', k=10, init_val=2.)\n",
    "df['Jockey_last_10_top3'] = df.apply(jockey_last_10_top3.generate_last_k_exp, axis=1)\n",
    "\n",
    "jockey_last_5_top1 = generate_exp('KisyuCode', val='Top 1', k=5, init_val=.15)\n",
    "df['Jockey_last_5_top1'] = df.apply(jockey_last_5_top1.generate_last_k_exp, axis=1)\n",
    "\n",
    "jockey_last_5_speed = generate_exp('KisyuCode', val='Speed_fixed', k=5, init_val=1.6*5)\n",
    "df['Jockey_last_5_speed'] = df.apply(jockey_last_5_speed.generate_last_k_exp, axis=1)\n",
    "\n",
    "##################\n",
    "coach_exp = generate_exp('ChokyosiCode', val='Top 3')\n",
    "df['Coach_exp'] = df.apply(coach_exp.generate_exp, axis=1)"
   ]
  },
  {
   "cell_type": "code",
   "execution_count": 6,
   "metadata": {},
   "outputs": [
    {
     "data": {
      "text/html": [
       "<div>\n",
       "<style scoped>\n",
       "    .dataframe tbody tr th:only-of-type {\n",
       "        vertical-align: middle;\n",
       "    }\n",
       "\n",
       "    .dataframe tbody tr th {\n",
       "        vertical-align: top;\n",
       "    }\n",
       "\n",
       "    .dataframe thead th {\n",
       "        text-align: right;\n",
       "    }\n",
       "</style>\n",
       "<table border=\"1\" class=\"dataframe\">\n",
       "  <thead>\n",
       "    <tr style=\"text-align: right;\">\n",
       "      <th></th>\n",
       "      <th>raceid</th>\n",
       "      <th>Time</th>\n",
       "      <th>KakuteiJyuni</th>\n",
       "      <th>DochakuKubun</th>\n",
       "      <th>DochakuTosu</th>\n",
       "      <th>Umaban</th>\n",
       "      <th>KettoNum</th>\n",
       "      <th>KeiroCD</th>\n",
       "      <th>Barei</th>\n",
       "      <th>ChokyosiCode</th>\n",
       "      <th>...</th>\n",
       "      <th>Horse_last_3_speed</th>\n",
       "      <th>Jockey_exp</th>\n",
       "      <th>Jockey_top3</th>\n",
       "      <th>Jockey_last_5</th>\n",
       "      <th>Jockey_last_10</th>\n",
       "      <th>Jockey_last_5_top3</th>\n",
       "      <th>Jockey_last_10_top3</th>\n",
       "      <th>Jockey_last_5_top1</th>\n",
       "      <th>Jockey_last_5_speed</th>\n",
       "      <th>Coach_exp</th>\n",
       "    </tr>\n",
       "  </thead>\n",
       "  <tbody>\n",
       "    <tr>\n",
       "      <th>0</th>\n",
       "      <td>2008-01-05 01:06</td>\n",
       "      <td>752</td>\n",
       "      <td>8</td>\n",
       "      <td>0</td>\n",
       "      <td>0</td>\n",
       "      <td>1</td>\n",
       "      <td>2005107051</td>\n",
       "      <td>3</td>\n",
       "      <td>3</td>\n",
       "      <td>437</td>\n",
       "      <td>...</td>\n",
       "      <td>4.8</td>\n",
       "      <td>0.0</td>\n",
       "      <td>0.0</td>\n",
       "      <td>250.0</td>\n",
       "      <td>500.0</td>\n",
       "      <td>1.0</td>\n",
       "      <td>2.0</td>\n",
       "      <td>0.15</td>\n",
       "      <td>8.0</td>\n",
       "      <td>0.0</td>\n",
       "    </tr>\n",
       "    <tr>\n",
       "      <th>1</th>\n",
       "      <td>2008-01-05 01:06</td>\n",
       "      <td>739</td>\n",
       "      <td>1</td>\n",
       "      <td>0</td>\n",
       "      <td>0</td>\n",
       "      <td>2</td>\n",
       "      <td>2005102028</td>\n",
       "      <td>3</td>\n",
       "      <td>3</td>\n",
       "      <td>138</td>\n",
       "      <td>...</td>\n",
       "      <td>4.8</td>\n",
       "      <td>0.0</td>\n",
       "      <td>0.0</td>\n",
       "      <td>250.0</td>\n",
       "      <td>500.0</td>\n",
       "      <td>1.0</td>\n",
       "      <td>2.0</td>\n",
       "      <td>0.15</td>\n",
       "      <td>8.0</td>\n",
       "      <td>0.0</td>\n",
       "    </tr>\n",
       "  </tbody>\n",
       "</table>\n",
       "<p>2 rows × 68 columns</p>\n",
       "</div>"
      ],
      "text/plain": [
       "             raceid  Time  KakuteiJyuni  DochakuKubun  DochakuTosu  Umaban  \\\n",
       "0  2008-01-05 01:06   752             8             0            0       1   \n",
       "1  2008-01-05 01:06   739             1             0            0       2   \n",
       "\n",
       "     KettoNum  KeiroCD  Barei  ChokyosiCode  ...  Horse_last_3_speed  \\\n",
       "0  2005107051        3      3           437  ...                 4.8   \n",
       "1  2005102028        3      3           138  ...                 4.8   \n",
       "\n",
       "   Jockey_exp  Jockey_top3  Jockey_last_5  Jockey_last_10  Jockey_last_5_top3  \\\n",
       "0         0.0          0.0          250.0           500.0                 1.0   \n",
       "1         0.0          0.0          250.0           500.0                 1.0   \n",
       "\n",
       "   Jockey_last_10_top3  Jockey_last_5_top1  Jockey_last_5_speed  Coach_exp  \n",
       "0                  2.0                0.15                  8.0        0.0  \n",
       "1                  2.0                0.15                  8.0        0.0  \n",
       "\n",
       "[2 rows x 68 columns]"
      ]
     },
     "execution_count": 6,
     "metadata": {},
     "output_type": "execute_result"
    }
   ],
   "source": [
    "df = pd.read_csv('temp.csv')\n",
    "df.head(2)"
   ]
  },
  {
   "cell_type": "code",
   "execution_count": 7,
   "metadata": {},
   "outputs": [
    {
     "data": {
      "text/plain": [
       "0"
      ]
     },
     "execution_count": 7,
     "metadata": {},
     "output_type": "execute_result"
    }
   ],
   "source": [
    "df['Horse top 3 rate'] = df['Horse_top3']/(df['Horse_exp'] + 1e-6)\n",
    "df['Jockey top 3 rate'] = df['Jockey_top3']/(df['Jockey_exp'] + 1e-6)\n",
    "df.isna().sum().sum()"
   ]
  },
  {
   "cell_type": "markdown",
   "metadata": {},
   "source": [
    "## Split data"
   ]
  },
  {
   "cell_type": "code",
   "execution_count": 8,
   "metadata": {},
   "outputs": [
    {
     "name": "stdout",
     "output_type": "stream",
     "text": [
      "(500261, 54) (500261,)\n",
      "(25402, 54) (25402,)\n"
     ]
    },
    {
     "data": {
      "text/html": [
       "<div>\n",
       "<style scoped>\n",
       "    .dataframe tbody tr th:only-of-type {\n",
       "        vertical-align: middle;\n",
       "    }\n",
       "\n",
       "    .dataframe tbody tr th {\n",
       "        vertical-align: top;\n",
       "    }\n",
       "\n",
       "    .dataframe thead th {\n",
       "        text-align: right;\n",
       "    }\n",
       "</style>\n",
       "<table border=\"1\" class=\"dataframe\">\n",
       "  <thead>\n",
       "    <tr style=\"text-align: right;\">\n",
       "      <th></th>\n",
       "      <th>Umaban</th>\n",
       "      <th>Barei</th>\n",
       "      <th>Futan</th>\n",
       "      <th>Blinker</th>\n",
       "      <th>BaTaijyu</th>\n",
       "      <th>Zogen</th>\n",
       "      <th>Kyori</th>\n",
       "      <th>UmaKigoCD_0</th>\n",
       "      <th>UmaKigoCD_1</th>\n",
       "      <th>UmaKigoCD_5</th>\n",
       "      <th>...</th>\n",
       "      <th>Jockey_top3</th>\n",
       "      <th>Jockey_last_5</th>\n",
       "      <th>Jockey_last_10</th>\n",
       "      <th>Jockey_last_5_top3</th>\n",
       "      <th>Jockey_last_10_top3</th>\n",
       "      <th>Jockey_last_5_top1</th>\n",
       "      <th>Jockey_last_5_speed</th>\n",
       "      <th>Coach_exp</th>\n",
       "      <th>Horse top 3 rate</th>\n",
       "      <th>Jockey top 3 rate</th>\n",
       "    </tr>\n",
       "  </thead>\n",
       "  <tbody>\n",
       "    <tr>\n",
       "      <th>0</th>\n",
       "      <td>1</td>\n",
       "      <td>3</td>\n",
       "      <td>540</td>\n",
       "      <td>0</td>\n",
       "      <td>428</td>\n",
       "      <td>12.0</td>\n",
       "      <td>1200.0</td>\n",
       "      <td>1.0</td>\n",
       "      <td>0.0</td>\n",
       "      <td>0.0</td>\n",
       "      <td>...</td>\n",
       "      <td>0.0</td>\n",
       "      <td>250.0</td>\n",
       "      <td>500.0</td>\n",
       "      <td>1.0</td>\n",
       "      <td>2.0</td>\n",
       "      <td>0.15</td>\n",
       "      <td>8.0</td>\n",
       "      <td>0.0</td>\n",
       "      <td>0.0</td>\n",
       "      <td>0.0</td>\n",
       "    </tr>\n",
       "    <tr>\n",
       "      <th>1</th>\n",
       "      <td>2</td>\n",
       "      <td>3</td>\n",
       "      <td>540</td>\n",
       "      <td>0</td>\n",
       "      <td>450</td>\n",
       "      <td>-10.0</td>\n",
       "      <td>1200.0</td>\n",
       "      <td>1.0</td>\n",
       "      <td>0.0</td>\n",
       "      <td>0.0</td>\n",
       "      <td>...</td>\n",
       "      <td>0.0</td>\n",
       "      <td>250.0</td>\n",
       "      <td>500.0</td>\n",
       "      <td>1.0</td>\n",
       "      <td>2.0</td>\n",
       "      <td>0.15</td>\n",
       "      <td>8.0</td>\n",
       "      <td>0.0</td>\n",
       "      <td>0.0</td>\n",
       "      <td>0.0</td>\n",
       "    </tr>\n",
       "    <tr>\n",
       "      <th>2</th>\n",
       "      <td>3</td>\n",
       "      <td>3</td>\n",
       "      <td>540</td>\n",
       "      <td>0</td>\n",
       "      <td>458</td>\n",
       "      <td>4.0</td>\n",
       "      <td>1200.0</td>\n",
       "      <td>1.0</td>\n",
       "      <td>0.0</td>\n",
       "      <td>0.0</td>\n",
       "      <td>...</td>\n",
       "      <td>0.0</td>\n",
       "      <td>250.0</td>\n",
       "      <td>500.0</td>\n",
       "      <td>1.0</td>\n",
       "      <td>2.0</td>\n",
       "      <td>0.15</td>\n",
       "      <td>8.0</td>\n",
       "      <td>0.0</td>\n",
       "      <td>0.0</td>\n",
       "      <td>0.0</td>\n",
       "    </tr>\n",
       "    <tr>\n",
       "      <th>3</th>\n",
       "      <td>4</td>\n",
       "      <td>3</td>\n",
       "      <td>540</td>\n",
       "      <td>0</td>\n",
       "      <td>402</td>\n",
       "      <td>-10.0</td>\n",
       "      <td>1200.0</td>\n",
       "      <td>1.0</td>\n",
       "      <td>0.0</td>\n",
       "      <td>0.0</td>\n",
       "      <td>...</td>\n",
       "      <td>0.0</td>\n",
       "      <td>250.0</td>\n",
       "      <td>500.0</td>\n",
       "      <td>1.0</td>\n",
       "      <td>2.0</td>\n",
       "      <td>0.15</td>\n",
       "      <td>8.0</td>\n",
       "      <td>0.0</td>\n",
       "      <td>0.0</td>\n",
       "      <td>0.0</td>\n",
       "    </tr>\n",
       "    <tr>\n",
       "      <th>4</th>\n",
       "      <td>5</td>\n",
       "      <td>3</td>\n",
       "      <td>540</td>\n",
       "      <td>0</td>\n",
       "      <td>482</td>\n",
       "      <td>2.0</td>\n",
       "      <td>1200.0</td>\n",
       "      <td>1.0</td>\n",
       "      <td>0.0</td>\n",
       "      <td>0.0</td>\n",
       "      <td>...</td>\n",
       "      <td>0.0</td>\n",
       "      <td>250.0</td>\n",
       "      <td>500.0</td>\n",
       "      <td>1.0</td>\n",
       "      <td>2.0</td>\n",
       "      <td>0.15</td>\n",
       "      <td>8.0</td>\n",
       "      <td>0.0</td>\n",
       "      <td>0.0</td>\n",
       "      <td>0.0</td>\n",
       "    </tr>\n",
       "  </tbody>\n",
       "</table>\n",
       "<p>5 rows × 54 columns</p>\n",
       "</div>"
      ],
      "text/plain": [
       "   Umaban  Barei  Futan  Blinker  BaTaijyu  Zogen   Kyori  UmaKigoCD_0  \\\n",
       "0       1      3    540        0       428   12.0  1200.0          1.0   \n",
       "1       2      3    540        0       450  -10.0  1200.0          1.0   \n",
       "2       3      3    540        0       458    4.0  1200.0          1.0   \n",
       "3       4      3    540        0       402  -10.0  1200.0          1.0   \n",
       "4       5      3    540        0       482    2.0  1200.0          1.0   \n",
       "\n",
       "   UmaKigoCD_1  UmaKigoCD_5  ...  Jockey_top3  Jockey_last_5  Jockey_last_10  \\\n",
       "0          0.0          0.0  ...          0.0          250.0           500.0   \n",
       "1          0.0          0.0  ...          0.0          250.0           500.0   \n",
       "2          0.0          0.0  ...          0.0          250.0           500.0   \n",
       "3          0.0          0.0  ...          0.0          250.0           500.0   \n",
       "4          0.0          0.0  ...          0.0          250.0           500.0   \n",
       "\n",
       "   Jockey_last_5_top3  Jockey_last_10_top3  Jockey_last_5_top1  \\\n",
       "0                 1.0                  2.0                0.15   \n",
       "1                 1.0                  2.0                0.15   \n",
       "2                 1.0                  2.0                0.15   \n",
       "3                 1.0                  2.0                0.15   \n",
       "4                 1.0                  2.0                0.15   \n",
       "\n",
       "   Jockey_last_5_speed  Coach_exp  Horse top 3 rate  Jockey top 3 rate  \n",
       "0                  8.0        0.0               0.0                0.0  \n",
       "1                  8.0        0.0               0.0                0.0  \n",
       "2                  8.0        0.0               0.0                0.0  \n",
       "3                  8.0        0.0               0.0                0.0  \n",
       "4                  8.0        0.0               0.0                0.0  \n",
       "\n",
       "[5 rows x 54 columns]"
      ]
     },
     "execution_count": 8,
     "metadata": {},
     "output_type": "execute_result"
    }
   ],
   "source": [
    "X_train, X_test, y_train, y_test, top3_train, top3_test, raceid_train, raceid_test = split_data(df.reset_index(drop=True), target_col='Top 3',\n",
    "                                                                                                drop_columns=drop_cols,\n",
    "                                                                                                select_cols=None,\n",
    "                                                                                                test_size=25402)\n",
    "print(X_train.shape, y_train.shape)\n",
    "print(X_test.shape, y_test.shape)\n",
    "X_train.head()"
   ]
  },
  {
   "cell_type": "markdown",
   "metadata": {},
   "source": [
    "## Model"
   ]
  },
  {
   "cell_type": "code",
   "execution_count": 12,
   "metadata": {},
   "outputs": [
    {
     "data": {
      "text/plain": [
       "MinMaxScaler()"
      ]
     },
     "execution_count": 12,
     "metadata": {},
     "output_type": "execute_result"
    }
   ],
   "source": [
    "scaler = MinMaxScaler()\n",
    "scaler.fit(X_train)"
   ]
  },
  {
   "cell_type": "code",
   "execution_count": 13,
   "metadata": {},
   "outputs": [],
   "source": [
    "X_train_sc = scaler.transform(X_train)\n",
    "X_test_sc = scaler.transform(X_test)"
   ]
  },
  {
   "cell_type": "code",
   "execution_count": 21,
   "metadata": {},
   "outputs": [
    {
     "data": {
      "text/plain": [
       "LogisticRegression(C=0.1, max_iter=500)"
      ]
     },
     "execution_count": 21,
     "metadata": {},
     "output_type": "execute_result"
    }
   ],
   "source": [
    "model_Log = LogisticRegression(max_iter=500, penalty='l2', C=0.1)\n",
    "model_Log.fit(X_train_sc, y_train)"
   ]
  },
  {
   "cell_type": "code",
   "execution_count": 22,
   "metadata": {},
   "outputs": [
    {
     "name": "stdout",
     "output_type": "stream",
     "text": [
      "Total accuracy: 0.77241949452799\n",
      "Top 3 prediction accuracy: 0.45\n"
     ]
    }
   ],
   "source": [
    "top3_pred_test = predict_top3_prob(model_Log, X_test_sc, raceid_test)\n",
    "print('Total accuracy:', accuracy_score(top3_test, top3_pred_test['Top 3']))\n",
    "print('Top 3 prediction accuracy:', top3_accuracy_score(top3_test.values, top3_pred_test['Top 3'].values))"
   ]
  },
  {
   "cell_type": "code",
   "execution_count": 17,
   "metadata": {},
   "outputs": [
    {
     "data": {
      "text/html": [
       "<div>\n",
       "<style scoped>\n",
       "    .dataframe tbody tr th:only-of-type {\n",
       "        vertical-align: middle;\n",
       "    }\n",
       "\n",
       "    .dataframe tbody tr th {\n",
       "        vertical-align: top;\n",
       "    }\n",
       "\n",
       "    .dataframe thead th {\n",
       "        text-align: right;\n",
       "    }\n",
       "</style>\n",
       "<table border=\"1\" class=\"dataframe\">\n",
       "  <thead>\n",
       "    <tr style=\"text-align: right;\">\n",
       "      <th></th>\n",
       "      <th>Top 3 prob</th>\n",
       "    </tr>\n",
       "    <tr>\n",
       "      <th>raceid</th>\n",
       "      <th></th>\n",
       "    </tr>\n",
       "  </thead>\n",
       "  <tbody>\n",
       "    <tr>\n",
       "      <th>2018-01-06 01:06</th>\n",
       "      <td>0.401591</td>\n",
       "    </tr>\n",
       "    <tr>\n",
       "      <th>2018-01-06 01:08</th>\n",
       "      <td>0.290500</td>\n",
       "    </tr>\n",
       "    <tr>\n",
       "      <th>2018-01-06 02:06</th>\n",
       "      <td>0.326496</td>\n",
       "    </tr>\n",
       "    <tr>\n",
       "      <th>2018-01-06 02:08</th>\n",
       "      <td>0.392221</td>\n",
       "    </tr>\n",
       "    <tr>\n",
       "      <th>2018-01-06 03:06</th>\n",
       "      <td>0.190505</td>\n",
       "    </tr>\n",
       "  </tbody>\n",
       "</table>\n",
       "</div>"
      ],
      "text/plain": [
       "                  Top 3 prob\n",
       "raceid                      \n",
       "2018-01-06 01:06    0.401591\n",
       "2018-01-06 01:08    0.290500\n",
       "2018-01-06 02:06    0.326496\n",
       "2018-01-06 02:08    0.392221\n",
       "2018-01-06 03:06    0.190505"
      ]
     },
     "execution_count": 17,
     "metadata": {},
     "output_type": "execute_result"
    }
   ],
   "source": [
    "min_prob_top3_test = top3_pred_test[top3_pred_test['Top 3']].groupby('raceid').agg({'Top 3 prob':'min'})\n",
    "min_prob_top3_test.head()"
   ]
  },
  {
   "cell_type": "code",
   "execution_count": 18,
   "metadata": {},
   "outputs": [
    {
     "name": "stdout",
     "output_type": "stream",
     "text": [
      "Total accuracy: 0.7707636613687655\n",
      "Top 3 prediction accuracy: 0.44664020195402077\n"
     ]
    }
   ],
   "source": [
    "top3_pred_train = predict_top3_prob(model_Log, scaler.transform(X_train), raceid_train)\n",
    "print('Total accuracy:', accuracy_score(top3_train, top3_pred_train['Top 3']))\n",
    "print('Top 3 prediction accuracy:', top3_accuracy_score(top3_train.values, top3_pred_train['Top 3'].values))"
   ]
  },
  {
   "cell_type": "code",
   "execution_count": 19,
   "metadata": {},
   "outputs": [],
   "source": [
    "min_prob_top3_train = top3_pred_train[top3_pred_train['Top 3']].groupby('raceid').agg({'Top 3 prob':'min'})"
   ]
  },
  {
   "cell_type": "code",
   "execution_count": 20,
   "metadata": {},
   "outputs": [
    {
     "data": {
      "text/html": [
       "<div>\n",
       "<style scoped>\n",
       "    .dataframe tbody tr th:only-of-type {\n",
       "        vertical-align: middle;\n",
       "    }\n",
       "\n",
       "    .dataframe tbody tr th {\n",
       "        vertical-align: top;\n",
       "    }\n",
       "\n",
       "    .dataframe thead th {\n",
       "        text-align: right;\n",
       "    }\n",
       "</style>\n",
       "<table border=\"1\" class=\"dataframe\">\n",
       "  <thead>\n",
       "    <tr style=\"text-align: right;\">\n",
       "      <th></th>\n",
       "      <th>raceid</th>\n",
       "      <th>Time</th>\n",
       "      <th>KakuteiJyuni</th>\n",
       "      <th>DochakuKubun</th>\n",
       "      <th>DochakuTosu</th>\n",
       "      <th>Umaban</th>\n",
       "      <th>KettoNum</th>\n",
       "      <th>KeiroCD</th>\n",
       "      <th>Barei</th>\n",
       "      <th>ChokyosiCode</th>\n",
       "      <th>...</th>\n",
       "      <th>Jockey_last_5</th>\n",
       "      <th>Jockey_last_10</th>\n",
       "      <th>Jockey_last_5_top3</th>\n",
       "      <th>Jockey_last_10_top3</th>\n",
       "      <th>Jockey_last_5_top1</th>\n",
       "      <th>Jockey_last_5_speed</th>\n",
       "      <th>Coach_exp</th>\n",
       "      <th>Horse top 3 rate</th>\n",
       "      <th>Jockey top 3 rate</th>\n",
       "      <th>Top 3 prob</th>\n",
       "    </tr>\n",
       "  </thead>\n",
       "  <tbody>\n",
       "    <tr>\n",
       "      <th>0</th>\n",
       "      <td>2008-01-05 01:06</td>\n",
       "      <td>752</td>\n",
       "      <td>8</td>\n",
       "      <td>0</td>\n",
       "      <td>0</td>\n",
       "      <td>1</td>\n",
       "      <td>2005107051</td>\n",
       "      <td>3</td>\n",
       "      <td>3</td>\n",
       "      <td>437</td>\n",
       "      <td>...</td>\n",
       "      <td>250.0</td>\n",
       "      <td>500.0</td>\n",
       "      <td>1.0</td>\n",
       "      <td>2.0</td>\n",
       "      <td>0.15</td>\n",
       "      <td>8.0</td>\n",
       "      <td>0.0</td>\n",
       "      <td>0.0</td>\n",
       "      <td>0.0</td>\n",
       "      <td>0.093164</td>\n",
       "    </tr>\n",
       "    <tr>\n",
       "      <th>1</th>\n",
       "      <td>2008-01-05 01:06</td>\n",
       "      <td>739</td>\n",
       "      <td>1</td>\n",
       "      <td>0</td>\n",
       "      <td>0</td>\n",
       "      <td>2</td>\n",
       "      <td>2005102028</td>\n",
       "      <td>3</td>\n",
       "      <td>3</td>\n",
       "      <td>138</td>\n",
       "      <td>...</td>\n",
       "      <td>250.0</td>\n",
       "      <td>500.0</td>\n",
       "      <td>1.0</td>\n",
       "      <td>2.0</td>\n",
       "      <td>0.15</td>\n",
       "      <td>8.0</td>\n",
       "      <td>0.0</td>\n",
       "      <td>0.0</td>\n",
       "      <td>0.0</td>\n",
       "      <td>0.093164</td>\n",
       "    </tr>\n",
       "  </tbody>\n",
       "</table>\n",
       "<p>2 rows × 71 columns</p>\n",
       "</div>"
      ],
      "text/plain": [
       "             raceid  Time  KakuteiJyuni  DochakuKubun  DochakuTosu  Umaban  \\\n",
       "0  2008-01-05 01:06   752             8             0            0       1   \n",
       "1  2008-01-05 01:06   739             1             0            0       2   \n",
       "\n",
       "     KettoNum  KeiroCD  Barei  ChokyosiCode  ...  Jockey_last_5  \\\n",
       "0  2005107051        3      3           437  ...          250.0   \n",
       "1  2005102028        3      3           138  ...          250.0   \n",
       "\n",
       "   Jockey_last_10  Jockey_last_5_top3  Jockey_last_10_top3  \\\n",
       "0           500.0                 1.0                  2.0   \n",
       "1           500.0                 1.0                  2.0   \n",
       "\n",
       "   Jockey_last_5_top1  Jockey_last_5_speed  Coach_exp  Horse top 3 rate  \\\n",
       "0                0.15                  8.0        0.0               0.0   \n",
       "1                0.15                  8.0        0.0               0.0   \n",
       "\n",
       "   Jockey top 3 rate  Top 3 prob  \n",
       "0                0.0    0.093164  \n",
       "1                0.0    0.093164  \n",
       "\n",
       "[2 rows x 71 columns]"
      ]
     },
     "execution_count": 20,
     "metadata": {},
     "output_type": "execute_result"
    }
   ],
   "source": [
    "min_prob_top3 = pd.concat([min_prob_top3_train,min_prob_top3_test], axis=0)\n",
    "df = pd.merge(left=df, right=min_prob_top3, left_on='raceid', right_on='raceid', how='left')\n",
    "df.head(2)"
   ]
  },
  {
   "cell_type": "code",
   "execution_count": 21,
   "metadata": {},
   "outputs": [
    {
     "data": {
      "image/png": "[encoded data removed]",
      "text/plain": [
       "<Figure size 720x576 with 1 Axes>"
      ]
     },
     "metadata": {
      "needs_background": "light"
     },
     "output_type": "display_data"
    }
   ],
   "source": [
    "plt.figure(figsize=(10,8))\n",
    "plt.bar(height=model_Log.coef_[0], x = X_train.columns)\n",
    "xticks = plt.xticks(rotation=90)"
   ]
  },
  {
   "cell_type": "markdown",
   "metadata": {},
   "source": [
    "## Better"
   ]
  },
  {
   "cell_type": "code",
   "execution_count": 22,
   "metadata": {},
   "outputs": [
    {
     "name": "stdout",
     "output_type": "stream",
     "text": [
      "(500261, 55) (500261,)\n",
      "(25402, 55) (25402,)\n"
     ]
    }
   ],
   "source": [
    "X_train, X_test, y_train, y_test, top3_train, top3_test, raceid_train, raceid_test = split_data(df.reset_index(drop=True), target_col='Top 3',\n",
    "                                                                                                drop_columns=drop_cols,\n",
    "                                                                                                select_cols=None,\n",
    "                                                                                                test_size=25402)\n",
    "print(X_train.shape, y_train.shape)\n",
    "print(X_test.shape, y_test.shape)"
   ]
  },
  {
   "cell_type": "code",
   "execution_count": 23,
   "metadata": {},
   "outputs": [],
   "source": [
    "scaler = MinMaxScaler()\n",
    "scaler.fit(X_train)\n",
    "X_train_sc = scaler.transform(X_train)\n",
    "X_test_sc = scaler.transform(X_test)"
   ]
  },
  {
   "cell_type": "code",
   "execution_count": 24,
   "metadata": {},
   "outputs": [
    {
     "data": {
      "text/plain": [
       "LogisticRegression(C=0.1, class_weight='balanced', max_iter=500)"
      ]
     },
     "execution_count": 24,
     "metadata": {},
     "output_type": "execute_result"
    }
   ],
   "source": [
    "model_Log = LogisticRegression(max_iter=500, penalty='l2', C=0.1, class_weight='balanced')\n",
    "model_Log.fit(X_train_sc, y_train)"
   ]
  },
  {
   "cell_type": "code",
   "execution_count": 32,
   "metadata": {},
   "outputs": [
    {
     "name": "stdout",
     "output_type": "stream",
     "text": [
      "Total accuracy: 0.7797417526179041\n",
      "Top 3 prediction accuracy: 0.46761363636363634\n"
     ]
    }
   ],
   "source": [
    "top3_pred = predict_top3_prob(model_Log, X_test_sc, raceid_test)\n",
    "print('Total accuracy:', accuracy_score(top3_test, top3_pred['Top 3']))\n",
    "print('Top 3 prediction accuracy:', top3_accuracy_score(top3_test.values, top3_pred['Top 3'].values))"
   ]
  },
  {
   "cell_type": "code",
   "execution_count": 33,
   "metadata": {},
   "outputs": [
    {
     "data": {
      "image/png": "[encoded data removed]",
      "text/plain": [
       "<Figure size 720x576 with 1 Axes>"
      ]
     },
     "metadata": {
      "needs_background": "light"
     },
     "output_type": "display_data"
    }
   ],
   "source": [
    "plt.figure(figsize=(10,8))\n",
    "plt.bar(height=model_Log.coef_[0], x = X_train.columns)\n",
    "xticks = plt.xticks(rotation=90)"
   ]
  },
  {
   "cell_type": "markdown",
   "metadata": {},
   "source": [
    "# Error analysis"
   ]
  },
  {
   "cell_type": "code",
   "execution_count": 36,
   "metadata": {},
   "outputs": [],
   "source": [
    "df_ = df[df['Top 3']].groupby('KettoNum')\n",
    "groups = list(df_.groups.keys())\n",
    "df_horse=df.groupby('KettoNum')\n",
    "cols=['Time', 'KakuteiJyuni_fixed', 'Top 1', 'Top 3', 'Speed_fixed', 'Coach_exp','Horse_top3', 'Horse_exp','Horse_last_3_top3', 'Jockey_last_5_top3', 'Horse top 3 rate', 'Jockey top 3 rate']\n"
   ]
  },
  {
   "cell_type": "code",
   "execution_count": 38,
   "metadata": {},
   "outputs": [
    {
     "data": {
      "text/html": [
       "<div>\n",
       "<style scoped>\n",
       "    .dataframe tbody tr th:only-of-type {\n",
       "        vertical-align: middle;\n",
       "    }\n",
       "\n",
       "    .dataframe tbody tr th {\n",
       "        vertical-align: top;\n",
       "    }\n",
       "\n",
       "    .dataframe thead th {\n",
       "        text-align: right;\n",
       "    }\n",
       "</style>\n",
       "<table border=\"1\" class=\"dataframe\">\n",
       "  <thead>\n",
       "    <tr style=\"text-align: right;\">\n",
       "      <th></th>\n",
       "      <th>Time</th>\n",
       "      <th>KakuteiJyuni_fixed</th>\n",
       "      <th>Top 1</th>\n",
       "      <th>Top 3</th>\n",
       "      <th>Speed_fixed</th>\n",
       "      <th>Coach_exp</th>\n",
       "      <th>Horse_top3</th>\n",
       "      <th>Horse_exp</th>\n",
       "      <th>Horse_last_3_top3</th>\n",
       "      <th>Jockey_last_5_top3</th>\n",
       "      <th>Horse top 3 rate</th>\n",
       "      <th>Jockey top 3 rate</th>\n",
       "    </tr>\n",
       "  </thead>\n",
       "  <tbody>\n",
       "    <tr>\n",
       "      <th>323144</th>\n",
       "      <td>883</td>\n",
       "      <td>60.400000</td>\n",
       "      <td>False</td>\n",
       "      <td>False</td>\n",
       "      <td>1.648123</td>\n",
       "      <td>367.0</td>\n",
       "      <td>0.0</td>\n",
       "      <td>0.0</td>\n",
       "      <td>6.000000e-01</td>\n",
       "      <td>1.0</td>\n",
       "      <td>0.00</td>\n",
       "      <td>0.139519</td>\n",
       "    </tr>\n",
       "    <tr>\n",
       "      <th>326203</th>\n",
       "      <td>1160</td>\n",
       "      <td>64.642857</td>\n",
       "      <td>False</td>\n",
       "      <td>False</td>\n",
       "      <td>1.613009</td>\n",
       "      <td>369.0</td>\n",
       "      <td>0.0</td>\n",
       "      <td>1.0</td>\n",
       "      <td>4.000000e-01</td>\n",
       "      <td>1.0</td>\n",
       "      <td>0.00</td>\n",
       "      <td>0.138112</td>\n",
       "    </tr>\n",
       "    <tr>\n",
       "      <th>328738</th>\n",
       "      <td>702</td>\n",
       "      <td>34.000000</td>\n",
       "      <td>False</td>\n",
       "      <td>False</td>\n",
       "      <td>1.702876</td>\n",
       "      <td>373.0</td>\n",
       "      <td>0.0</td>\n",
       "      <td>2.0</td>\n",
       "      <td>2.000000e-01</td>\n",
       "      <td>1.0</td>\n",
       "      <td>0.00</td>\n",
       "      <td>0.189885</td>\n",
       "    </tr>\n",
       "    <tr>\n",
       "      <th>335435</th>\n",
       "      <td>587</td>\n",
       "      <td>8.615385</td>\n",
       "      <td>False</td>\n",
       "      <td>True</td>\n",
       "      <td>1.770859</td>\n",
       "      <td>380.0</td>\n",
       "      <td>0.0</td>\n",
       "      <td>3.0</td>\n",
       "      <td>5.551115e-17</td>\n",
       "      <td>0.0</td>\n",
       "      <td>0.00</td>\n",
       "      <td>0.136752</td>\n",
       "    </tr>\n",
       "    <tr>\n",
       "      <th>337365</th>\n",
       "      <td>729</td>\n",
       "      <td>20.800000</td>\n",
       "      <td>False</td>\n",
       "      <td>False</td>\n",
       "      <td>1.711102</td>\n",
       "      <td>383.0</td>\n",
       "      <td>1.0</td>\n",
       "      <td>4.0</td>\n",
       "      <td>1.000000e+00</td>\n",
       "      <td>0.0</td>\n",
       "      <td>0.25</td>\n",
       "      <td>0.137107</td>\n",
       "    </tr>\n",
       "  </tbody>\n",
       "</table>\n",
       "</div>"
      ],
      "text/plain": [
       "        Time  KakuteiJyuni_fixed  Top 1  Top 3  Speed_fixed  Coach_exp  \\\n",
       "323144   883           60.400000  False  False     1.648123      367.0   \n",
       "326203  1160           64.642857  False  False     1.613009      369.0   \n",
       "328738   702           34.000000  False  False     1.702876      373.0   \n",
       "335435   587            8.615385  False   True     1.770859      380.0   \n",
       "337365   729           20.800000  False  False     1.711102      383.0   \n",
       "\n",
       "        Horse_top3  Horse_exp  Horse_last_3_top3  Jockey_last_5_top3  \\\n",
       "323144         0.0        0.0       6.000000e-01                 1.0   \n",
       "326203         0.0        1.0       4.000000e-01                 1.0   \n",
       "328738         0.0        2.0       2.000000e-01                 1.0   \n",
       "335435         0.0        3.0       5.551115e-17                 0.0   \n",
       "337365         1.0        4.0       1.000000e+00                 0.0   \n",
       "\n",
       "        Horse top 3 rate  Jockey top 3 rate  \n",
       "323144              0.00           0.139519  \n",
       "326203              0.00           0.138112  \n",
       "328738              0.00           0.189885  \n",
       "335435              0.00           0.136752  \n",
       "337365              0.25           0.137107  "
      ]
     },
     "execution_count": 38,
     "metadata": {},
     "output_type": "execute_result"
    }
   ],
   "source": [
    "df_horse.get_group(groups[np.random.randint(0, len(groups))])[cols]"
   ]
  },
  {
   "cell_type": "markdown",
   "metadata": {},
   "source": [
    "# DNN model"
   ]
  },
  {
   "cell_type": "code",
   "execution_count": 30,
   "metadata": {},
   "outputs": [],
   "source": [
    "scaler = MinMaxScaler()\n",
    "scaler.fit(X_train)\n",
    "X_train_sc = scaler.transform(X_train)\n",
    "X_test_sc = scaler.transform(X_test)"
   ]
  },
  {
   "cell_type": "code",
   "execution_count": 47,
   "metadata": {},
   "outputs": [],
   "source": [
    "model_nn = tf.keras.Sequential([\n",
    "    tf.keras.layers.Dense(200, activation='relu'),\n",
    "    tf.keras.layers.Dense(200, activation='relu'),\n",
    "    tf.keras.layers.Dense(100, activation='relu', kernel_regularizer=tf.keras.regularizers.L2()),\n",
    "    tf.keras.layers.Dense(100, activation='relu'),\n",
    "    tf.keras.layers.Dense(50, activation='relu', kernel_regularizer=tf.keras.regularizers.L2()),\n",
    "    tf.keras.layers.Dense(50, activation='relu'),\n",
    "    tf.keras.layers.Dense(1, activation='sigmoid'),\n",
    "])"
   ]
  },
  {
   "cell_type": "code",
   "execution_count": 48,
   "metadata": {},
   "outputs": [],
   "source": [
    "model_nn.compile(loss = 'binary_crossentropy',\n",
    "                optimizer=tf.keras.optimizers.Adam(learning_rate=0.01),\n",
    "                metrics=['acc'])"
   ]
  },
  {
   "cell_type": "code",
   "execution_count": 49,
   "metadata": {},
   "outputs": [],
   "source": [
    "callbacks = callbacks=[tf.keras.callbacks.ReduceLROnPlateau(fractions=0.1,monitor='loss', patience=3),\n",
    "                       tf.keras.callbacks.EarlyStopping(monitor='loss', patience=10, min_delta=0.0001)]"
   ]
  },
  {
   "cell_type": "code",
   "execution_count": 50,
   "metadata": {},
   "outputs": [
    {
     "name": "stdout",
     "output_type": "stream",
     "text": [
      "Epoch 1/200\n",
      "489/489 [==============================] - 5s 9ms/step - loss: 0.2233 - acc: 0.6404 - lr: 0.0100\n",
      "Epoch 2/200\n",
      "489/489 [==============================] - 5s 10ms/step - loss: 0.1924 - acc: 0.6537 - lr: 0.0100\n",
      "Epoch 3/200\n",
      "489/489 [==============================] - 4s 9ms/step - loss: 0.1917 - acc: 0.6556 - lr: 0.0100\n",
      "Epoch 4/200\n",
      "489/489 [==============================] - 4s 9ms/step - loss: 0.1913 - acc: 0.6605 - lr: 0.0100\n",
      "Epoch 5/200\n",
      "489/489 [==============================] - 4s 9ms/step - loss: 0.1907 - acc: 0.6617 - lr: 0.0100\n",
      "Epoch 6/200\n",
      "489/489 [==============================] - 4s 8ms/step - loss: 0.1900 - acc: 0.6638 - lr: 0.0100\n",
      "Epoch 7/200\n",
      "489/489 [==============================] - 4s 9ms/step - loss: 0.1900 - acc: 0.6607 - lr: 0.0100\n",
      "Epoch 8/200\n",
      "489/489 [==============================] - 4s 9ms/step - loss: 0.1899 - acc: 0.6629 - lr: 0.0100\n",
      "Epoch 9/200\n",
      "489/489 [==============================] - 4s 9ms/step - loss: 0.1895 - acc: 0.6661 - lr: 0.0100\n",
      "Epoch 10/200\n",
      "489/489 [==============================] - 4s 9ms/step - loss: 0.1893 - acc: 0.6680 - lr: 0.0100\n",
      "Epoch 11/200\n",
      "489/489 [==============================] - 4s 8ms/step - loss: 0.1890 - acc: 0.6685 - lr: 0.0100\n",
      "Epoch 12/200\n",
      "489/489 [==============================] - 4s 8ms/step - loss: 0.1890 - acc: 0.6660 - lr: 0.0100\n",
      "Epoch 13/200\n",
      "489/489 [==============================] - 4s 8ms/step - loss: 0.1890 - acc: 0.6640 - lr: 0.0100\n",
      "Epoch 14/200\n",
      "489/489 [==============================] - 4s 8ms/step - loss: 0.1887 - acc: 0.6665 - lr: 0.0100\n",
      "Epoch 15/200\n",
      "489/489 [==============================] - 4s 9ms/step - loss: 0.1888 - acc: 0.6635 - lr: 0.0100\n",
      "Epoch 16/200\n",
      "489/489 [==============================] - 4s 8ms/step - loss: 0.1887 - acc: 0.6632 - lr: 0.0100\n",
      "Epoch 17/200\n",
      "489/489 [==============================] - 5s 10ms/step - loss: 0.1887 - acc: 0.6635 - lr: 0.0100\n",
      "Epoch 18/200\n",
      "489/489 [==============================] - 4s 8ms/step - loss: 0.1872 - acc: 0.6713 - lr: 1.0000e-03\n",
      "Epoch 19/200\n",
      "489/489 [==============================] - 4s 8ms/step - loss: 0.1871 - acc: 0.6680 - lr: 1.0000e-03\n",
      "Epoch 20/200\n",
      "489/489 [==============================] - 4s 8ms/step - loss: 0.1870 - acc: 0.6662 - lr: 1.0000e-03\n",
      "Epoch 21/200\n",
      "489/489 [==============================] - 4s 8ms/step - loss: 0.1869 - acc: 0.6685 - lr: 1.0000e-03\n",
      "Epoch 22/200\n",
      "489/489 [==============================] - 4s 8ms/step - loss: 0.1869 - acc: 0.6702 - lr: 1.0000e-03\n",
      "Epoch 23/200\n",
      "489/489 [==============================] - 4s 8ms/step - loss: 0.1869 - acc: 0.6717 - lr: 1.0000e-03\n",
      "Epoch 24/200\n",
      "489/489 [==============================] - 4s 8ms/step - loss: 0.1868 - acc: 0.6724 - lr: 1.0000e-03\n",
      "Epoch 25/200\n",
      "489/489 [==============================] - 4s 8ms/step - loss: 0.1868 - acc: 0.6728 - lr: 1.0000e-03\n",
      "Epoch 26/200\n",
      "489/489 [==============================] - 4s 9ms/step - loss: 0.1868 - acc: 0.6713 - lr: 1.0000e-03\n",
      "Epoch 27/200\n",
      "489/489 [==============================] - 4s 8ms/step - loss: 0.1867 - acc: 0.6737 - lr: 1.0000e-03\n",
      "Epoch 28/200\n",
      "489/489 [==============================] - 4s 9ms/step - loss: 0.1865 - acc: 0.6727 - lr: 1.0000e-04\n",
      "Epoch 29/200\n",
      "489/489 [==============================] - 4s 8ms/step - loss: 0.1865 - acc: 0.6734 - lr: 1.0000e-04\n",
      "Epoch 30/200\n",
      "489/489 [==============================] - 5s 10ms/step - loss: 0.1865 - acc: 0.6742 - lr: 1.0000e-04\n",
      "Epoch 31/200\n",
      "489/489 [==============================] - 5s 9ms/step - loss: 0.1865 - acc: 0.6735 - lr: 1.0000e-04\n",
      "Epoch 32/200\n",
      "489/489 [==============================] - 5s 10ms/step - loss: 0.1865 - acc: 0.6745 - lr: 1.0000e-05\n",
      "Epoch 33/200\n",
      "489/489 [==============================] - 4s 8ms/step - loss: 0.1864 - acc: 0.6732 - lr: 1.0000e-05\n",
      "Epoch 34/200\n",
      "489/489 [==============================] - 4s 8ms/step - loss: 0.1864 - acc: 0.6735 - lr: 1.0000e-05\n",
      "Epoch 35/200\n",
      "489/489 [==============================] - 4s 8ms/step - loss: 0.1864 - acc: 0.6738 - lr: 1.0000e-06\n",
      "Epoch 36/200\n",
      "489/489 [==============================] - 4s 9ms/step - loss: 0.1864 - acc: 0.6736 - lr: 1.0000e-06\n",
      "Epoch 37/200\n",
      "489/489 [==============================] - 4s 9ms/step - loss: 0.1864 - acc: 0.6737 - lr: 1.0000e-06\n",
      "Epoch 38/200\n",
      "489/489 [==============================] - 4s 8ms/step - loss: 0.1864 - acc: 0.6736 - lr: 1.0000e-07\n"
     ]
    }
   ],
   "source": [
    "history = model_nn.fit(X_train_sc, y_train,\n",
    "                       epochs = 200,\n",
    "                       batch_size=1024,\n",
    "                       class_weight={0:0.2, 1:0.8},\n",
    "                       callbacks=callbacks)"
   ]
  },
  {
   "cell_type": "code",
   "execution_count": 51,
   "metadata": {},
   "outputs": [
    {
     "name": "stdout",
     "output_type": "stream",
     "text": [
      "Total accuracy: 0.7836784505157074\n",
      "Top 3 prediction accuracy: 0.47708333333333336\n"
     ]
    }
   ],
   "source": [
    "top3_pred = predict_top3_prob(model_nn, X_test_sc, raceid_test)\n",
    "print('Total accuracy:', accuracy_score(top3_test, top3_pred['Top 3']))\n",
    "print('Top 3 prediction accuracy:', top3_accuracy_score(top3_test.values, top3_pred['Top 3'].values))"
   ]
  },
  {
   "cell_type": "code",
   "execution_count": 52,
   "metadata": {},
   "outputs": [
    {
     "name": "stdout",
     "output_type": "stream",
     "text": [
      "Total accuracy: 0.7758969817755131\n",
      "Top 3 prediction accuracy: 0.4590118127685815\n"
     ]
    }
   ],
   "source": [
    "top3_pred = predict_top3_prob(model_nn, X_train_sc, raceid_train)\n",
    "print('Total accuracy:', accuracy_score(top3_train, top3_pred['Top 3']))\n",
    "print('Top 3 prediction accuracy:', top3_accuracy_score(top3_train.values, top3_pred['Top 3'].values))"
   ]
  }
 ],
 "metadata": {
  "kernelspec": {
   "display_name": "Python 3.9.7 ('base')",
   "language": "python",
   "name": "python3"
  },
  "language_info": {
   "codemirror_mode": {
    "name": "ipython",
    "version": 3
   },
   "file_extension": ".py",
   "mimetype": "text/x-python",
   "name": "python",
   "nbconvert_exporter": "python",
   "pygments_lexer": "ipython3",
   "version": "3.9.7"
  },
  "orig_nbformat": 4,
  "vscode": {
   "interpreter": {
    "hash": "ad1106730b73d75b7ab457ef5dd0c360d05649f67726ab3d2b5bff5cba1e07d5"
   }
  }
 },
 "nbformat": 4,
 "nbformat_minor": 2
}
