{
  "cells": [
    {
      "cell_type": "code",
      "execution_count": 1,
      "metadata": {
        "id": "1oToQHypZ9H-"
      },
      "outputs": [],
      "source": [
        "import pandas as pd\n",
        "import numpy as np\n",
        "import tensorflow as tf\n",
        "\n",
        "import matplotlib.pyplot as plt\n",
        "import seaborn as sns\n",
        "\n",
        "from helper import *\n",
        "import json\n",
        "import pickle\n",
        "import os\n",
        "from datetime import datetime"
      ]
    },
    {
      "cell_type": "markdown",
      "metadata": {
        "id": "oZuD7vzMaAGI"
      },
      "source": [
        "# Colab"
      ]
    },
    {
      "cell_type": "code",
      "execution_count": null,
      "metadata": {
        "id": "qIKeti9_Z_1m"
      },
      "outputs": [],
      "source": [
        "from google.colab import drive\n",
        "drive.mount('./drive')"
      ]
    },
    {
      "cell_type": "code",
      "execution_count": null,
      "metadata": {
        "id": "BgLENxhsbkTj"
      },
      "outputs": [],
      "source": [
        "!cp -r ./drive/MyDrive/horse_racing ."
      ]
    },
    {
      "cell_type": "code",
      "execution_count": null,
      "metadata": {
        "id": "YKGnXC6Lb1XX"
      },
      "outputs": [],
      "source": [
        "from horse_racing.helper import *"
      ]
    },
    {
      "cell_type": "code",
      "execution_count": null,
      "metadata": {
        "id": "2XumRSt1cCvL"
      },
      "outputs": [],
      "source": [
        "!unzip ./horse_racing/selected_data.zip -d ."
      ]
    },
    {
      "cell_type": "markdown",
      "metadata": {
        "id": "oCkm9uBqZ9IC"
      },
      "source": [
        "# Metrics"
      ]
    },
    {
      "cell_type": "code",
      "execution_count": 2,
      "metadata": {
        "id": "u_u702u9Z9ID"
      },
      "outputs": [],
      "source": [
        "from sklearn.metrics import accuracy_score, confusion_matrix, f1_score\n",
        "scores = {}"
      ]
    },
    {
      "cell_type": "markdown",
      "metadata": {
        "id": "IZhJum9lZ9IE"
      },
      "source": [
        "# Data"
      ]
    },
    {
      "cell_type": "code",
      "execution_count": 3,
      "metadata": {
        "id": "hWkb2rgge1hn"
      },
      "outputs": [],
      "source": [
        "from sklearn.preprocessing import MinMaxScaler\n",
        "scaler = MinMaxScaler()"
      ]
    },
    {
      "cell_type": "code",
      "execution_count": 4,
      "metadata": {
        "id": "QVAsZO0Ouxsj"
      },
      "outputs": [],
      "source": [
        "def data_gen(X, y, test_size = 0.05):\n",
        "  test_size = int(test_size*y.shape[0])\n",
        "  idx = list(range(X.shape[0]))\n",
        "  yield idx[:-test_size], idx[-test_size:]\n",
        "  yield idx[:-2*test_size] + idx[-test_size:], idx[-2*test_size:-test_size]\n"
      ]
    },
    {
      "cell_type": "code",
      "execution_count": 5,
      "metadata": {
        "id": "vbjvQTmvZ9IE"
      },
      "outputs": [],
      "source": [
        "with open('../src/app_data/selected_features.json', 'r') as f:\n",
        "    selected_features = json.load(f)['selected_features']"
      ]
    },
    {
      "cell_type": "code",
      "execution_count": 6,
      "metadata": {
        "id": "lZgq8O2nZ9IF"
      },
      "outputs": [],
      "source": [
        "df = pd.read_csv('../data/selected_data.csv')\n"
      ]
    },
    {
      "cell_type": "code",
      "execution_count": 7,
      "metadata": {
        "id": "X9WwMMbmZ9IF"
      },
      "outputs": [
        {
          "name": "stdout",
          "output_type": "stream",
          "text": [
            "Number of races in 2018: 25402\n"
          ]
        }
      ],
      "source": [
        "nrace_test = int(df['raceid'].apply(lambda x: True if x.split('-')[0] == '2018' else False).sum())\n",
        "print('Number of races in 2018:', nrace_test)\n"
      ]
    },
    {
      "cell_type": "code",
      "execution_count": 8,
      "metadata": {
        "id": "0vF7w1efZ9IG"
      },
      "outputs": [
        {
          "name": "stdout",
          "output_type": "stream",
          "text": [
            "(500261, 30) (500261,)\n",
            "(25402, 30) (25402,)\n"
          ]
        },
        {
          "data": {
            "text/html": [
              "<div>\n",
              "<style scoped>\n",
              "    .dataframe tbody tr th:only-of-type {\n",
              "        vertical-align: middle;\n",
              "    }\n",
              "\n",
              "    .dataframe tbody tr th {\n",
              "        vertical-align: top;\n",
              "    }\n",
              "\n",
              "    .dataframe thead th {\n",
              "        text-align: right;\n",
              "    }\n",
              "</style>\n",
              "<table border=\"1\" class=\"dataframe\">\n",
              "  <thead>\n",
              "    <tr style=\"text-align: right;\">\n",
              "      <th></th>\n",
              "      <th>Barei</th>\n",
              "      <th>BaTaijyu</th>\n",
              "      <th>SexCD_1</th>\n",
              "      <th>SexCD_2</th>\n",
              "      <th>SexCD_3</th>\n",
              "      <th>HinsyuCD_1</th>\n",
              "      <th>HinsyuCD_2</th>\n",
              "      <th>TozaiCD_3</th>\n",
              "      <th>TrackCD_Dirt</th>\n",
              "      <th>TrackCD_Turf</th>\n",
              "      <th>...</th>\n",
              "      <th>jockey_beta=0.07_top3</th>\n",
              "      <th>jockey_beta=0.1_top3</th>\n",
              "      <th>owner_top3</th>\n",
              "      <th>owner_top5</th>\n",
              "      <th>coach_n_races</th>\n",
              "      <th>coach_top1</th>\n",
              "      <th>coach_top3</th>\n",
              "      <th>horse_top3_rate</th>\n",
              "      <th>owner_top3_rate</th>\n",
              "      <th>jockey_top5_rate</th>\n",
              "    </tr>\n",
              "  </thead>\n",
              "  <tbody>\n",
              "    <tr>\n",
              "      <th>0</th>\n",
              "      <td>3</td>\n",
              "      <td>428.0</td>\n",
              "      <td>0.0</td>\n",
              "      <td>1.0</td>\n",
              "      <td>0.0</td>\n",
              "      <td>1.0</td>\n",
              "      <td>0.0</td>\n",
              "      <td>0.0</td>\n",
              "      <td>1.0</td>\n",
              "      <td>0.0</td>\n",
              "      <td>...</td>\n",
              "      <td>0.207452</td>\n",
              "      <td>0.207452</td>\n",
              "      <td>0.0</td>\n",
              "      <td>4.0</td>\n",
              "      <td>1.0</td>\n",
              "      <td>0.0</td>\n",
              "      <td>0.0</td>\n",
              "      <td>0.0</td>\n",
              "      <td>0.0</td>\n",
              "      <td>0.0</td>\n",
              "    </tr>\n",
              "    <tr>\n",
              "      <th>1</th>\n",
              "      <td>3</td>\n",
              "      <td>450.0</td>\n",
              "      <td>0.0</td>\n",
              "      <td>1.0</td>\n",
              "      <td>0.0</td>\n",
              "      <td>1.0</td>\n",
              "      <td>0.0</td>\n",
              "      <td>0.0</td>\n",
              "      <td>1.0</td>\n",
              "      <td>0.0</td>\n",
              "      <td>...</td>\n",
              "      <td>0.207452</td>\n",
              "      <td>0.207452</td>\n",
              "      <td>0.0</td>\n",
              "      <td>173.0</td>\n",
              "      <td>1.0</td>\n",
              "      <td>0.0</td>\n",
              "      <td>0.0</td>\n",
              "      <td>0.0</td>\n",
              "      <td>0.0</td>\n",
              "      <td>0.0</td>\n",
              "    </tr>\n",
              "    <tr>\n",
              "      <th>2</th>\n",
              "      <td>3</td>\n",
              "      <td>458.0</td>\n",
              "      <td>0.0</td>\n",
              "      <td>1.0</td>\n",
              "      <td>0.0</td>\n",
              "      <td>1.0</td>\n",
              "      <td>0.0</td>\n",
              "      <td>0.0</td>\n",
              "      <td>1.0</td>\n",
              "      <td>0.0</td>\n",
              "      <td>...</td>\n",
              "      <td>0.207452</td>\n",
              "      <td>0.207452</td>\n",
              "      <td>0.0</td>\n",
              "      <td>2651.0</td>\n",
              "      <td>1.0</td>\n",
              "      <td>0.0</td>\n",
              "      <td>0.0</td>\n",
              "      <td>0.0</td>\n",
              "      <td>0.0</td>\n",
              "      <td>0.0</td>\n",
              "    </tr>\n",
              "    <tr>\n",
              "      <th>3</th>\n",
              "      <td>3</td>\n",
              "      <td>402.0</td>\n",
              "      <td>0.0</td>\n",
              "      <td>1.0</td>\n",
              "      <td>0.0</td>\n",
              "      <td>1.0</td>\n",
              "      <td>0.0</td>\n",
              "      <td>0.0</td>\n",
              "      <td>1.0</td>\n",
              "      <td>0.0</td>\n",
              "      <td>...</td>\n",
              "      <td>0.207452</td>\n",
              "      <td>0.207452</td>\n",
              "      <td>0.0</td>\n",
              "      <td>518.0</td>\n",
              "      <td>1.0</td>\n",
              "      <td>0.0</td>\n",
              "      <td>0.0</td>\n",
              "      <td>0.0</td>\n",
              "      <td>0.0</td>\n",
              "      <td>0.0</td>\n",
              "    </tr>\n",
              "    <tr>\n",
              "      <th>4</th>\n",
              "      <td>3</td>\n",
              "      <td>482.0</td>\n",
              "      <td>0.0</td>\n",
              "      <td>1.0</td>\n",
              "      <td>0.0</td>\n",
              "      <td>1.0</td>\n",
              "      <td>0.0</td>\n",
              "      <td>0.0</td>\n",
              "      <td>1.0</td>\n",
              "      <td>0.0</td>\n",
              "      <td>...</td>\n",
              "      <td>0.207452</td>\n",
              "      <td>0.207452</td>\n",
              "      <td>0.0</td>\n",
              "      <td>202.0</td>\n",
              "      <td>1.0</td>\n",
              "      <td>0.0</td>\n",
              "      <td>0.0</td>\n",
              "      <td>0.0</td>\n",
              "      <td>0.0</td>\n",
              "      <td>0.0</td>\n",
              "    </tr>\n",
              "  </tbody>\n",
              "</table>\n",
              "<p>5 rows × 30 columns</p>\n",
              "</div>"
            ],
            "text/plain": [
              "   Barei  BaTaijyu  SexCD_1  SexCD_2  SexCD_3  HinsyuCD_1  HinsyuCD_2  \\\n",
              "0      3     428.0      0.0      1.0      0.0         1.0         0.0   \n",
              "1      3     450.0      0.0      1.0      0.0         1.0         0.0   \n",
              "2      3     458.0      0.0      1.0      0.0         1.0         0.0   \n",
              "3      3     402.0      0.0      1.0      0.0         1.0         0.0   \n",
              "4      3     482.0      0.0      1.0      0.0         1.0         0.0   \n",
              "\n",
              "   TozaiCD_3  TrackCD_Dirt  TrackCD_Turf  ...  jockey_beta=0.07_top3  \\\n",
              "0        0.0           1.0           0.0  ...               0.207452   \n",
              "1        0.0           1.0           0.0  ...               0.207452   \n",
              "2        0.0           1.0           0.0  ...               0.207452   \n",
              "3        0.0           1.0           0.0  ...               0.207452   \n",
              "4        0.0           1.0           0.0  ...               0.207452   \n",
              "\n",
              "   jockey_beta=0.1_top3  owner_top3  owner_top5  coach_n_races  coach_top1  \\\n",
              "0              0.207452         0.0         4.0            1.0         0.0   \n",
              "1              0.207452         0.0       173.0            1.0         0.0   \n",
              "2              0.207452         0.0      2651.0            1.0         0.0   \n",
              "3              0.207452         0.0       518.0            1.0         0.0   \n",
              "4              0.207452         0.0       202.0            1.0         0.0   \n",
              "\n",
              "   coach_top3  horse_top3_rate  owner_top3_rate  jockey_top5_rate  \n",
              "0         0.0              0.0              0.0               0.0  \n",
              "1         0.0              0.0              0.0               0.0  \n",
              "2         0.0              0.0              0.0               0.0  \n",
              "3         0.0              0.0              0.0               0.0  \n",
              "4         0.0              0.0              0.0               0.0  \n",
              "\n",
              "[5 rows x 30 columns]"
            ]
          },
          "execution_count": 8,
          "metadata": {},
          "output_type": "execute_result"
        }
      ],
      "source": [
        "kettoNum = df['KettoNum']\n",
        "X = df[selected_features]\n",
        "y = df['Top 3']\n",
        "top3 = df['Top 3']\n",
        "raceid = df['raceid']\n",
        "X_train, X_test, y_train, y_test, top3_train, top3_test, raceid_train, raceid_test = split_data(X, y, raceid, top3,\n",
        "                                                                                                drop_columns=None,\n",
        "                                                                                                select_cols=None,\n",
        "                                                                                                test_size=nrace_test)\n",
        "print(X_train.shape, y_train.shape)\n",
        "print(X_test.shape, y_test.shape)\n",
        "X_train.head()"
      ]
    },
    {
      "cell_type": "markdown",
      "metadata": {
        "id": "QGjKGoEwZ9IH"
      },
      "source": [
        "# Model"
      ]
    },
    {
      "cell_type": "code",
      "execution_count": 9,
      "metadata": {
        "id": "7paVL9LTczoT"
      },
      "outputs": [],
      "source": [
        "from sklearn.linear_model import LogisticRegression\n",
        "from sklearn.ensemble import AdaBoostClassifier, GradientBoostingClassifier\n",
        "from xgboost import XGBClassifier\n",
        "from sklearn.model_selection import GridSearchCV"
      ]
    },
    {
      "cell_type": "code",
      "execution_count": 10,
      "metadata": {
        "id": "v5QNwLCU9MsN"
      },
      "outputs": [],
      "source": [
        "def finetuning(X, y, estimator = None, test_size=0.05,**kwargs):\n",
        "\n",
        "  params_list = []\n",
        "  kwargs_keys = list(kwargs.keys())\n",
        "  for arg in kwargs_keys:\n",
        "    if 'param' in arg:\n",
        "      params_list.append(kwargs.pop(arg))\n",
        "  current_params = estimator.get_params()\n",
        "  for params in params_list:\n",
        "    start_time = datetime.now()\n",
        "    estimator.set_params(**current_params)\n",
        "    model = GridSearchCV(estimator, param_grid=params, cv = data_gen(X, y, test_size=test_size))\n",
        "    model.fit(X, y)\n",
        "    end_time = datetime.now()\n",
        "    print(f'Training with {params} took {(end_time-start_time).total_seconds()} seconds')\n",
        "    current_params = model.best_estimator_.get_params()\n",
        "  return model.best_estimator_\n",
        "  "
      ]
    },
    {
      "cell_type": "markdown",
      "metadata": {
        "id": "dV5a6jcOZ9IH"
      },
      "source": [
        "## Logistic Regression"
      ]
    },
    {
      "cell_type": "code",
      "execution_count": 10,
      "metadata": {
        "id": "posrBc2Je_sG"
      },
      "outputs": [],
      "source": [
        "scaler.fit(X_train)\n",
        "X_train_sc = scaler.transform(X_train)\n",
        "X_test_sc = scaler.transform(X_test)"
      ]
    },
    {
      "cell_type": "code",
      "execution_count": null,
      "metadata": {
        "id": "jeNCM4_eczIO"
      },
      "outputs": [],
      "source": [
        "estimator = LogisticRegression(max_iter=300, solver='liblinear')\n",
        "params1 = {\n",
        "    'penalty': ['l1','l2'],\n",
        "    'class_weight': [None,'balanced']\n",
        "}\n",
        "params2 = {'C':[0.1,0.5,1.0]}\n",
        "model_log = finetuning(X_train_sc, y_train.values, estimator=estimator, params1=params1, params2=params2)\n"
      ]
    },
    {
      "cell_type": "code",
      "execution_count": null,
      "metadata": {
        "id": "sc-YnrMVfdWg"
      },
      "outputs": [],
      "source": [
        "top3_pred = predict_top3_prob(model_log, X_train_sc, raceid_train)\n",
        "print('Total accuracy:', accuracy_score(top3_train, top3_pred['Top 3']))\n",
        "print('Top 3 prediction accuracy:', top3_accuracy_score(top3_train.values, top3_pred['Top 3'].values))\n",
        "ax = sns.heatmap(confusion_matrix(top3_train, top3_pred['Top 3']), annot=True, fmt='.0f', cmap='Blues')"
      ]
    },
    {
      "cell_type": "code",
      "execution_count": null,
      "metadata": {
        "id": "61MB-GzlfhI4"
      },
      "outputs": [],
      "source": [
        "top3_pred = predict_top3_prob(model_log, X_test_sc, raceid_test)\n",
        "scores['log'] = top3_accuracy_score(top3_test.values, top3_pred['Top 3'].values)\n",
        "print('Total accuracy:', accuracy_score(top3_test, top3_pred['Top 3']))\n",
        "print('Top 3 prediction accuracy:', scores['log'])\n",
        "ax = sns.heatmap(confusion_matrix(top3_test, top3_pred['Top 3']), annot=True, fmt='.0f', cmap='Blues')"
      ]
    },
    {
      "cell_type": "code",
      "execution_count": null,
      "metadata": {
        "id": "SQ-Jz_T-gnKp"
      },
      "outputs": [],
      "source": [
        "with open('model_log.pickle', 'wb') as f:\n",
        "  f.write(pickle.dumps(model_log))"
      ]
    },
    {
      "cell_type": "markdown",
      "metadata": {
        "id": "riSWBYw3Z9II"
      },
      "source": [
        "## Gradient Boost"
      ]
    },
    {
      "cell_type": "code",
      "execution_count": null,
      "metadata": {
        "id": "UmfhUlTugsqT"
      },
      "outputs": [],
      "source": [
        "estimator = GradientBoostingClassifier(max_depth=8)\n",
        "params1 = {\n",
        "    'n_estimators': [50, 100, 150],\n",
        "}\n",
        "params2 = {\n",
        "    'max_depth': [5,8,11],\n",
        "    'learning_rate':[0.1,0.3]\n",
        "}\n",
        "\n",
        "model_gb = finetuning(X_train.values, y_train.values, estimator=estimator, params1=params1, params2=params2)\n"
      ]
    },
    {
      "cell_type": "code",
      "execution_count": null,
      "metadata": {
        "id": "xexO1cDch3Vn"
      },
      "outputs": [],
      "source": [
        "# model = model_gb.best_estimator\n",
        "top3_pred = predict_top3_prob(model_gb, X_test, raceid_test)\n",
        "print('Total accuracy:', accuracy_score(top3_test, top3_pred['Top 3']))\n",
        "scores['gb'] = top3_accuracy_score(top3_test.values, top3_pred['Top 3'].values)\n",
        "print('Top 3 prediction accuracy:', scores['gb'])\n",
        "ax = sns.heatmap(confusion_matrix(top3_test, top3_pred['Top 3']), annot=True, fmt='.0f', cmap='Blues')"
      ]
    },
    {
      "cell_type": "markdown",
      "metadata": {
        "id": "P1YZ725SpxTC"
      },
      "source": [
        "## XGBoost"
      ]
    },
    {
      "cell_type": "code",
      "execution_count": null,
      "metadata": {
        "id": "4dQNgP8Zp2CD"
      },
      "outputs": [],
      "source": [
        "estimator = XGBClassifier()\n",
        "params1 = {\n",
        "    \"subsample\": [0.6,0.8,1.],\n",
        "    \"n_estimators\": [50, 100, 150]\n",
        "}\n",
        "params2 = {\n",
        "    \"learning_rate\":[0.1, 0.3],\n",
        "    \"max_depth\": [5, 8, 11]\n",
        "}\n",
        "params3 = {\n",
        "    \"reg_lambda\": [1, 2, 3],\n",
        "    \"gamma\": [0.5, 1.5, 2.5]\n",
        "}\n",
        "model_xgb = finetuning(X_train.values, y_train.values, estimator=estimator, params1=params1, params2=params2, params3=params3)"
      ]
    },
    {
      "cell_type": "code",
      "execution_count": null,
      "metadata": {
        "id": "kRDmTTharujg"
      },
      "outputs": [],
      "source": [
        "top3_pred = predict_top3_prob(model_xgb, X_test.values, raceid_test)\n",
        "scores['xgb'] = top3_accuracy_score(top3_test.values, top3_pred['Top 3'].values)\n",
        "print('Total accuracy:', accuracy_score(top3_test, top3_pred['Top 3']))\n",
        "print('Top 3 prediction accuracy:', scores['xgb'])\n",
        "ax = sns.heatmap(confusion_matrix(top3_test, top3_pred['Top 3']), annot=True, fmt='.0f', cmap='Blues')"
      ]
    },
    {
      "cell_type": "code",
      "execution_count": null,
      "metadata": {
        "id": "ElRm4VgQzdvs"
      },
      "outputs": [],
      "source": [
        "model_xgb.save_model(r'..\\src\\modelcheckpoint\\model_xgb.json')\n",
        "with open('model_xgb_params.json', 'w') as f:\n",
        "  f.write(json.dumps(model_xgb.get_params()))"
      ]
    },
    {
      "cell_type": "markdown",
      "metadata": {
        "id": "nI8VGd99Z9II"
      },
      "source": [
        "## DNN model"
      ]
    },
    {
      "cell_type": "code",
      "execution_count": 54,
      "metadata": {
        "id": "Rq85NzneaGi3"
      },
      "outputs": [],
      "source": [
        "X_train, X_val, y_train, y_val, top3_train, top3_val, raceid_train, raceid_val = split_data(X_train, y_train, raceid_train, top3_train,\n",
        "                                                                                                drop_columns=None,\n",
        "                                                                                                select_cols=None,\n",
        "                                                                                                test_size=0.05)"
      ]
    },
    {
      "cell_type": "code",
      "execution_count": 55,
      "metadata": {
        "id": "Rtfu1hjSaPAy"
      },
      "outputs": [],
      "source": [
        "scaler = MinMaxScaler()\n",
        "scaler.fit(X_train)\n",
        "X_train_sc = scaler.transform(X_train)\n",
        "X_val_sc = scaler.transform(X_val)\n",
        "X_test_sc = scaler.transform(X_test)"
      ]
    },
    {
      "cell_type": "markdown",
      "metadata": {
        "id": "zc_ykSyePd70"
      },
      "source": [
        "### Model"
      ]
    },
    {
      "cell_type": "code",
      "execution_count": 56,
      "metadata": {
        "id": "Rw69CnmlCNCk"
      },
      "outputs": [],
      "source": [
        "model_nn = tf.keras.Sequential([\n",
        "    tf.keras.layers.Dense(50, activation='relu'),\n",
        "    tf.keras.layers.Dense(50, activation='relu', kernel_regularizer =tf.keras.regularizers.L2()),\n",
        "    tf.keras.layers.BatchNormalization(momentum=0.99),\n",
        "    tf.keras.layers.Dense(50, activation='relu'),\n",
        "    tf.keras.layers.Dense(50, activation='relu', kernel_regularizer =tf.keras.regularizers.L2()),\n",
        "    tf.keras.layers.BatchNormalization(momentum=0.99),\n",
        "    tf.keras.layers.Dense(30, activation='relu'),\n",
        "    tf.keras.layers.Dense(30, activation='relu', kernel_regularizer =tf.keras.regularizers.L2()),\n",
        "    tf.keras.layers.BatchNormalization(momentum=0.99),\n",
        "    tf.keras.layers.Dense(30, activation='relu'),\n",
        "    tf.keras.layers.Dense(30, activation='relu', kernel_regularizer =tf.keras.regularizers.L2()),\n",
        "    tf.keras.layers.BatchNormalization(momentum=0.99),\n",
        "    tf.keras.layers.Dense(10, activation='relu'),\n",
        "    tf.keras.layers.Dense(10, activation='relu', kernel_regularizer =tf.keras.regularizers.L2()),\n",
        "    tf.keras.layers.BatchNormalization(momentum=0.99),\n",
        "    tf.keras.layers.Dense(1, activation='sigmoid')\n",
        "])"
      ]
    },
    {
      "cell_type": "code",
      "execution_count": 57,
      "metadata": {
        "id": "qUlqEC3Mas1C"
      },
      "outputs": [],
      "source": [
        "model_nn.compile(\n",
        "                loss = tf.keras.losses.BinaryFocalCrossentropy(),\n",
        "                # loss = 'binary_crossentropy',\n",
        "                optimizer=tf.keras.optimizers.Adam(learning_rate=0.001),\n",
        "                metrics=['acc'])"
      ]
    },
    {
      "cell_type": "code",
      "execution_count": 12,
      "metadata": {
        "id": "hsose28GauWd"
      },
      "outputs": [],
      "source": [
        "ckpt_folder = os.path.join('..','src','modelcheckpoint')\n",
        "callbacks = callbacks=[tf.keras.callbacks.ReduceLROnPlateau(fractions=0.1,monitor='val_loss', patience=3),\n",
        "                       tf.keras.callbacks.EarlyStopping(monitor='val_loss', patience=12, min_delta=0.0001),\n",
        "                       tf.keras.callbacks.ModelCheckpoint(os.path.join(ckpt_folder,'model_nn.hdf5'), save_best_only=True)]"
      ]
    },
    {
      "cell_type": "code",
      "execution_count": 59,
      "metadata": {
        "id": "Qs4o6S2ga4yk"
      },
      "outputs": [
        {
          "name": "stdout",
          "output_type": "stream",
          "text": [
            "Epoch 1/200\n",
            "465/465 [==============================] - 4s 6ms/step - loss: 0.7686 - acc: 0.7653 - val_loss: 0.3182 - val_acc: 0.7855 - lr: 0.0010\n",
            "Epoch 2/200\n",
            "465/465 [==============================] - 3s 6ms/step - loss: 0.1745 - acc: 0.7953 - val_loss: 0.1635 - val_acc: 0.7855 - lr: 0.0010\n",
            "Epoch 3/200\n",
            "465/465 [==============================] - 3s 6ms/step - loss: 0.1249 - acc: 0.7961 - val_loss: 0.1238 - val_acc: 0.7854 - lr: 0.0010\n",
            "Epoch 4/200\n",
            "465/465 [==============================] - 3s 6ms/step - loss: 0.1188 - acc: 0.7966 - val_loss: 0.1336 - val_acc: 0.7437 - lr: 0.0010\n",
            "Epoch 5/200\n",
            "465/465 [==============================] - 3s 5ms/step - loss: 0.1179 - acc: 0.7968 - val_loss: 0.1239 - val_acc: 0.7887 - lr: 0.0010\n",
            "Epoch 6/200\n",
            "465/465 [==============================] - 3s 6ms/step - loss: 0.1176 - acc: 0.7968 - val_loss: 0.1206 - val_acc: 0.7914 - lr: 0.0010\n",
            "Epoch 7/200\n",
            "465/465 [==============================] - 3s 6ms/step - loss: 0.1174 - acc: 0.7971 - val_loss: 0.1262 - val_acc: 0.7905 - lr: 0.0010\n",
            "Epoch 8/200\n",
            "465/465 [==============================] - 3s 6ms/step - loss: 0.1171 - acc: 0.7974 - val_loss: 0.1200 - val_acc: 0.7927 - lr: 0.0010\n",
            "Epoch 9/200\n",
            "465/465 [==============================] - 3s 6ms/step - loss: 0.1166 - acc: 0.7980 - val_loss: 0.1238 - val_acc: 0.7855 - lr: 0.0010\n",
            "Epoch 10/200\n",
            "465/465 [==============================] - 3s 6ms/step - loss: 0.1163 - acc: 0.7985 - val_loss: 0.1194 - val_acc: 0.7934 - lr: 0.0010\n",
            "Epoch 11/200\n",
            "465/465 [==============================] - 3s 6ms/step - loss: 0.1162 - acc: 0.7983 - val_loss: 0.1177 - val_acc: 0.7944 - lr: 0.0010\n",
            "Epoch 12/200\n",
            "465/465 [==============================] - 3s 6ms/step - loss: 0.1160 - acc: 0.7983 - val_loss: 0.1201 - val_acc: 0.7914 - lr: 0.0010\n",
            "Epoch 13/200\n",
            "465/465 [==============================] - 3s 6ms/step - loss: 0.1158 - acc: 0.7988 - val_loss: 0.1181 - val_acc: 0.7931 - lr: 0.0010\n",
            "Epoch 14/200\n",
            "465/465 [==============================] - 3s 6ms/step - loss: 0.1158 - acc: 0.7988 - val_loss: 0.1618 - val_acc: 0.6830 - lr: 0.0010\n",
            "Epoch 15/200\n",
            "465/465 [==============================] - 3s 6ms/step - loss: 0.1153 - acc: 0.7996 - val_loss: 0.1178 - val_acc: 0.7908 - lr: 1.0000e-04\n",
            "Epoch 16/200\n",
            "465/465 [==============================] - 3s 6ms/step - loss: 0.1151 - acc: 0.7995 - val_loss: 0.1181 - val_acc: 0.7913 - lr: 1.0000e-04\n",
            "Epoch 17/200\n",
            "465/465 [==============================] - 3s 6ms/step - loss: 0.1150 - acc: 0.7997 - val_loss: 0.1172 - val_acc: 0.7953 - lr: 1.0000e-04\n",
            "Epoch 18/200\n",
            "465/465 [==============================] - 3s 6ms/step - loss: 0.1150 - acc: 0.7997 - val_loss: 0.1173 - val_acc: 0.7948 - lr: 1.0000e-04\n",
            "Epoch 19/200\n",
            "465/465 [==============================] - 3s 6ms/step - loss: 0.1150 - acc: 0.7996 - val_loss: 0.1169 - val_acc: 0.7940 - lr: 1.0000e-04\n",
            "Epoch 20/200\n",
            "465/465 [==============================] - 3s 6ms/step - loss: 0.1150 - acc: 0.7997 - val_loss: 0.1181 - val_acc: 0.7896 - lr: 1.0000e-04\n",
            "Epoch 21/200\n",
            "465/465 [==============================] - 3s 6ms/step - loss: 0.1150 - acc: 0.7997 - val_loss: 0.1173 - val_acc: 0.7933 - lr: 1.0000e-04\n",
            "Epoch 22/200\n",
            "465/465 [==============================] - 3s 6ms/step - loss: 0.1149 - acc: 0.7998 - val_loss: 0.1167 - val_acc: 0.7949 - lr: 1.0000e-04\n",
            "Epoch 23/200\n",
            "465/465 [==============================] - 3s 6ms/step - loss: 0.1149 - acc: 0.7999 - val_loss: 0.1185 - val_acc: 0.7891 - lr: 1.0000e-04\n",
            "Epoch 24/200\n",
            "465/465 [==============================] - 3s 6ms/step - loss: 0.1149 - acc: 0.7998 - val_loss: 0.1173 - val_acc: 0.7945 - lr: 1.0000e-04\n",
            "Epoch 25/200\n",
            "465/465 [==============================] - 3s 6ms/step - loss: 0.1149 - acc: 0.8000 - val_loss: 0.1187 - val_acc: 0.7870 - lr: 1.0000e-04\n",
            "Epoch 26/200\n",
            "465/465 [==============================] - 3s 6ms/step - loss: 0.1148 - acc: 0.8001 - val_loss: 0.1166 - val_acc: 0.7956 - lr: 1.0000e-05\n",
            "Epoch 27/200\n",
            "465/465 [==============================] - 3s 6ms/step - loss: 0.1148 - acc: 0.8002 - val_loss: 0.1168 - val_acc: 0.7932 - lr: 1.0000e-05\n",
            "Epoch 28/200\n",
            "465/465 [==============================] - 3s 6ms/step - loss: 0.1147 - acc: 0.8000 - val_loss: 0.1167 - val_acc: 0.7951 - lr: 1.0000e-05\n",
            "Epoch 29/200\n",
            "465/465 [==============================] - 3s 6ms/step - loss: 0.1147 - acc: 0.8001 - val_loss: 0.1166 - val_acc: 0.7949 - lr: 1.0000e-05\n",
            "Epoch 30/200\n",
            "465/465 [==============================] - 3s 7ms/step - loss: 0.1147 - acc: 0.8002 - val_loss: 0.1166 - val_acc: 0.7963 - lr: 1.0000e-06\n",
            "Epoch 31/200\n",
            "465/465 [==============================] - 3s 7ms/step - loss: 0.1147 - acc: 0.8002 - val_loss: 0.1166 - val_acc: 0.7964 - lr: 1.0000e-06\n",
            "Epoch 32/200\n",
            "465/465 [==============================] - 3s 6ms/step - loss: 0.1147 - acc: 0.8003 - val_loss: 0.1166 - val_acc: 0.7965 - lr: 1.0000e-06\n",
            "Epoch 33/200\n",
            "465/465 [==============================] - 3s 7ms/step - loss: 0.1147 - acc: 0.8003 - val_loss: 0.1166 - val_acc: 0.7965 - lr: 1.0000e-07\n",
            "Epoch 34/200\n",
            "465/465 [==============================] - 3s 6ms/step - loss: 0.1147 - acc: 0.8002 - val_loss: 0.1166 - val_acc: 0.7963 - lr: 1.0000e-07\n",
            "Epoch 35/200\n",
            "465/465 [==============================] - 3s 6ms/step - loss: 0.1147 - acc: 0.8002 - val_loss: 0.1166 - val_acc: 0.7966 - lr: 1.0000e-07\n",
            "Epoch 36/200\n",
            "465/465 [==============================] - 3s 6ms/step - loss: 0.1147 - acc: 0.8003 - val_loss: 0.1166 - val_acc: 0.7965 - lr: 1.0000e-08\n",
            "Epoch 37/200\n",
            "465/465 [==============================] - 3s 6ms/step - loss: 0.1147 - acc: 0.8003 - val_loss: 0.1166 - val_acc: 0.7960 - lr: 1.0000e-08\n",
            "Epoch 38/200\n",
            "465/465 [==============================] - 3s 6ms/step - loss: 0.1147 - acc: 0.8003 - val_loss: 0.1166 - val_acc: 0.7964 - lr: 1.0000e-08\n"
          ]
        }
      ],
      "source": [
        "history = model_nn.fit(X_train_sc, y_train,\n",
        "                       epochs = 200,\n",
        "                       validation_data=(X_val_sc, y_val),\n",
        "                       batch_size=1024,\n",
        "                       callbacks=callbacks)"
      ]
    },
    {
      "cell_type": "markdown",
      "metadata": {},
      "source": [
        "### Evaluate"
      ]
    },
    {
      "cell_type": "code",
      "execution_count": 60,
      "metadata": {
        "id": "hwvuploTf6v0"
      },
      "outputs": [
        {
          "data": {
            "text/plain": [
              "<matplotlib.legend.Legend at 0x1f9872e6040>"
            ]
          },
          "execution_count": 60,
          "metadata": {},
          "output_type": "execute_result"
        },
        {
          "data": {
            "image/png": "[encoded data removed]",
            "text/plain": [
              "<Figure size 432x288 with 1 Axes>"
            ]
          },
          "metadata": {
            "needs_background": "light"
          },
          "output_type": "display_data"
        }
      ],
      "source": [
        "plt.plot(history.history['loss'], label='loss')\n",
        "plt.plot(history.history['val_loss'], label='val loss')\n",
        "plt.legend()"
      ]
    },
    {
      "cell_type": "code",
      "execution_count": 61,
      "metadata": {
        "id": "ERdkpBT7a-p5"
      },
      "outputs": [],
      "source": [
        "model_nn = tf.keras.models.load_model(os.path.join(ckpt_folder, 'model_nn.hdf5'))"
      ]
    },
    {
      "cell_type": "code",
      "execution_count": null,
      "metadata": {
        "id": "ontCzJdXbAhU"
      },
      "outputs": [],
      "source": [
        "top3_pred = predict_top3_prob(model_nn, X_train_sc, raceid_train)\n",
        "print('Total accuracy:', accuracy_score(top3_train, top3_pred['Top 3']))\n",
        "print('Top 3 prediction accuracy:', scores['train'][-1])\n",
        "ax = sns.heatmap(confusion_matrix(top3_train, top3_pred['Top 3']), annot=True, fmt='.0f', cmap='Blues')"
      ]
    },
    {
      "cell_type": "code",
      "execution_count": null,
      "metadata": {
        "id": "cvBezavqbCf1"
      },
      "outputs": [],
      "source": [
        "top3_pred = predict_top3_prob(model_nn, X_val_sc, raceid_val)\n",
        "print('Total accuracy:', accuracy_score(top3_val, top3_pred['Top 3']))\n",
        "print('Top 3 prediction accuracy:', top3_accuracy_score(top3_val.values, top3_pred['Top 3'].values))\n",
        "ax = sns.heatmap(confusion_matrix(top3_val, top3_pred['Top 3']), annot=True, fmt='.0f', cmap='Blues')"
      ]
    },
    {
      "cell_type": "code",
      "execution_count": 23,
      "metadata": {
        "id": "JhUCigcafY4w"
      },
      "outputs": [
        {
          "name": "stdout",
          "output_type": "stream",
          "text": [
            "Total accuracy: 0.7865522399811038\n",
            "Top 3 prediction accuracy: 0.4839931805266149\n"
          ]
        },
        {
          "data": {
            "image/png": "[encoded data removed]",
            "text/plain": [
              "<Figure size 432x288 with 2 Axes>"
            ]
          },
          "metadata": {
            "needs_background": "light"
          },
          "output_type": "display_data"
        }
      ],
      "source": [
        "top3_pred = predict_top3_prob(model_nn, X_test_sc, raceid_test)\n",
        "print('Total accuracy:', accuracy_score(top3_test, top3_pred['Top 3']))\n",
        "scores['dnn'] = top3_accuracy_score(top3_test.values, top3_pred['Top 3'].values)\n",
        "print('Top 3 prediction accuracy:', scores['dnn'])\n",
        "ax = sns.heatmap(confusion_matrix(top3_test, top3_pred['Top 3']), annot=True, fmt='.0f', cmap='Blues')"
      ]
    },
    {
      "cell_type": "markdown",
      "metadata": {},
      "source": [
        "## Ensemble model"
      ]
    },
    {
      "cell_type": "code",
      "execution_count": 13,
      "metadata": {},
      "outputs": [],
      "source": [
        "model_xgb = XGBClassifier()\n",
        "model_xgb.load_model(os.path.join(ckpt_folder, 'model_xgb.json'))"
      ]
    },
    {
      "cell_type": "code",
      "execution_count": 14,
      "metadata": {},
      "outputs": [],
      "source": [
        "model_nn = tf.keras.models.load_model(os.path.join(ckpt_folder, 'model_nn.hdf5'))"
      ]
    },
    {
      "cell_type": "code",
      "execution_count": 16,
      "metadata": {},
      "outputs": [
        {
          "name": "stdout",
          "output_type": "stream",
          "text": [
            "Total accuracy: 0.7897803322573026\n",
            "Top 3 prediction accuracy: 0.4917598029929911\n"
          ]
        },
        {
          "data": {
            "text/plain": [
              "Text(33.0, 0.5, 'True')"
            ]
          },
          "execution_count": 16,
          "metadata": {},
          "output_type": "execute_result"
        },
        {
          "data": {
            "image/png": "[encoded data removed]",
            "text/plain": [
              "<Figure size 432x288 with 2 Axes>"
            ]
          },
          "metadata": {
            "needs_background": "light"
          },
          "output_type": "display_data"
        }
      ],
      "source": [
        "top3_pred = predict_top3_prob_multimodels([model_xgb,model_nn], [X_test,X_test_sc], raceid_test)\n",
        "print('Total accuracy:', accuracy_score(top3_test, top3_pred['Top 3']))\n",
        "scores['ensemble'] = top3_accuracy_score(top3_test.values, top3_pred['Top 3'].values)\n",
        "print('Top 3 prediction accuracy:', scores['ensemble'])\n",
        "sns.heatmap(confusion_matrix(top3_test, top3_pred['Top 3']), annot=True, fmt='.0f', cmap='Blues')\n",
        "plt.xlabel('Pred')\n",
        "plt.ylabel('True')"
      ]
    },
    {
      "cell_type": "code",
      "execution_count": null,
      "metadata": {},
      "outputs": [],
      "source": [
        "with open(os.path.join('..','reports','score', 'model_scores.json'), 'w') as f:\n",
        "    f.write(json.dumps(scores))"
      ]
    },
    {
      "cell_type": "markdown",
      "metadata": {
        "id": "kXENKL6RZ9IJ"
      },
      "source": [
        "# Predict and save predictions"
      ]
    },
    {
      "cell_type": "code",
      "execution_count": 17,
      "metadata": {
        "id": "VbCj_gnwZ9IJ"
      },
      "outputs": [],
      "source": [
        "data_path = os.path.join('..','src','app_data')\n",
        "# data_path = './'"
      ]
    },
    {
      "cell_type": "code",
      "execution_count": 18,
      "metadata": {},
      "outputs": [
        {
          "name": "stdout",
          "output_type": "stream",
          "text": [
            "Total accuracy: 0.7814626481224662\n",
            "Top 3 prediction accuracy: 0.4723888124713434\n"
          ]
        },
        {
          "data": {
            "text/plain": [
              "Text(33.0, 0.5, 'True')"
            ]
          },
          "execution_count": 18,
          "metadata": {},
          "output_type": "execute_result"
        },
        {
          "data": {
            "image/png": "[encoded data removed]",
            "text/plain": [
              "<Figure size 432x288 with 2 Axes>"
            ]
          },
          "metadata": {
            "needs_background": "light"
          },
          "output_type": "display_data"
        }
      ],
      "source": [
        "top3_pred = predict_top3_prob_multimodels([model_xgb,model_nn], [X,scaler.transform(X)], raceid)\n",
        "print('Total accuracy:', accuracy_score(top3, top3_pred['Top 3']))\n",
        "print('Top 3 prediction accuracy:', top3_accuracy_score(top3.values, top3_pred['Top 3'].values))\n",
        "sns.heatmap(confusion_matrix(top3, top3_pred['Top 3']), annot=True, fmt='.0f', cmap='Blues')\n",
        "plt.xlabel('Pred')\n",
        "plt.ylabel('True')"
      ]
    },
    {
      "cell_type": "code",
      "execution_count": 20,
      "metadata": {
        "id": "IRJnTtZvZ9IK"
      },
      "outputs": [
        {
          "data": {
            "text/html": [
              "<div>\n",
              "<style scoped>\n",
              "    .dataframe tbody tr th:only-of-type {\n",
              "        vertical-align: middle;\n",
              "    }\n",
              "\n",
              "    .dataframe tbody tr th {\n",
              "        vertical-align: top;\n",
              "    }\n",
              "\n",
              "    .dataframe thead th {\n",
              "        text-align: right;\n",
              "    }\n",
              "</style>\n",
              "<table border=\"1\" class=\"dataframe\">\n",
              "  <thead>\n",
              "    <tr style=\"text-align: right;\">\n",
              "      <th></th>\n",
              "      <th>raceid</th>\n",
              "      <th>KettoNum</th>\n",
              "      <th>Top 3 prob</th>\n",
              "      <th>Top 3 pred</th>\n",
              "      <th>Truth</th>\n",
              "    </tr>\n",
              "  </thead>\n",
              "  <tbody>\n",
              "    <tr>\n",
              "      <th>0</th>\n",
              "      <td>2008-01-05 01:06</td>\n",
              "      <td>2005107051</td>\n",
              "      <td>0.174859</td>\n",
              "      <td>False</td>\n",
              "      <td>False</td>\n",
              "    </tr>\n",
              "    <tr>\n",
              "      <th>1</th>\n",
              "      <td>2008-01-05 01:06</td>\n",
              "      <td>2005102028</td>\n",
              "      <td>0.199353</td>\n",
              "      <td>False</td>\n",
              "      <td>True</td>\n",
              "    </tr>\n",
              "    <tr>\n",
              "      <th>2</th>\n",
              "      <td>2008-01-05 01:06</td>\n",
              "      <td>2005104156</td>\n",
              "      <td>0.273760</td>\n",
              "      <td>True</td>\n",
              "      <td>True</td>\n",
              "    </tr>\n",
              "    <tr>\n",
              "      <th>3</th>\n",
              "      <td>2008-01-05 01:06</td>\n",
              "      <td>2005105319</td>\n",
              "      <td>0.178951</td>\n",
              "      <td>False</td>\n",
              "      <td>False</td>\n",
              "    </tr>\n",
              "    <tr>\n",
              "      <th>4</th>\n",
              "      <td>2008-01-05 01:06</td>\n",
              "      <td>2005101044</td>\n",
              "      <td>0.215933</td>\n",
              "      <td>True</td>\n",
              "      <td>True</td>\n",
              "    </tr>\n",
              "  </tbody>\n",
              "</table>\n",
              "</div>"
            ],
            "text/plain": [
              "             raceid    KettoNum  Top 3 prob  Top 3 pred  Truth\n",
              "0  2008-01-05 01:06  2005107051    0.174859       False  False\n",
              "1  2008-01-05 01:06  2005102028    0.199353       False   True\n",
              "2  2008-01-05 01:06  2005104156    0.273760        True   True\n",
              "3  2008-01-05 01:06  2005105319    0.178951       False  False\n",
              "4  2008-01-05 01:06  2005101044    0.215933        True   True"
            ]
          },
          "execution_count": 20,
          "metadata": {},
          "output_type": "execute_result"
        }
      ],
      "source": [
        "top3_pred['KettoNum'] = kettoNum\n",
        "top3_pred['Truth'] = top3\n",
        "top3_pred = top3_pred[['raceid', 'KettoNum', 'Top 3 prob', 'Top 3', 'Truth']]\n",
        "top3_pred.rename({\"Top 3\": 'Top 3 pred'}, axis=1, inplace= True)\n",
        "top3_pred.head()"
      ]
    },
    {
      "cell_type": "code",
      "execution_count": 21,
      "metadata": {
        "id": "l8lW1aCkZ9IK"
      },
      "outputs": [],
      "source": [
        "top3_pred.to_csv(os.path.join(data_path,'historical_race_results.csv'), index=False)"
      ]
    },
    {
      "cell_type": "code",
      "execution_count": 22,
      "metadata": {
        "id": "gB1v-tQtZ9IL"
      },
      "outputs": [],
      "source": [
        "with open(os.path.join(data_path + 'scaler.pickle'), 'wb') as f:\n",
        "    f.write(pickle.dumps(scaler))"
      ]
    }
  ],
  "metadata": {
    "colab": {
      "collapsed_sections": [
        "B4XfDNiDhkVd",
        "XtangjwJhnsO"
      ],
      "private_outputs": true,
      "provenance": []
    },
    "gpuClass": "standard",
    "kernelspec": {
      "display_name": "Python 3.8.8 ('base')",
      "language": "python",
      "name": "python3"
    },
    "language_info": {
      "codemirror_mode": {
        "name": "ipython",
        "version": 3
      },
      "file_extension": ".py",
      "mimetype": "text/x-python",
      "name": "python",
      "nbconvert_exporter": "python",
      "pygments_lexer": "ipython3",
      "version": "3.8.8"
    },
    "orig_nbformat": 4,
    "vscode": {
      "interpreter": {
        "hash": "e03f6116cfce4490e4a2d0de95175f66d612656664c145165e733f456e1250ed"
      }
    }
  },
  "nbformat": 4,
  "nbformat_minor": 0
}
